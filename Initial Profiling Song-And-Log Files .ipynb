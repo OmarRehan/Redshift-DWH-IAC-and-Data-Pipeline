{
 "cells": [
  {
   "cell_type": "markdown",
   "metadata": {
    "editable": true
   },
   "source": [
    "# EDA - Log Files"
   ]
  },
  {
   "cell_type": "markdown",
   "metadata": {
    "editable": true
   },
   "source": [
    "This Notebook is to analyze the Data after loading into Dummy Staging Tables with long Varchar Types"
   ]
  },
  {
   "cell_type": "code",
   "execution_count": 1,
   "metadata": {
    "editable": true
   },
   "outputs": [],
   "source": [
    "import configparser\n",
    "import psycopg2\n",
    "import pandas as pd"
   ]
  },
  {
   "cell_type": "code",
   "execution_count": 2,
   "metadata": {
    "editable": true
   },
   "outputs": [],
   "source": [
    "def func_connect_redshift():\n",
    "    \"\"\"Create a Connection to the Cluster\"\"\"\n",
    "    config = configparser.ConfigParser()\n",
    "    config.read('dwh.cfg')\n",
    "\n",
    "    config_db_name = config.get('CLUSTER','db_name')\n",
    "    config_db_user = config.get('CLUSTER','db_user')\n",
    "    config_db_password = config.get('CLUSTER','db_password')\n",
    "    config_dwh_end_point = config.get('CLUSTER','dwh_end_point')\n",
    "    config_db_port = config.get('CLUSTER','db_port')\n",
    "    \n",
    "    conn = psycopg2.connect(\"host={} dbname={} user={} password={} port={}\".format(config_dwh_end_point,config_db_name,config_db_user,config_db_password,config_db_port))\n",
    "    cur = conn.cursor()\n",
    "    \n",
    "    return conn,cur"
   ]
  },
  {
   "cell_type": "code",
   "execution_count": 3,
   "metadata": {
    "editable": true
   },
   "outputs": [],
   "source": [
    "conn, cur = func_connect_redshift()"
   ]
  },
  {
   "cell_type": "code",
   "execution_count": 4,
   "metadata": {
    "editable": true
   },
   "outputs": [
    {
     "data": {
      "text/plain": [
       "<connection object at 0x7f4f0dfd8508; dsn: 'user=sparkify_user password=xxx dbname=sparkify_db host=sparkify-dwh.ct9qgawfx2gi.us-west-2.redshift.amazonaws.com port=5439', closed: 0>"
      ]
     },
     "execution_count": 4,
     "metadata": {},
     "output_type": "execute_result"
    }
   ],
   "source": [
    "conn"
   ]
  },
  {
   "cell_type": "markdown",
   "metadata": {
    "editable": true
   },
   "source": [
    "## Creating the Dummy Staging Schema and Tables for Data Ingestion then Profling"
   ]
  },
  {
   "cell_type": "code",
   "execution_count": 5,
   "metadata": {
    "editable": true
   },
   "outputs": [],
   "source": [
    "cur.execute('CREATE SCHEMA IF NOT EXISTS STAGING_SCHEMA;')"
   ]
  },
  {
   "cell_type": "markdown",
   "metadata": {
    "editable": true
   },
   "source": [
    "## Song Dummy Staging Table DDL"
   ]
  },
  {
   "cell_type": "code",
   "execution_count": null,
   "metadata": {
    "editable": true
   },
   "outputs": [],
   "source": [
    "cur.execute(\"\"\"\n",
    "CREATE TABLE IF NOT EXISTS STAGING_SCHEMA.STG_DUMMY_SONG\n",
    "(\n",
    "    num_songs VARCHAR(500),\n",
    "    artist_id VARCHAR(500),\n",
    "    artist_latitude VARCHAR(500),\n",
    "    artist_longitude VARCHAR(500),\n",
    "    artist_location VARCHAR(500),\n",
    "    artist_name VARCHAR(500),\n",
    "    song_id VARCHAR(500),\n",
    "    title VARCHAR(500),\n",
    "    duration VARCHAR(500),\n",
    "    year VARCHAR(500)\n",
    ");\n",
    "\"\"\")"
   ]
  },
  {
   "cell_type": "code",
   "execution_count": null,
   "metadata": {
    "editable": true
   },
   "outputs": [],
   "source": [
    "conn.commit()"
   ]
  },
  {
   "cell_type": "markdown",
   "metadata": {
    "editable": true
   },
   "source": [
    "## Loading Song Data into the Dummy Staging Song Table"
   ]
  },
  {
   "cell_type": "code",
   "execution_count": null,
   "metadata": {
    "editable": true
   },
   "outputs": [],
   "source": [
    "cur.execute(\"\"\"\n",
    "COPY STAGING_SCHEMA.STG_DUMMY_SONG \n",
    "from 's3://udacity-dend/song_data/' \n",
    "CREDENTIALS 'aws_iam_role=arn:aws:iam::131785130434:role/redshift_IAM_role'\n",
    "JSON 'auto' REGION 'us-west-2';\n",
    "\"\"\")"
   ]
  },
  {
   "cell_type": "code",
   "execution_count": null,
   "metadata": {
    "editable": true
   },
   "outputs": [],
   "source": [
    "# conn.commit()"
   ]
  },
  {
   "cell_type": "code",
   "execution_count": null,
   "metadata": {
    "editable": true
   },
   "outputs": [],
   "source": [
    "# Checking if there are any errors arose during the data load\n",
    "cur.execute(\"\"\"SELECT * FROM stl_load_errors LIMIT 5;\"\"\")"
   ]
  },
  {
   "cell_type": "code",
   "execution_count": null,
   "metadata": {
    "editable": true
   },
   "outputs": [],
   "source": [
    "# No Errors during the Data Load\n",
    "cur.fetchall()"
   ]
  },
  {
   "cell_type": "code",
   "execution_count": null,
   "metadata": {
    "editable": true
   },
   "outputs": [],
   "source": [
    "cur.execute('SELECT COUNT(*) FROM STAGING_SCHEMA.STG_DUMMY_SONG')"
   ]
  },
  {
   "cell_type": "code",
   "execution_count": null,
   "metadata": {
    "editable": true
   },
   "outputs": [],
   "source": [
    "# # As we can see the loaded data are 14896 which can be fitted into a pandas dataframe easily without any problems\n",
    "# cur.fetchall()[0][0]"
   ]
  },
  {
   "cell_type": "code",
   "execution_count": null,
   "metadata": {
    "editable": true
   },
   "outputs": [],
   "source": [
    "cur.execute('SELECT * FROM STAGING_SCHEMA.STG_DUMMY_SONG LIMIT 5;')"
   ]
  },
  {
   "cell_type": "code",
   "execution_count": null,
   "metadata": {
    "editable": true
   },
   "outputs": [],
   "source": [
    "cur.fetchall()"
   ]
  },
  {
   "cell_type": "markdown",
   "metadata": {
    "editable": true
   },
   "source": [
    "## Log Dummy Staging Table DDL"
   ]
  },
  {
   "cell_type": "code",
   "execution_count": 6,
   "metadata": {
    "editable": true
   },
   "outputs": [],
   "source": [
    "cur.execute(\"\"\"\n",
    "CREATE TABLE IF NOT EXISTS STAGING_SCHEMA.STG_DUMMY_LOG\n",
    "(\n",
    "    artist VARCHAR(500),\n",
    "    auth VARCHAR(500),\n",
    "    firstname VARCHAR(500),\n",
    "    gender VARCHAR(500),\n",
    "    iteminsession VARCHAR(500),\n",
    "    lastname VARCHAR(500),\n",
    "    length VARCHAR(500),\n",
    "    level VARCHAR(500),\n",
    "    location VARCHAR(500),\n",
    "    method VARCHAR(500),\n",
    "    page VARCHAR(500),\n",
    "    registration VARCHAR(500),\n",
    "    sessionid VARCHAR(500),\n",
    "    song VARCHAR(500),\n",
    "    status VARCHAR(500),\n",
    "    ts VARCHAR(500),\n",
    "    useragent VARCHAR(500),\n",
    "    userid VARCHAR(500)\n",
    ")\n",
    "\"\"\")"
   ]
  },
  {
   "cell_type": "code",
   "execution_count": 7,
   "metadata": {
    "editable": true
   },
   "outputs": [],
   "source": [
    "conn.commit()"
   ]
  },
  {
   "cell_type": "markdown",
   "metadata": {
    "editable": true
   },
   "source": [
    "## Loading Song Data into the Dummy Staging Log Table"
   ]
  },
  {
   "cell_type": "code",
   "execution_count": null,
   "metadata": {
    "editable": true
   },
   "outputs": [],
   "source": [
    "# cur.execute(\"\"\"DROP TABLE STAGING_SCHEMA.STG_DUMMY_LOG\"\"\")\n",
    "# conn.commit()"
   ]
  },
  {
   "cell_type": "code",
   "execution_count": 8,
   "metadata": {
    "editable": true
   },
   "outputs": [],
   "source": [
    "cur.execute(\"\"\"\n",
    "COPY STAGING_SCHEMA.STG_DUMMY_LOG \n",
    "from 's3://udacity-dend/log_data/' \n",
    "CREDENTIALS 'aws_iam_role=arn:aws:iam::131785130434:role/redshift_IAM_role'\n",
    "JSON 's3://udacity-dend/log_json_path.json' REGION 'us-west-2';\n",
    "\"\"\")"
   ]
  },
  {
   "cell_type": "code",
   "execution_count": 9,
   "metadata": {
    "editable": true
   },
   "outputs": [],
   "source": [
    "conn.commit()"
   ]
  },
  {
   "cell_type": "code",
   "execution_count": 10,
   "metadata": {
    "editable": true
   },
   "outputs": [],
   "source": [
    "cur.execute(\"\"\"SELECT COUNT(*) FROM STAGING_SCHEMA.STG_DUMMY_LOG;\"\"\")"
   ]
  },
  {
   "cell_type": "code",
   "execution_count": 11,
   "metadata": {
    "editable": true
   },
   "outputs": [
    {
     "data": {
      "text/plain": [
       "[(8056,)]"
      ]
     },
     "execution_count": 11,
     "metadata": {},
     "output_type": "execute_result"
    }
   ],
   "source": [
    "cur.fetchall()"
   ]
  },
  {
   "cell_type": "code",
   "execution_count": 12,
   "metadata": {
    "editable": true
   },
   "outputs": [],
   "source": [
    "cur.execute(\"\"\"\n",
    "SELECT MAX(LEN(artist)),'artist' FROM STAGING_SCHEMA.STG_DUMMY_LOG\n",
    "UNION\n",
    "SELECT MAX(LEN(auth)),'auth' FROM STAGING_SCHEMA.STG_DUMMY_LOG\n",
    "UNION\n",
    "SELECT MAX(LEN(firstName)),'firstName' FROM STAGING_SCHEMA.STG_DUMMY_LOG\n",
    "UNION\n",
    "SELECT MAX(LEN(gender)),'gender' FROM STAGING_SCHEMA.STG_DUMMY_LOG\n",
    "UNION\n",
    "SELECT MAX(LEN(ItemInSession)),'ItemInSession' FROM STAGING_SCHEMA.STG_DUMMY_LOG\n",
    "UNION\n",
    "SELECT MAX(LEN(lastName)),'lastName' FROM STAGING_SCHEMA.STG_DUMMY_LOG\n",
    "UNION\n",
    "SELECT MAX(LEN(length)),'length' FROM STAGING_SCHEMA.STG_DUMMY_LOG\n",
    "UNION\n",
    "SELECT MAX(LEN(level)),'level' FROM STAGING_SCHEMA.STG_DUMMY_LOG\n",
    "UNION\n",
    "SELECT MAX(LEN(location)),'location' FROM STAGING_SCHEMA.STG_DUMMY_LOG\n",
    "UNION\n",
    "SELECT MAX(LEN(method)),'method' FROM STAGING_SCHEMA.STG_DUMMY_LOG\n",
    "UNION\n",
    "SELECT MAX(LEN(page)),'page' FROM STAGING_SCHEMA.STG_DUMMY_LOG\n",
    "UNION\n",
    "SELECT MAX(LEN(registration)),'registration' FROM STAGING_SCHEMA.STG_DUMMY_LOG\n",
    "UNION\n",
    "SELECT MAX(LEN(sessionId)),'sessionId' FROM STAGING_SCHEMA.STG_DUMMY_LOG\n",
    "UNION\n",
    "SELECT MAX(LEN(song)),'song' FROM STAGING_SCHEMA.STG_DUMMY_LOG\n",
    "UNION\n",
    "SELECT MAX(LEN(status)),'status' FROM STAGING_SCHEMA.STG_DUMMY_LOG\n",
    "UNION\n",
    "SELECT MAX(LEN(ts)),'ts' FROM STAGING_SCHEMA.STG_DUMMY_LOG\n",
    "UNION\n",
    "SELECT MAX(LEN(userAgent)),'userAgent' FROM STAGING_SCHEMA.STG_DUMMY_LOG\n",
    "UNION\n",
    "SELECT MAX(LEN(userId )),'userId' FROM STAGING_SCHEMA.STG_DUMMY_LOG\n",
    "\"\"\")"
   ]
  },
  {
   "cell_type": "code",
   "execution_count": 13,
   "metadata": {
    "editable": true
   },
   "outputs": [
    {
     "data": {
      "text/plain": [
       "[(4, 'sessionId'),\n",
       " (18, 'length'),\n",
       " (89, 'artist'),\n",
       " (3, 'method'),\n",
       " (9, 'lastName'),\n",
       " (3, 'status'),\n",
       " (10, 'firstName'),\n",
       " (10, 'auth'),\n",
       " (46, 'location'),\n",
       " (13, 'ts'),\n",
       " (151, 'song'),\n",
       " (4, 'level'),\n",
       " (16, 'page'),\n",
       " (1, 'gender'),\n",
       " (3, 'userId'),\n",
       " (13, 'registration'),\n",
       " (139, 'userAgent'),\n",
       " (3, 'ItemInSession')]"
      ]
     },
     "execution_count": 13,
     "metadata": {},
     "output_type": "execute_result"
    }
   ],
   "source": [
    "cur.fetchall()"
   ]
  }
 ],
 "metadata": {
  "kernelspec": {
   "display_name": "Python 3",
   "language": "python",
   "name": "python3"
  },
  "language_info": {
   "codemirror_mode": {
    "name": "ipython",
    "version": 3
   },
   "file_extension": ".py",
   "mimetype": "text/x-python",
   "name": "python",
   "nbconvert_exporter": "python",
   "pygments_lexer": "ipython3",
   "version": "3.6.3"
  }
 },
 "nbformat": 4,
 "nbformat_minor": 4
}
