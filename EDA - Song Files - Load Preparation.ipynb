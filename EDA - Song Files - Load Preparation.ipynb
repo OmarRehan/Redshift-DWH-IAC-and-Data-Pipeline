{
 "cells": [
  {
   "cell_type": "markdown",
   "metadata": {
    "editable": true
   },
   "source": [
    "# EDA - Song Files"
   ]
  },
  {
   "cell_type": "markdown",
   "metadata": {
    "editable": true
   },
   "source": [
    "This Notebook is to analyze the Data after loading into the main Staging Tables"
   ]
  },
  {
   "cell_type": "markdown",
   "metadata": {
    "editable": true
   },
   "source": [
    "The Main Objectives are\n",
    "- Defining the best Data types for all the Columns \n",
    "- Checking the Quality of the Data to handle corrupted data\n",
    "- Defining the PKs, Distribution & Sorting Keys for optimization"
   ]
  },
  {
   "cell_type": "code",
   "execution_count": 1,
   "metadata": {
    "editable": true
   },
   "outputs": [],
   "source": [
    "import configparser\n",
    "import psycopg2\n",
    "import pandas as pd\n",
    "from IAC_create_redshift_cluster import func_connect_to_redshift"
   ]
  },
  {
   "cell_type": "code",
   "execution_count": 2,
   "metadata": {
    "editable": true
   },
   "outputs": [
    {
     "name": "stdout",
     "output_type": "stream",
     "text": [
      " Connected to sparkify_db, Host: sparkify-dwh.ct9qgawfx2gi.us-west-2.redshift.amazonaws.com, User: sparkify_user\n"
     ]
    }
   ],
   "source": [
    "try:\n",
    "    # Connecting to the Cluster\n",
    "    conn, cur = func_connect_to_redshift('dwh.cfg')\n",
    "\n",
    "    dict_conn_info = conn.get_dsn_parameters()\n",
    "\n",
    "    print(\" Connected to {}, Host: {}, User: {}\".format \\\n",
    "            (\n",
    "            dict_conn_info.get('dbname')\n",
    "            , dict_conn_info.get('host')\n",
    "            , dict_conn_info.get('user')\n",
    "        )\n",
    "    )\n",
    "\n",
    "except Exception as e:\n",
    "    print(\" Faild to Connect to the Cluster, {}\".format(e))\n",
    "    sys.exit(-1)"
   ]
  },
  {
   "cell_type": "code",
   "execution_count": 3,
   "metadata": {
    "editable": true
   },
   "outputs": [
    {
     "data": {
      "text/plain": [
       "<connection object at 0x7f6d1d03a048; dsn: 'user=sparkify_user password=xxx dbname=sparkify_db host=sparkify-dwh.ct9qgawfx2gi.us-west-2.redshift.amazonaws.com port=5439', closed: 0>"
      ]
     },
     "execution_count": 3,
     "metadata": {},
     "output_type": "execute_result"
    }
   ],
   "source": [
    "conn"
   ]
  },
  {
   "cell_type": "code",
   "execution_count": 4,
   "metadata": {
    "editable": true
   },
   "outputs": [],
   "source": [
    "config = configparser.ConfigParser()\n",
    "config.read('dwh.cfg')\n",
    "config_dwh_arn = config.get('CLUSTER','dwh_arn')"
   ]
  },
  {
   "cell_type": "code",
   "execution_count": 5,
   "metadata": {
    "editable": true
   },
   "outputs": [],
   "source": [
    "cur.execute('CREATE SCHEMA IF NOT EXISTS STAGING_SCHEMA;')"
   ]
  },
  {
   "cell_type": "markdown",
   "metadata": {
    "editable": true
   },
   "source": [
    "## Song Data Staging Table DDL"
   ]
  },
  {
   "cell_type": "code",
   "execution_count": 6,
   "metadata": {
    "editable": true
   },
   "outputs": [],
   "source": [
    "cur.execute(\"\"\"CREATE TABLE IF NOT EXISTS STAGING_SCHEMA.STG_SONG\n",
    "(\n",
    "    num_songs VARCHAR(10),\n",
    "    artist_id VARCHAR(50),\n",
    "    artist_latitude VARCHAR(50),\n",
    "    artist_longitude VARCHAR(50),\n",
    "    artist_location VARCHAR(250),\n",
    "    artist_name VARCHAR(250),\n",
    "    song_id VARCHAR(50),\n",
    "    title VARCHAR(250),\n",
    "    duration VARCHAR(50),\n",
    "    year VARCHAR(10)\n",
    ")\"\"\")\n",
    "conn.commit()"
   ]
  },
  {
   "cell_type": "code",
   "execution_count": 7,
   "metadata": {
    "editable": true
   },
   "outputs": [],
   "source": [
    "cur.execute(\"\"\"\n",
    "COPY STAGING_SCHEMA.STG_SONG \n",
    "from 's3://udacity-dend/song_data/' \n",
    "CREDENTIALS 'aws_iam_role={}'\n",
    "JSON 'auto' REGION 'us-west-2';\n",
    "\"\"\".format(config_dwh_arn))"
   ]
  },
  {
   "cell_type": "code",
   "execution_count": 8,
   "metadata": {
    "editable": true
   },
   "outputs": [],
   "source": [
    "conn.commit()"
   ]
  },
  {
   "cell_type": "code",
   "execution_count": 9,
   "metadata": {
    "editable": true
   },
   "outputs": [],
   "source": [
    "cur.execute(\"\"\"SELECT COUNT(*) FROM STAGING_SCHEMA.STG_SONG;\"\"\")"
   ]
  },
  {
   "cell_type": "code",
   "execution_count": 10,
   "metadata": {
    "editable": true
   },
   "outputs": [
    {
     "data": {
      "text/plain": [
       "14896"
      ]
     },
     "execution_count": 10,
     "metadata": {},
     "output_type": "execute_result"
    }
   ],
   "source": [
    "cur.fetchall()[0][0]"
   ]
  },
  {
   "cell_type": "code",
   "execution_count": 11,
   "metadata": {
    "editable": true
   },
   "outputs": [],
   "source": [
    "cur.execute(\"\"\"SELECT * FROM STAGING_SCHEMA.STG_SONG;\"\"\")"
   ]
  },
  {
   "cell_type": "code",
   "execution_count": 12,
   "metadata": {
    "editable": true
   },
   "outputs": [],
   "source": [
    "# This Dataframe contains all the Song Data\n",
    "df_song_data = pd.DataFrame(data=cur.fetchall(),columns=['num_songs','artist_id','artist_latitude','artist_longitude','artist_location','artist_name','song_id','title','duration','year'])"
   ]
  },
  {
   "cell_type": "markdown",
   "metadata": {
    "editable": true
   },
   "source": [
    "## Songs Data Files Profiling"
   ]
  },
  {
   "cell_type": "code",
   "execution_count": 13,
   "metadata": {
    "editable": true
   },
   "outputs": [
    {
     "data": {
      "text/html": [
       "<div>\n",
       "<style scoped>\n",
       "    .dataframe tbody tr th:only-of-type {\n",
       "        vertical-align: middle;\n",
       "    }\n",
       "\n",
       "    .dataframe tbody tr th {\n",
       "        vertical-align: top;\n",
       "    }\n",
       "\n",
       "    .dataframe thead th {\n",
       "        text-align: right;\n",
       "    }\n",
       "</style>\n",
       "<table border=\"1\" class=\"dataframe\">\n",
       "  <thead>\n",
       "    <tr style=\"text-align: right;\">\n",
       "      <th></th>\n",
       "      <th>num_songs</th>\n",
       "      <th>artist_id</th>\n",
       "      <th>artist_latitude</th>\n",
       "      <th>artist_longitude</th>\n",
       "      <th>artist_location</th>\n",
       "      <th>artist_name</th>\n",
       "      <th>song_id</th>\n",
       "      <th>title</th>\n",
       "      <th>duration</th>\n",
       "      <th>year</th>\n",
       "    </tr>\n",
       "  </thead>\n",
       "  <tbody>\n",
       "    <tr>\n",
       "      <th>0</th>\n",
       "      <td>1</td>\n",
       "      <td>ARBZIN01187FB362CC</td>\n",
       "      <td>1.32026</td>\n",
       "      <td>103.78870999999999</td>\n",
       "      <td>27</td>\n",
       "      <td>Paris Hilton</td>\n",
       "      <td>SOERIDA12A6D4F8506</td>\n",
       "      <td>I Want You (Album Version)</td>\n",
       "      <td>192.28689</td>\n",
       "      <td>2006</td>\n",
       "    </tr>\n",
       "    <tr>\n",
       "      <th>1</th>\n",
       "      <td>1</td>\n",
       "      <td>ARKIQCZ1187B9A7C7C</td>\n",
       "      <td>52.239739999999998</td>\n",
       "      <td>-0.88575999999999999</td>\n",
       "      <td>Northampton, Northamptonshire, En</td>\n",
       "      <td>Bauhaus</td>\n",
       "      <td>SOSIJKW12A8C1330E3</td>\n",
       "      <td>A God In An Alcove (Session Version)</td>\n",
       "      <td>248.65914000000001</td>\n",
       "      <td>0</td>\n",
       "    </tr>\n",
       "    <tr>\n",
       "      <th>2</th>\n",
       "      <td>1</td>\n",
       "      <td>ARQVORN11F50C4EFEC</td>\n",
       "      <td>None</td>\n",
       "      <td>None</td>\n",
       "      <td></td>\n",
       "      <td>Bedlight For Blue Eyes</td>\n",
       "      <td>SOMFRKT12A8C146C67</td>\n",
       "      <td>Without You</td>\n",
       "      <td>165.38077000000001</td>\n",
       "      <td>0</td>\n",
       "    </tr>\n",
       "    <tr>\n",
       "      <th>3</th>\n",
       "      <td>1</td>\n",
       "      <td>AR7WK5411A348EF5EA</td>\n",
       "      <td>48.856920000000002</td>\n",
       "      <td>2.3412099999999998</td>\n",
       "      <td>PARIS - NANTES</td>\n",
       "      <td>Minitel Rose</td>\n",
       "      <td>SOTCOTZ12A8C136BCB</td>\n",
       "      <td>Elevator</td>\n",
       "      <td>248.31954999999999</td>\n",
       "      <td>2008</td>\n",
       "    </tr>\n",
       "    <tr>\n",
       "      <th>4</th>\n",
       "      <td>1</td>\n",
       "      <td>AR0IT221187B999C4D</td>\n",
       "      <td>50.501010000000001</td>\n",
       "      <td>4.4768400000000002</td>\n",
       "      <td>BELGIUM</td>\n",
       "      <td>The Weathermen</td>\n",
       "      <td>SOFJPHQ12A6D4FBA32</td>\n",
       "      <td>Let Them Come To Berlin</td>\n",
       "      <td>246.17751000000001</td>\n",
       "      <td>0</td>\n",
       "    </tr>\n",
       "  </tbody>\n",
       "</table>\n",
       "</div>"
      ],
      "text/plain": [
       "  num_songs           artist_id     artist_latitude      artist_longitude  \\\n",
       "0         1  ARBZIN01187FB362CC             1.32026    103.78870999999999   \n",
       "1         1  ARKIQCZ1187B9A7C7C  52.239739999999998  -0.88575999999999999   \n",
       "2         1  ARQVORN11F50C4EFEC                None                  None   \n",
       "3         1  AR7WK5411A348EF5EA  48.856920000000002    2.3412099999999998   \n",
       "4         1  AR0IT221187B999C4D  50.501010000000001    4.4768400000000002   \n",
       "\n",
       "                     artist_location             artist_name  \\\n",
       "0                                 27            Paris Hilton   \n",
       "1  Northampton, Northamptonshire, En                 Bauhaus   \n",
       "2                                     Bedlight For Blue Eyes   \n",
       "3                     PARIS - NANTES            Minitel Rose   \n",
       "4                            BELGIUM          The Weathermen   \n",
       "\n",
       "              song_id                                 title  \\\n",
       "0  SOERIDA12A6D4F8506            I Want You (Album Version)   \n",
       "1  SOSIJKW12A8C1330E3  A God In An Alcove (Session Version)   \n",
       "2  SOMFRKT12A8C146C67                           Without You   \n",
       "3  SOTCOTZ12A8C136BCB                              Elevator   \n",
       "4  SOFJPHQ12A6D4FBA32               Let Them Come To Berlin   \n",
       "\n",
       "             duration  year  \n",
       "0           192.28689  2006  \n",
       "1  248.65914000000001     0  \n",
       "2  165.38077000000001     0  \n",
       "3  248.31954999999999  2008  \n",
       "4  246.17751000000001     0  "
      ]
     },
     "execution_count": 13,
     "metadata": {},
     "output_type": "execute_result"
    }
   ],
   "source": [
    "df_song_data.head()"
   ]
  },
  {
   "cell_type": "code",
   "execution_count": 14,
   "metadata": {
    "editable": true
   },
   "outputs": [
    {
     "data": {
      "text/html": [
       "<div>\n",
       "<style scoped>\n",
       "    .dataframe tbody tr th:only-of-type {\n",
       "        vertical-align: middle;\n",
       "    }\n",
       "\n",
       "    .dataframe tbody tr th {\n",
       "        vertical-align: top;\n",
       "    }\n",
       "\n",
       "    .dataframe thead th {\n",
       "        text-align: right;\n",
       "    }\n",
       "</style>\n",
       "<table border=\"1\" class=\"dataframe\">\n",
       "  <thead>\n",
       "    <tr style=\"text-align: right;\">\n",
       "      <th></th>\n",
       "      <th>num_songs</th>\n",
       "      <th>artist_id</th>\n",
       "      <th>artist_latitude</th>\n",
       "      <th>artist_longitude</th>\n",
       "      <th>artist_location</th>\n",
       "      <th>artist_name</th>\n",
       "      <th>song_id</th>\n",
       "      <th>title</th>\n",
       "      <th>duration</th>\n",
       "      <th>year</th>\n",
       "    </tr>\n",
       "  </thead>\n",
       "  <tbody>\n",
       "    <tr>\n",
       "      <th>count</th>\n",
       "      <td>14896</td>\n",
       "      <td>14896</td>\n",
       "      <td>5277</td>\n",
       "      <td>5277</td>\n",
       "      <td>14895</td>\n",
       "      <td>14896</td>\n",
       "      <td>14896</td>\n",
       "      <td>14896</td>\n",
       "      <td>14896</td>\n",
       "      <td>14896</td>\n",
       "    </tr>\n",
       "    <tr>\n",
       "      <th>unique</th>\n",
       "      <td>1</td>\n",
       "      <td>9553</td>\n",
       "      <td>1109</td>\n",
       "      <td>1110</td>\n",
       "      <td>2084</td>\n",
       "      <td>9936</td>\n",
       "      <td>14896</td>\n",
       "      <td>14402</td>\n",
       "      <td>8460</td>\n",
       "      <td>60</td>\n",
       "    </tr>\n",
       "    <tr>\n",
       "      <th>top</th>\n",
       "      <td>1</td>\n",
       "      <td>ARYPTWE1187FB49D64</td>\n",
       "      <td>40.714550000000003</td>\n",
       "      <td>-74.00712</td>\n",
       "      <td></td>\n",
       "      <td>Badly Drawn Boy</td>\n",
       "      <td>SOFRAZJ12A8C143CDB</td>\n",
       "      <td>Intro</td>\n",
       "      <td>199.78404</td>\n",
       "      <td>0</td>\n",
       "    </tr>\n",
       "    <tr>\n",
       "      <th>freq</th>\n",
       "      <td>14896</td>\n",
       "      <td>9</td>\n",
       "      <td>278</td>\n",
       "      <td>278</td>\n",
       "      <td>6694</td>\n",
       "      <td>9</td>\n",
       "      <td>1</td>\n",
       "      <td>25</td>\n",
       "      <td>11</td>\n",
       "      <td>4762</td>\n",
       "    </tr>\n",
       "  </tbody>\n",
       "</table>\n",
       "</div>"
      ],
      "text/plain": [
       "       num_songs           artist_id     artist_latitude artist_longitude  \\\n",
       "count      14896               14896                5277             5277   \n",
       "unique         1                9553                1109             1110   \n",
       "top            1  ARYPTWE1187FB49D64  40.714550000000003        -74.00712   \n",
       "freq       14896                   9                 278              278   \n",
       "\n",
       "       artist_location      artist_name             song_id  title   duration  \\\n",
       "count            14895            14896               14896  14896      14896   \n",
       "unique            2084             9936               14896  14402       8460   \n",
       "top                     Badly Drawn Boy  SOFRAZJ12A8C143CDB  Intro  199.78404   \n",
       "freq              6694                9                   1     25         11   \n",
       "\n",
       "         year  \n",
       "count   14896  \n",
       "unique     60  \n",
       "top         0  \n",
       "freq     4762  "
      ]
     },
     "execution_count": 14,
     "metadata": {},
     "output_type": "execute_result"
    }
   ],
   "source": [
    "df_song_data.describe(include='O')"
   ]
  },
  {
   "cell_type": "markdown",
   "metadata": {
    "editable": true
   },
   "source": [
    "From the Above cell we can see the below:\n",
    "- All Data loaded successfully in the DF\n",
    "- We have data for 60 Years\n",
    "- Song ID is the Unique column in the Song Data\n",
    "- Many Null Values in artist_latitude & artist_longitude, and one null value in artist_location\n",
    "- num_songs is useless column because it contains only one value"
   ]
  },
  {
   "cell_type": "markdown",
   "metadata": {
    "editable": true
   },
   "source": [
    "### Checking Data Completness"
   ]
  },
  {
   "cell_type": "code",
   "execution_count": 15,
   "metadata": {
    "editable": true
   },
   "outputs": [
    {
     "data": {
      "text/plain": [
       "num_songs              0\n",
       "artist_id              0\n",
       "artist_latitude     9619\n",
       "artist_longitude    9619\n",
       "artist_location        1\n",
       "artist_name            0\n",
       "song_id                0\n",
       "title                  0\n",
       "duration               0\n",
       "year                   0\n",
       "dtype: int64"
      ]
     },
     "execution_count": 15,
     "metadata": {},
     "output_type": "execute_result"
    }
   ],
   "source": [
    "df_song_data.isnull().sum()"
   ]
  },
  {
   "cell_type": "code",
   "execution_count": 16,
   "metadata": {
    "editable": true
   },
   "outputs": [
    {
     "data": {
      "text/plain": [
       "num_songs           False\n",
       "artist_id           False\n",
       "artist_latitude     False\n",
       "artist_longitude    False\n",
       "artist_location      True\n",
       "artist_name         False\n",
       "song_id             False\n",
       "title               False\n",
       "duration            False\n",
       "year                False\n",
       "dtype: bool"
      ]
     },
     "execution_count": 16,
     "metadata": {},
     "output_type": "execute_result"
    }
   ],
   "source": [
    "# Checking the empty Strings in all the Columns\n",
    "df_song_data.applymap(lambda x:x==\"\").any()"
   ]
  },
  {
   "cell_type": "code",
   "execution_count": 17,
   "metadata": {
    "editable": true
   },
   "outputs": [
    {
     "data": {
      "text/plain": [
       "6694"
      ]
     },
     "execution_count": 17,
     "metadata": {},
     "output_type": "execute_result"
    }
   ],
   "source": [
    "# 6694 empty Strings in artist_location\n",
    "len(df_song_data[df_song_data.artist_location == ''])"
   ]
  },
  {
   "cell_type": "code",
   "execution_count": 18,
   "metadata": {
    "editable": true
   },
   "outputs": [
    {
     "data": {
      "text/plain": [
       "num_songs           False\n",
       "artist_id           False\n",
       "artist_latitude     False\n",
       "artist_longitude    False\n",
       "artist_location     False\n",
       "artist_name         False\n",
       "song_id             False\n",
       "title               False\n",
       "duration            False\n",
       "year                 True\n",
       "dtype: bool"
      ]
     },
     "execution_count": 18,
     "metadata": {},
     "output_type": "execute_result"
    }
   ],
   "source": [
    "# Checking '0' in the Data\n",
    "df_song_data.applymap(lambda x:x=='0').any()"
   ]
  },
  {
   "cell_type": "code",
   "execution_count": 19,
   "metadata": {
    "editable": true
   },
   "outputs": [
    {
     "data": {
      "text/plain": [
       "4762"
      ]
     },
     "execution_count": 19,
     "metadata": {},
     "output_type": "execute_result"
    }
   ],
   "source": [
    "# 4762 Zeroes in year column\n",
    "len(df_song_data[df_song_data.year == '0'])"
   ]
  },
  {
   "cell_type": "code",
   "execution_count": 20,
   "metadata": {
    "editable": true
   },
   "outputs": [
    {
     "data": {
      "text/plain": [
       "year    True\n",
       "dtype: bool"
      ]
     },
     "execution_count": 20,
     "metadata": {},
     "output_type": "execute_result"
    }
   ],
   "source": [
    "# Checking if Year contains non integer Values\n",
    "df_song_data[['year']].applymap(lambda x : x.isdigit()).all()"
   ]
  },
  {
   "cell_type": "markdown",
   "metadata": {
    "editable": true
   },
   "source": [
    "### Checking the Lengthes of all the Columns"
   ]
  },
  {
   "cell_type": "code",
   "execution_count": 21,
   "metadata": {
    "editable": true
   },
   "outputs": [
    {
     "name": "stdout",
     "output_type": "stream",
     "text": [
      "num_songs : 1\n",
      "artist_id : 18\n",
      "artist_latitude : 19.0\n",
      "artist_longitude : 22.0\n",
      "artist_location : 176.0\n",
      "artist_name : 177\n",
      "song_id : 18\n",
      "title : 173\n",
      "duration : 18\n",
      "year : 4\n"
     ]
    }
   ],
   "source": [
    "# Checking the Lengthes of all the Columns to define the approperiate Length & Data Type\n",
    "for col in df_song_data.dtypes[df_song_data.dtypes.values == 'object'].index:\n",
    "    print(\"{} : {}\".format(col,max(df_song_data[col].str.len().values)))"
   ]
  },
  {
   "cell_type": "code",
   "execution_count": 22,
   "metadata": {
    "editable": true
   },
   "outputs": [
    {
     "data": {
      "text/plain": [
       "18"
      ]
     },
     "execution_count": 22,
     "metadata": {},
     "output_type": "execute_result"
    }
   ],
   "source": [
    "len(max(df_song_data[~df_song_data.artist_latitude.isnull()]['artist_latitude']))"
   ]
  },
  {
   "cell_type": "code",
   "execution_count": 23,
   "metadata": {
    "editable": true
   },
   "outputs": [
    {
     "data": {
      "text/plain": [
       "18"
      ]
     },
     "execution_count": 23,
     "metadata": {},
     "output_type": "execute_result"
    }
   ],
   "source": [
    "len(max(df_song_data[~df_song_data.artist_longitude.isnull()]['artist_longitude']))"
   ]
  },
  {
   "cell_type": "markdown",
   "metadata": {
    "editable": true
   },
   "source": [
    "## Loading Song Table Data"
   ]
  },
  {
   "cell_type": "markdown",
   "metadata": {
    "editable": true
   },
   "source": [
    "In this Section we will define the DDL for Song Table & the Insert/Merge Query\n",
    "\n",
    "14896 records should be inserted into the Song table"
   ]
  },
  {
   "cell_type": "code",
   "execution_count": 24,
   "metadata": {
    "editable": true
   },
   "outputs": [],
   "source": [
    "cur.execute(\"\"\"CREATE SCHEMA IF NOT EXISTS SPARKIFY_SCHEMA;\"\"\")"
   ]
  },
  {
   "cell_type": "code",
   "execution_count": 25,
   "metadata": {
    "editable": true
   },
   "outputs": [],
   "source": [
    "conn.commit()"
   ]
  },
  {
   "cell_type": "code",
   "execution_count": 26,
   "metadata": {
    "editable": true
   },
   "outputs": [],
   "source": [
    "cur.execute(\"\"\"CREATE TABLE IF NOT EXISTS SPARKIFY_SCHEMA.SONG_TBL\n",
    "(\n",
    "    SONG_ID VARCHAR(50),\n",
    "    ARTIST_ID VARCHAR(50),\n",
    "    DURATION DOUBLE PRECISION,\n",
    "    SONG_TITLE VARCHAR(250) DEFAULT 'Unknwon',\n",
    "    SONG_YEAR INTEGER DEFAULT -9999,\n",
    "    PRIMARY KEY (SONG_ID,ARTIST_ID,DURATION)\n",
    ");\"\"\")\n",
    "conn.commit()"
   ]
  },
  {
   "cell_type": "code",
   "execution_count": 27,
   "metadata": {
    "editable": true
   },
   "outputs": [],
   "source": [
    "cur.execute(\"\"\"\n",
    "DELETE FROM SPARKIFY_SCHEMA.SONG_TBL \n",
    "USING STAGING_SCHEMA.STG_SONG\n",
    "WHERE SONG_TBL.song_id = STG_SONG.SONG_ID\n",
    "AND SONG_TBL.artist_id = STG_SONG.ARTIST_ID\n",
    "AND SONG_TBL.duration = CAST(STG_SONG.DURATION AS DOUBLE PRECISION);\n",
    "\"\"\")"
   ]
  },
  {
   "cell_type": "code",
   "execution_count": 28,
   "metadata": {
    "editable": true
   },
   "outputs": [],
   "source": [
    "conn.commit()"
   ]
  },
  {
   "cell_type": "code",
   "execution_count": 29,
   "metadata": {
    "editable": true
   },
   "outputs": [
    {
     "data": {
      "text/plain": [
       "14896"
      ]
     },
     "execution_count": 29,
     "metadata": {},
     "output_type": "execute_result"
    }
   ],
   "source": [
    "cur.rowcount"
   ]
  },
  {
   "cell_type": "code",
   "execution_count": 30,
   "metadata": {
    "editable": true
   },
   "outputs": [],
   "source": [
    "cur.execute(\"\"\"\n",
    "INSERT INTO SPARKIFY_SCHEMA.SONG_TBL\n",
    "SELECT DISTINCT \n",
    "TRIM(song_id),\n",
    "TRIM(artist_id),\n",
    "CAST(duration AS DOUBLE PRECISION) AS DURATION,\n",
    "TRIM(title) AS SONG_TITLE,\n",
    "CAST(CASE WHEN year = '0' THEN '-9999' ELSE year END AS INTEGER) AS SONG_YEAR\n",
    "FROM STAGING_SCHEMA.STG_SONG;\n",
    "\"\"\")"
   ]
  },
  {
   "cell_type": "code",
   "execution_count": 31,
   "metadata": {
    "editable": true
   },
   "outputs": [
    {
     "data": {
      "text/plain": [
       "14896"
      ]
     },
     "execution_count": 31,
     "metadata": {},
     "output_type": "execute_result"
    }
   ],
   "source": [
    "cur.rowcount"
   ]
  },
  {
   "cell_type": "code",
   "execution_count": 32,
   "metadata": {
    "editable": true
   },
   "outputs": [],
   "source": [
    "conn.commit()"
   ]
  },
  {
   "cell_type": "code",
   "execution_count": 33,
   "metadata": {
    "editable": true
   },
   "outputs": [],
   "source": [
    "cur.execute('SELECT DISTINCT SONG_YEAR FROM SPARKIFY_SCHEMA.SONG_TBL')"
   ]
  },
  {
   "cell_type": "code",
   "execution_count": 34,
   "metadata": {
    "editable": true
   },
   "outputs": [
    {
     "data": {
      "text/plain": [
       "[(1999,),\n",
       " (-9999,),\n",
       " (2002,),\n",
       " (2008,),\n",
       " (2006,),\n",
       " (1994,),\n",
       " (1966,),\n",
       " (1977,),\n",
       " (1954,),\n",
       " (1996,),\n",
       " (1995,),\n",
       " (1991,),\n",
       " (1990,),\n",
       " (1988,),\n",
       " (1984,),\n",
       " (1972,),\n",
       " (1989,),\n",
       " (1981,),\n",
       " (1969,),\n",
       " (1963,),\n",
       " (1979,),\n",
       " (1973,),\n",
       " (1958,),\n",
       " (2000,),\n",
       " (2009,),\n",
       " (1992,),\n",
       " (1987,),\n",
       " (1971,),\n",
       " (1974,),\n",
       " (1927,),\n",
       " (1964,),\n",
       " (1944,),\n",
       " (1956,),\n",
       " (2005,),\n",
       " (1997,),\n",
       " (1998,),\n",
       " (2001,),\n",
       " (1975,),\n",
       " (2010,),\n",
       " (1985,),\n",
       " (1980,),\n",
       " (1965,),\n",
       " (1978,),\n",
       " (1959,),\n",
       " (1970,),\n",
       " (1962,),\n",
       " (1960,),\n",
       " (1961,),\n",
       " (1952,),\n",
       " (2004,),\n",
       " (2007,),\n",
       " (2003,),\n",
       " (1993,),\n",
       " (1983,),\n",
       " (1986,),\n",
       " (1982,),\n",
       " (1976,),\n",
       " (1968,),\n",
       " (1967,),\n",
       " (1957,)]"
      ]
     },
     "execution_count": 34,
     "metadata": {},
     "output_type": "execute_result"
    }
   ],
   "source": [
    "cur.fetchall()"
   ]
  },
  {
   "cell_type": "markdown",
   "metadata": {
    "editable": true
   },
   "source": [
    "## Loading Artist Table Data"
   ]
  },
  {
   "cell_type": "code",
   "execution_count": 35,
   "metadata": {
    "editable": true
   },
   "outputs": [],
   "source": [
    "list_artist_cols = ['artist_id','artist_name','artist_location','artist_latitude','artist_longitude']"
   ]
  },
  {
   "cell_type": "code",
   "execution_count": 36,
   "metadata": {
    "editable": true
   },
   "outputs": [
    {
     "data": {
      "text/html": [
       "<div>\n",
       "<style scoped>\n",
       "    .dataframe tbody tr th:only-of-type {\n",
       "        vertical-align: middle;\n",
       "    }\n",
       "\n",
       "    .dataframe tbody tr th {\n",
       "        vertical-align: top;\n",
       "    }\n",
       "\n",
       "    .dataframe thead th {\n",
       "        text-align: right;\n",
       "    }\n",
       "</style>\n",
       "<table border=\"1\" class=\"dataframe\">\n",
       "  <thead>\n",
       "    <tr style=\"text-align: right;\">\n",
       "      <th></th>\n",
       "      <th>artist_id</th>\n",
       "      <th>artist_name</th>\n",
       "      <th>artist_location</th>\n",
       "      <th>artist_latitude</th>\n",
       "      <th>artist_longitude</th>\n",
       "    </tr>\n",
       "  </thead>\n",
       "  <tbody>\n",
       "    <tr>\n",
       "      <th>0</th>\n",
       "      <td>ARBZIN01187FB362CC</td>\n",
       "      <td>Paris Hilton</td>\n",
       "      <td>27</td>\n",
       "      <td>1.32026</td>\n",
       "      <td>103.78870999999999</td>\n",
       "    </tr>\n",
       "    <tr>\n",
       "      <th>1</th>\n",
       "      <td>ARKIQCZ1187B9A7C7C</td>\n",
       "      <td>Bauhaus</td>\n",
       "      <td>Northampton, Northamptonshire, En</td>\n",
       "      <td>52.239739999999998</td>\n",
       "      <td>-0.88575999999999999</td>\n",
       "    </tr>\n",
       "    <tr>\n",
       "      <th>2</th>\n",
       "      <td>ARQVORN11F50C4EFEC</td>\n",
       "      <td>Bedlight For Blue Eyes</td>\n",
       "      <td></td>\n",
       "      <td>None</td>\n",
       "      <td>None</td>\n",
       "    </tr>\n",
       "    <tr>\n",
       "      <th>3</th>\n",
       "      <td>AR7WK5411A348EF5EA</td>\n",
       "      <td>Minitel Rose</td>\n",
       "      <td>PARIS - NANTES</td>\n",
       "      <td>48.856920000000002</td>\n",
       "      <td>2.3412099999999998</td>\n",
       "    </tr>\n",
       "    <tr>\n",
       "      <th>4</th>\n",
       "      <td>AR0IT221187B999C4D</td>\n",
       "      <td>The Weathermen</td>\n",
       "      <td>BELGIUM</td>\n",
       "      <td>50.501010000000001</td>\n",
       "      <td>4.4768400000000002</td>\n",
       "    </tr>\n",
       "  </tbody>\n",
       "</table>\n",
       "</div>"
      ],
      "text/plain": [
       "            artist_id             artist_name  \\\n",
       "0  ARBZIN01187FB362CC            Paris Hilton   \n",
       "1  ARKIQCZ1187B9A7C7C                 Bauhaus   \n",
       "2  ARQVORN11F50C4EFEC  Bedlight For Blue Eyes   \n",
       "3  AR7WK5411A348EF5EA            Minitel Rose   \n",
       "4  AR0IT221187B999C4D          The Weathermen   \n",
       "\n",
       "                     artist_location     artist_latitude      artist_longitude  \n",
       "0                                 27             1.32026    103.78870999999999  \n",
       "1  Northampton, Northamptonshire, En  52.239739999999998  -0.88575999999999999  \n",
       "2                                                   None                  None  \n",
       "3                     PARIS - NANTES  48.856920000000002    2.3412099999999998  \n",
       "4                            BELGIUM  50.501010000000001    4.4768400000000002  "
      ]
     },
     "execution_count": 36,
     "metadata": {},
     "output_type": "execute_result"
    }
   ],
   "source": [
    "df_song_data[list_artist_cols].head()"
   ]
  },
  {
   "cell_type": "markdown",
   "metadata": {
    "editable": true
   },
   "source": [
    "### Defining Artist Table PK\n",
    "\n",
    "According to the Current design of the schema & provided data, we should extract Artist Records with Unique Artist Id, but according to the profiling 9553 out of 14896 are unique Artist Ids, so we will check if these IDs really represents the same data for all the Records with the same Artist Id\n",
    "\n",
    "9553 Records should be inserted into Artist table"
   ]
  },
  {
   "cell_type": "code",
   "execution_count": 37,
   "metadata": {
    "editable": true
   },
   "outputs": [
    {
     "name": "stdout",
     "output_type": "stream",
     "text": [
      "artist_id : False\n",
      "artist_name : False\n",
      "artist_location : False\n",
      "artist_latitude : False\n",
      "artist_longitude : False\n"
     ]
    }
   ],
   "source": [
    "# None of the Columns is Unique to be a PK\n",
    "for col in list_artist_cols:\n",
    "    print(col+' : '+str(df_song_data[col].is_unique))"
   ]
  },
  {
   "cell_type": "code",
   "execution_count": 38,
   "metadata": {
    "editable": true
   },
   "outputs": [
    {
     "data": {
      "text/plain": [
       "14896"
      ]
     },
     "execution_count": 38,
     "metadata": {},
     "output_type": "execute_result"
    }
   ],
   "source": [
    "len(df_song_data)"
   ]
  },
  {
   "cell_type": "code",
   "execution_count": 39,
   "metadata": {
    "editable": true
   },
   "outputs": [
    {
     "data": {
      "text/plain": [
       "Index(['num_songs', 'artist_id', 'artist_latitude', 'artist_longitude',\n",
       "       'artist_location', 'artist_name', 'song_id', 'title', 'duration',\n",
       "       'year'],\n",
       "      dtype='object')"
      ]
     },
     "execution_count": 39,
     "metadata": {},
     "output_type": "execute_result"
    }
   ],
   "source": [
    "df_song_data.columns"
   ]
  },
  {
   "cell_type": "markdown",
   "metadata": {
    "editable": true
   },
   "source": [
    "According to the Cell above Artist ID is the approperiate PK for Artist Table"
   ]
  },
  {
   "cell_type": "code",
   "execution_count": 40,
   "metadata": {
    "editable": true
   },
   "outputs": [
    {
     "name": "stdout",
     "output_type": "stream",
     "text": [
      "artist_id : 9553\n",
      "artist_id,artist_name : 9993\n",
      "artist_id,artist_name,artist_location : 10021\n",
      "artist_id,artist_name,artist_location,artist_latitude : 10025\n",
      "artist_id,artist_name,artist_location,artist_latitude,artist_longitude : 10025\n"
     ]
    }
   ],
   "source": [
    "for i in range(1,len(list_artist_cols)+1):\n",
    "    print(\",\".join(list_artist_cols[:i])+\" : \"+str(len(df_song_data[list_artist_cols[:i]].drop_duplicates())))"
   ]
  },
  {
   "cell_type": "markdown",
   "metadata": {
    "editable": true
   },
   "source": [
    "The above cell shows that, there are many different Names for some artist Ids, so we will check the values and decide what is the best records to be extracted"
   ]
  },
  {
   "cell_type": "code",
   "execution_count": 41,
   "metadata": {
    "editable": true
   },
   "outputs": [],
   "source": [
    "# creating a RowNumber Column which will be 1's for all the Unique Artist Ids\n",
    "df_song_data['RN_ARTIST_ID'] = df_song_data.groupby(['artist_id']).cumcount() + 1"
   ]
  },
  {
   "cell_type": "code",
   "execution_count": 42,
   "metadata": {
    "editable": true
   },
   "outputs": [],
   "source": [
    "df_song_data['RN_ARTIST_ID_NAME'] = df_song_data.groupby(['artist_id','artist_name']).cumcount() + 1"
   ]
  },
  {
   "cell_type": "code",
   "execution_count": 43,
   "metadata": {
    "editable": true
   },
   "outputs": [
    {
     "data": {
      "text/html": [
       "<div>\n",
       "<style scoped>\n",
       "    .dataframe tbody tr th:only-of-type {\n",
       "        vertical-align: middle;\n",
       "    }\n",
       "\n",
       "    .dataframe tbody tr th {\n",
       "        vertical-align: top;\n",
       "    }\n",
       "\n",
       "    .dataframe thead th {\n",
       "        text-align: right;\n",
       "    }\n",
       "</style>\n",
       "<table border=\"1\" class=\"dataframe\">\n",
       "  <thead>\n",
       "    <tr style=\"text-align: right;\">\n",
       "      <th></th>\n",
       "      <th>num_songs</th>\n",
       "      <th>artist_id</th>\n",
       "      <th>artist_latitude</th>\n",
       "      <th>artist_longitude</th>\n",
       "      <th>artist_location</th>\n",
       "      <th>artist_name</th>\n",
       "      <th>song_id</th>\n",
       "      <th>title</th>\n",
       "      <th>duration</th>\n",
       "      <th>year</th>\n",
       "      <th>RN_ARTIST_ID</th>\n",
       "      <th>RN_ARTIST_ID_NAME</th>\n",
       "    </tr>\n",
       "  </thead>\n",
       "  <tbody>\n",
       "    <tr>\n",
       "      <th>0</th>\n",
       "      <td>1</td>\n",
       "      <td>ARBZIN01187FB362CC</td>\n",
       "      <td>1.32026</td>\n",
       "      <td>103.78870999999999</td>\n",
       "      <td>27</td>\n",
       "      <td>Paris Hilton</td>\n",
       "      <td>SOERIDA12A6D4F8506</td>\n",
       "      <td>I Want You (Album Version)</td>\n",
       "      <td>192.28689</td>\n",
       "      <td>2006</td>\n",
       "      <td>1</td>\n",
       "      <td>1</td>\n",
       "    </tr>\n",
       "    <tr>\n",
       "      <th>1</th>\n",
       "      <td>1</td>\n",
       "      <td>ARKIQCZ1187B9A7C7C</td>\n",
       "      <td>52.239739999999998</td>\n",
       "      <td>-0.88575999999999999</td>\n",
       "      <td>Northampton, Northamptonshire, En</td>\n",
       "      <td>Bauhaus</td>\n",
       "      <td>SOSIJKW12A8C1330E3</td>\n",
       "      <td>A God In An Alcove (Session Version)</td>\n",
       "      <td>248.65914000000001</td>\n",
       "      <td>0</td>\n",
       "      <td>1</td>\n",
       "      <td>1</td>\n",
       "    </tr>\n",
       "    <tr>\n",
       "      <th>2</th>\n",
       "      <td>1</td>\n",
       "      <td>ARQVORN11F50C4EFEC</td>\n",
       "      <td>None</td>\n",
       "      <td>None</td>\n",
       "      <td></td>\n",
       "      <td>Bedlight For Blue Eyes</td>\n",
       "      <td>SOMFRKT12A8C146C67</td>\n",
       "      <td>Without You</td>\n",
       "      <td>165.38077000000001</td>\n",
       "      <td>0</td>\n",
       "      <td>1</td>\n",
       "      <td>1</td>\n",
       "    </tr>\n",
       "    <tr>\n",
       "      <th>3</th>\n",
       "      <td>1</td>\n",
       "      <td>AR7WK5411A348EF5EA</td>\n",
       "      <td>48.856920000000002</td>\n",
       "      <td>2.3412099999999998</td>\n",
       "      <td>PARIS - NANTES</td>\n",
       "      <td>Minitel Rose</td>\n",
       "      <td>SOTCOTZ12A8C136BCB</td>\n",
       "      <td>Elevator</td>\n",
       "      <td>248.31954999999999</td>\n",
       "      <td>2008</td>\n",
       "      <td>1</td>\n",
       "      <td>1</td>\n",
       "    </tr>\n",
       "    <tr>\n",
       "      <th>4</th>\n",
       "      <td>1</td>\n",
       "      <td>AR0IT221187B999C4D</td>\n",
       "      <td>50.501010000000001</td>\n",
       "      <td>4.4768400000000002</td>\n",
       "      <td>BELGIUM</td>\n",
       "      <td>The Weathermen</td>\n",
       "      <td>SOFJPHQ12A6D4FBA32</td>\n",
       "      <td>Let Them Come To Berlin</td>\n",
       "      <td>246.17751000000001</td>\n",
       "      <td>0</td>\n",
       "      <td>1</td>\n",
       "      <td>1</td>\n",
       "    </tr>\n",
       "  </tbody>\n",
       "</table>\n",
       "</div>"
      ],
      "text/plain": [
       "  num_songs           artist_id     artist_latitude      artist_longitude  \\\n",
       "0         1  ARBZIN01187FB362CC             1.32026    103.78870999999999   \n",
       "1         1  ARKIQCZ1187B9A7C7C  52.239739999999998  -0.88575999999999999   \n",
       "2         1  ARQVORN11F50C4EFEC                None                  None   \n",
       "3         1  AR7WK5411A348EF5EA  48.856920000000002    2.3412099999999998   \n",
       "4         1  AR0IT221187B999C4D  50.501010000000001    4.4768400000000002   \n",
       "\n",
       "                     artist_location             artist_name  \\\n",
       "0                                 27            Paris Hilton   \n",
       "1  Northampton, Northamptonshire, En                 Bauhaus   \n",
       "2                                     Bedlight For Blue Eyes   \n",
       "3                     PARIS - NANTES            Minitel Rose   \n",
       "4                            BELGIUM          The Weathermen   \n",
       "\n",
       "              song_id                                 title  \\\n",
       "0  SOERIDA12A6D4F8506            I Want You (Album Version)   \n",
       "1  SOSIJKW12A8C1330E3  A God In An Alcove (Session Version)   \n",
       "2  SOMFRKT12A8C146C67                           Without You   \n",
       "3  SOTCOTZ12A8C136BCB                              Elevator   \n",
       "4  SOFJPHQ12A6D4FBA32               Let Them Come To Berlin   \n",
       "\n",
       "             duration  year  RN_ARTIST_ID  RN_ARTIST_ID_NAME  \n",
       "0           192.28689  2006             1                  1  \n",
       "1  248.65914000000001     0             1                  1  \n",
       "2  165.38077000000001     0             1                  1  \n",
       "3  248.31954999999999  2008             1                  1  \n",
       "4  246.17751000000001     0             1                  1  "
      ]
     },
     "execution_count": 43,
     "metadata": {},
     "output_type": "execute_result"
    }
   ],
   "source": [
    "df_song_data.head()"
   ]
  },
  {
   "cell_type": "code",
   "execution_count": 44,
   "metadata": {
    "editable": true
   },
   "outputs": [
    {
     "data": {
      "text/plain": [
       "['artist_id',\n",
       " 'artist_name',\n",
       " 'artist_location',\n",
       " 'artist_latitude',\n",
       " 'artist_longitude',\n",
       " 'RN_ARTIST_ID',\n",
       " 'RN_ARTIST_ID_NAME']"
      ]
     },
     "execution_count": 44,
     "metadata": {},
     "output_type": "execute_result"
    }
   ],
   "source": [
    "list_artist_cols = list_artist_cols+['RN_ARTIST_ID','RN_ARTIST_ID_NAME']\n",
    "list_artist_cols"
   ]
  },
  {
   "cell_type": "code",
   "execution_count": 45,
   "metadata": {
    "editable": true
   },
   "outputs": [],
   "source": [
    "# Array contains all unique Artist Ids with Multiple Names to be evaluated\n",
    "arr_artist_ids = df_song_data[df_song_data.RN_ARTIST_ID != df_song_data.RN_ARTIST_ID_NAME].artist_id.unique()"
   ]
  },
  {
   "cell_type": "code",
   "execution_count": 46,
   "metadata": {
    "editable": true
   },
   "outputs": [
    {
     "data": {
      "text/html": [
       "<div>\n",
       "<style scoped>\n",
       "    .dataframe tbody tr th:only-of-type {\n",
       "        vertical-align: middle;\n",
       "    }\n",
       "\n",
       "    .dataframe tbody tr th {\n",
       "        vertical-align: top;\n",
       "    }\n",
       "\n",
       "    .dataframe thead th {\n",
       "        text-align: right;\n",
       "    }\n",
       "</style>\n",
       "<table border=\"1\" class=\"dataframe\">\n",
       "  <thead>\n",
       "    <tr style=\"text-align: right;\">\n",
       "      <th></th>\n",
       "      <th>artist_id</th>\n",
       "      <th>artist_name</th>\n",
       "      <th>artist_location</th>\n",
       "      <th>artist_latitude</th>\n",
       "      <th>artist_longitude</th>\n",
       "      <th>RN_ARTIST_ID</th>\n",
       "      <th>RN_ARTIST_ID_NAME</th>\n",
       "    </tr>\n",
       "  </thead>\n",
       "  <tbody>\n",
       "    <tr>\n",
       "      <th>1590</th>\n",
       "      <td>AR03BDP1187FB5B324</td>\n",
       "      <td>Britney Spears</td>\n",
       "      <td>Kentwood, LA; Los Angeles, CA</td>\n",
       "      <td>34.053489999999996</td>\n",
       "      <td>-118.24532000000001</td>\n",
       "      <td>1</td>\n",
       "      <td>1</td>\n",
       "    </tr>\n",
       "    <tr>\n",
       "      <th>10472</th>\n",
       "      <td>AR03BDP1187FB5B324</td>\n",
       "      <td>Britney Spears</td>\n",
       "      <td>Kentwood, LA; Los Angeles, CA</td>\n",
       "      <td>34.053489999999996</td>\n",
       "      <td>-118.24532000000001</td>\n",
       "      <td>3</td>\n",
       "      <td>2</td>\n",
       "    </tr>\n",
       "    <tr>\n",
       "      <th>2624</th>\n",
       "      <td>AR03BDP1187FB5B324</td>\n",
       "      <td>Britney Spears feat. Pharrell Williams</td>\n",
       "      <td>Kentwood, LA; Los Angeles, CA</td>\n",
       "      <td>34.053489999999996</td>\n",
       "      <td>-118.24532000000001</td>\n",
       "      <td>2</td>\n",
       "      <td>1</td>\n",
       "    </tr>\n",
       "    <tr>\n",
       "      <th>7053</th>\n",
       "      <td>AR040M31187B98CA41</td>\n",
       "      <td>The Bug Featuring Ricky Ranking</td>\n",
       "      <td></td>\n",
       "      <td>None</td>\n",
       "      <td>None</td>\n",
       "      <td>1</td>\n",
       "      <td>1</td>\n",
       "    </tr>\n",
       "    <tr>\n",
       "      <th>12333</th>\n",
       "      <td>AR040M31187B98CA41</td>\n",
       "      <td>The Bug Featuring Spaceape</td>\n",
       "      <td></td>\n",
       "      <td>None</td>\n",
       "      <td>None</td>\n",
       "      <td>2</td>\n",
       "      <td>1</td>\n",
       "    </tr>\n",
       "    <tr>\n",
       "      <th>1728</th>\n",
       "      <td>AR04S8J1187FB48358</td>\n",
       "      <td>Clifford Brown</td>\n",
       "      <td>Wilmington, DE</td>\n",
       "      <td>39.740229999999997</td>\n",
       "      <td>-75.550839999999994</td>\n",
       "      <td>1</td>\n",
       "      <td>1</td>\n",
       "    </tr>\n",
       "    <tr>\n",
       "      <th>11321</th>\n",
       "      <td>AR04S8J1187FB48358</td>\n",
       "      <td>Clifford Brown / Max Roach Quintet</td>\n",
       "      <td>Wilmington, DE</td>\n",
       "      <td>39.740229999999997</td>\n",
       "      <td>-75.550839999999994</td>\n",
       "      <td>2</td>\n",
       "      <td>1</td>\n",
       "    </tr>\n",
       "    <tr>\n",
       "      <th>14125</th>\n",
       "      <td>AR04S8J1187FB48358</td>\n",
       "      <td>Clifford Brown / Max Roach Quintet</td>\n",
       "      <td>Wilmington, DE</td>\n",
       "      <td>39.740229999999997</td>\n",
       "      <td>-75.550839999999994</td>\n",
       "      <td>3</td>\n",
       "      <td>2</td>\n",
       "    </tr>\n",
       "    <tr>\n",
       "      <th>13581</th>\n",
       "      <td>AR065TW1187FB4C3A5</td>\n",
       "      <td>Nearly God</td>\n",
       "      <td>Knowle West, Bristol, Avon, Engla</td>\n",
       "      <td>51.435580000000002</td>\n",
       "      <td>-2.57518</td>\n",
       "      <td>4</td>\n",
       "      <td>1</td>\n",
       "    </tr>\n",
       "    <tr>\n",
       "      <th>3096</th>\n",
       "      <td>AR065TW1187FB4C3A5</td>\n",
       "      <td>Tricky</td>\n",
       "      <td>Knowle West, Bristol, Avon, Engla</td>\n",
       "      <td>None</td>\n",
       "      <td>None</td>\n",
       "      <td>2</td>\n",
       "      <td>1</td>\n",
       "    </tr>\n",
       "    <tr>\n",
       "      <th>11383</th>\n",
       "      <td>AR065TW1187FB4C3A5</td>\n",
       "      <td>Tricky</td>\n",
       "      <td>Knowle West, Bristol, Avon, Engla</td>\n",
       "      <td>51.435580000000002</td>\n",
       "      <td>-2.57518</td>\n",
       "      <td>3</td>\n",
       "      <td>2</td>\n",
       "    </tr>\n",
       "    <tr>\n",
       "      <th>125</th>\n",
       "      <td>AR065TW1187FB4C3A5</td>\n",
       "      <td>Tricky / The Mad Dog Reflex</td>\n",
       "      <td>Knowle West, Bristol, Avon, Engla</td>\n",
       "      <td>51.435580000000002</td>\n",
       "      <td>-2.57518</td>\n",
       "      <td>1</td>\n",
       "      <td>1</td>\n",
       "    </tr>\n",
       "    <tr>\n",
       "      <th>8927</th>\n",
       "      <td>AR07SOR1187FB46179</td>\n",
       "      <td>Goo Goo Dolls</td>\n",
       "      <td>Buffalo, NY</td>\n",
       "      <td>None</td>\n",
       "      <td>None</td>\n",
       "      <td>2</td>\n",
       "      <td>1</td>\n",
       "    </tr>\n",
       "    <tr>\n",
       "      <th>6619</th>\n",
       "      <td>AR07SOR1187FB46179</td>\n",
       "      <td>The Goo Goo Dolls</td>\n",
       "      <td>Buffalo, NY</td>\n",
       "      <td>None</td>\n",
       "      <td>None</td>\n",
       "      <td>1</td>\n",
       "      <td>1</td>\n",
       "    </tr>\n",
       "    <tr>\n",
       "      <th>1709</th>\n",
       "      <td>AR0CANF1187B9AF35F</td>\n",
       "      <td>Dilated Peoples</td>\n",
       "      <td>Los Angeles, California</td>\n",
       "      <td>34.053489999999996</td>\n",
       "      <td>-118.24532000000001</td>\n",
       "      <td>1</td>\n",
       "      <td>1</td>\n",
       "    </tr>\n",
       "    <tr>\n",
       "      <th>9017</th>\n",
       "      <td>AR0CANF1187B9AF35F</td>\n",
       "      <td>Dilated Peoples</td>\n",
       "      <td>Los Angeles, California</td>\n",
       "      <td>34.053489999999996</td>\n",
       "      <td>-118.24532000000001</td>\n",
       "      <td>2</td>\n",
       "      <td>2</td>\n",
       "    </tr>\n",
       "    <tr>\n",
       "      <th>10779</th>\n",
       "      <td>AR0CANF1187B9AF35F</td>\n",
       "      <td>Dilated Peoples Featuring Capleton</td>\n",
       "      <td>Los Angeles, California</td>\n",
       "      <td>34.053489999999996</td>\n",
       "      <td>-118.24532000000001</td>\n",
       "      <td>3</td>\n",
       "      <td>1</td>\n",
       "    </tr>\n",
       "    <tr>\n",
       "      <th>14451</th>\n",
       "      <td>AR0CANF1187B9AF35F</td>\n",
       "      <td>Dilated Peoples Featuring Devin The Dude</td>\n",
       "      <td>Los Angeles, California</td>\n",
       "      <td>34.053489999999996</td>\n",
       "      <td>-118.24532000000001</td>\n",
       "      <td>4</td>\n",
       "      <td>1</td>\n",
       "    </tr>\n",
       "    <tr>\n",
       "      <th>13381</th>\n",
       "      <td>AR0CWOB1187B99FA08</td>\n",
       "      <td>Christophe Beck</td>\n",
       "      <td>United States</td>\n",
       "      <td>None</td>\n",
       "      <td>None</td>\n",
       "      <td>2</td>\n",
       "      <td>1</td>\n",
       "    </tr>\n",
       "    <tr>\n",
       "      <th>7326</th>\n",
       "      <td>AR0CWOB1187B99FA08</td>\n",
       "      <td>GARFIELD</td>\n",
       "      <td>United States</td>\n",
       "      <td>None</td>\n",
       "      <td>None</td>\n",
       "      <td>1</td>\n",
       "      <td>1</td>\n",
       "    </tr>\n",
       "  </tbody>\n",
       "</table>\n",
       "</div>"
      ],
      "text/plain": [
       "                artist_id                               artist_name  \\\n",
       "1590   AR03BDP1187FB5B324                            Britney Spears   \n",
       "10472  AR03BDP1187FB5B324                            Britney Spears   \n",
       "2624   AR03BDP1187FB5B324    Britney Spears feat. Pharrell Williams   \n",
       "7053   AR040M31187B98CA41           The Bug Featuring Ricky Ranking   \n",
       "12333  AR040M31187B98CA41                The Bug Featuring Spaceape   \n",
       "1728   AR04S8J1187FB48358                            Clifford Brown   \n",
       "11321  AR04S8J1187FB48358        Clifford Brown / Max Roach Quintet   \n",
       "14125  AR04S8J1187FB48358        Clifford Brown / Max Roach Quintet   \n",
       "13581  AR065TW1187FB4C3A5                                Nearly God   \n",
       "3096   AR065TW1187FB4C3A5                                    Tricky   \n",
       "11383  AR065TW1187FB4C3A5                                    Tricky   \n",
       "125    AR065TW1187FB4C3A5               Tricky / The Mad Dog Reflex   \n",
       "8927   AR07SOR1187FB46179                             Goo Goo Dolls   \n",
       "6619   AR07SOR1187FB46179                         The Goo Goo Dolls   \n",
       "1709   AR0CANF1187B9AF35F                           Dilated Peoples   \n",
       "9017   AR0CANF1187B9AF35F                           Dilated Peoples   \n",
       "10779  AR0CANF1187B9AF35F        Dilated Peoples Featuring Capleton   \n",
       "14451  AR0CANF1187B9AF35F  Dilated Peoples Featuring Devin The Dude   \n",
       "13381  AR0CWOB1187B99FA08                           Christophe Beck   \n",
       "7326   AR0CWOB1187B99FA08                                  GARFIELD   \n",
       "\n",
       "                         artist_location     artist_latitude  \\\n",
       "1590       Kentwood, LA; Los Angeles, CA  34.053489999999996   \n",
       "10472      Kentwood, LA; Los Angeles, CA  34.053489999999996   \n",
       "2624       Kentwood, LA; Los Angeles, CA  34.053489999999996   \n",
       "7053                                                    None   \n",
       "12333                                                   None   \n",
       "1728                      Wilmington, DE  39.740229999999997   \n",
       "11321                     Wilmington, DE  39.740229999999997   \n",
       "14125                     Wilmington, DE  39.740229999999997   \n",
       "13581  Knowle West, Bristol, Avon, Engla  51.435580000000002   \n",
       "3096   Knowle West, Bristol, Avon, Engla                None   \n",
       "11383  Knowle West, Bristol, Avon, Engla  51.435580000000002   \n",
       "125    Knowle West, Bristol, Avon, Engla  51.435580000000002   \n",
       "8927                         Buffalo, NY                None   \n",
       "6619                         Buffalo, NY                None   \n",
       "1709             Los Angeles, California  34.053489999999996   \n",
       "9017             Los Angeles, California  34.053489999999996   \n",
       "10779            Los Angeles, California  34.053489999999996   \n",
       "14451            Los Angeles, California  34.053489999999996   \n",
       "13381                      United States                None   \n",
       "7326                       United States                None   \n",
       "\n",
       "          artist_longitude  RN_ARTIST_ID  RN_ARTIST_ID_NAME  \n",
       "1590   -118.24532000000001             1                  1  \n",
       "10472  -118.24532000000001             3                  2  \n",
       "2624   -118.24532000000001             2                  1  \n",
       "7053                  None             1                  1  \n",
       "12333                 None             2                  1  \n",
       "1728   -75.550839999999994             1                  1  \n",
       "11321  -75.550839999999994             2                  1  \n",
       "14125  -75.550839999999994             3                  2  \n",
       "13581             -2.57518             4                  1  \n",
       "3096                  None             2                  1  \n",
       "11383             -2.57518             3                  2  \n",
       "125               -2.57518             1                  1  \n",
       "8927                  None             2                  1  \n",
       "6619                  None             1                  1  \n",
       "1709   -118.24532000000001             1                  1  \n",
       "9017   -118.24532000000001             2                  2  \n",
       "10779  -118.24532000000001             3                  1  \n",
       "14451  -118.24532000000001             4                  1  \n",
       "13381                 None             2                  1  \n",
       "7326                  None             1                  1  "
      ]
     },
     "execution_count": 46,
     "metadata": {},
     "output_type": "execute_result"
    }
   ],
   "source": [
    "df_song_data[df_song_data.artist_id.isin(arr_artist_ids)][list_artist_cols].sort_values(by=['artist_id','artist_name','RN_ARTIST_ID','RN_ARTIST_ID_NAME']).head(20)"
   ]
  },
  {
   "cell_type": "code",
   "execution_count": 47,
   "metadata": {
    "editable": true
   },
   "outputs": [
    {
     "data": {
      "text/html": [
       "<div>\n",
       "<style scoped>\n",
       "    .dataframe tbody tr th:only-of-type {\n",
       "        vertical-align: middle;\n",
       "    }\n",
       "\n",
       "    .dataframe tbody tr th {\n",
       "        vertical-align: top;\n",
       "    }\n",
       "\n",
       "    .dataframe thead th {\n",
       "        text-align: right;\n",
       "    }\n",
       "</style>\n",
       "<table border=\"1\" class=\"dataframe\">\n",
       "  <thead>\n",
       "    <tr style=\"text-align: right;\">\n",
       "      <th></th>\n",
       "      <th>artist_id</th>\n",
       "      <th>artist_name</th>\n",
       "      <th>artist_location</th>\n",
       "      <th>artist_latitude</th>\n",
       "      <th>artist_longitude</th>\n",
       "      <th>RN_ARTIST_ID</th>\n",
       "      <th>RN_ARTIST_ID_NAME</th>\n",
       "    </tr>\n",
       "  </thead>\n",
       "  <tbody>\n",
       "    <tr>\n",
       "      <th>49</th>\n",
       "      <td>AR1Y2PT1187FB5B9CE</td>\n",
       "      <td>John Wesley</td>\n",
       "      <td>Brandon</td>\n",
       "      <td>27.940169999999998</td>\n",
       "      <td>-82.325469999999996</td>\n",
       "      <td>1</td>\n",
       "      <td>1</td>\n",
       "    </tr>\n",
       "    <tr>\n",
       "      <th>1078</th>\n",
       "      <td>AR1Y2PT1187FB5B9CE</td>\n",
       "      <td>John Wesley_ John Wesley</td>\n",
       "      <td>Brandon</td>\n",
       "      <td>27.940169999999998</td>\n",
       "      <td>-82.325469999999996</td>\n",
       "      <td>2</td>\n",
       "      <td>1</td>\n",
       "    </tr>\n",
       "  </tbody>\n",
       "</table>\n",
       "</div>"
      ],
      "text/plain": [
       "               artist_id               artist_name artist_location  \\\n",
       "49    AR1Y2PT1187FB5B9CE               John Wesley         Brandon   \n",
       "1078  AR1Y2PT1187FB5B9CE  John Wesley_ John Wesley         Brandon   \n",
       "\n",
       "         artist_latitude     artist_longitude  RN_ARTIST_ID  RN_ARTIST_ID_NAME  \n",
       "49    27.940169999999998  -82.325469999999996             1                  1  \n",
       "1078  27.940169999999998  -82.325469999999996             2                  1  "
      ]
     },
     "execution_count": 47,
     "metadata": {},
     "output_type": "execute_result"
    }
   ],
   "source": [
    "df_song_data[(df_song_data.artist_id == 'AR1Y2PT1187FB5B9CE')][list_artist_cols]"
   ]
  },
  {
   "cell_type": "code",
   "execution_count": 48,
   "metadata": {
    "editable": true
   },
   "outputs": [
    {
     "data": {
      "text/html": [
       "<div>\n",
       "<style scoped>\n",
       "    .dataframe tbody tr th:only-of-type {\n",
       "        vertical-align: middle;\n",
       "    }\n",
       "\n",
       "    .dataframe tbody tr th {\n",
       "        vertical-align: top;\n",
       "    }\n",
       "\n",
       "    .dataframe thead th {\n",
       "        text-align: right;\n",
       "    }\n",
       "</style>\n",
       "<table border=\"1\" class=\"dataframe\">\n",
       "  <thead>\n",
       "    <tr style=\"text-align: right;\">\n",
       "      <th></th>\n",
       "      <th>artist_id</th>\n",
       "      <th>artist_name</th>\n",
       "      <th>artist_location</th>\n",
       "      <th>artist_latitude</th>\n",
       "      <th>artist_longitude</th>\n",
       "      <th>RN_ARTIST_ID</th>\n",
       "      <th>RN_ARTIST_ID_NAME</th>\n",
       "    </tr>\n",
       "  </thead>\n",
       "  <tbody>\n",
       "    <tr>\n",
       "      <th>1429</th>\n",
       "      <td>AR9YWMS1187FB43A34</td>\n",
       "      <td>Dinosaur Jr.</td>\n",
       "      <td>Amherst, MA</td>\n",
       "      <td>None</td>\n",
       "      <td>None</td>\n",
       "      <td>1</td>\n",
       "      <td>1</td>\n",
       "    </tr>\n",
       "    <tr>\n",
       "      <th>1821</th>\n",
       "      <td>AR9YWMS1187FB43A34</td>\n",
       "      <td>Dinosaur Jr</td>\n",
       "      <td>Amherst, MA</td>\n",
       "      <td>None</td>\n",
       "      <td>None</td>\n",
       "      <td>2</td>\n",
       "      <td>1</td>\n",
       "    </tr>\n",
       "    <tr>\n",
       "      <th>4332</th>\n",
       "      <td>AR9YWMS1187FB43A34</td>\n",
       "      <td>Dinosaur Jr.</td>\n",
       "      <td>Amherst, MA</td>\n",
       "      <td>None</td>\n",
       "      <td>None</td>\n",
       "      <td>3</td>\n",
       "      <td>2</td>\n",
       "    </tr>\n",
       "  </tbody>\n",
       "</table>\n",
       "</div>"
      ],
      "text/plain": [
       "               artist_id   artist_name artist_location artist_latitude  \\\n",
       "1429  AR9YWMS1187FB43A34  Dinosaur Jr.     Amherst, MA            None   \n",
       "1821  AR9YWMS1187FB43A34   Dinosaur Jr     Amherst, MA            None   \n",
       "4332  AR9YWMS1187FB43A34  Dinosaur Jr.     Amherst, MA            None   \n",
       "\n",
       "     artist_longitude  RN_ARTIST_ID  RN_ARTIST_ID_NAME  \n",
       "1429             None             1                  1  \n",
       "1821             None             2                  1  \n",
       "4332             None             3                  2  "
      ]
     },
     "execution_count": 48,
     "metadata": {},
     "output_type": "execute_result"
    }
   ],
   "source": [
    "df_song_data[(df_song_data.artist_id == 'AR9YWMS1187FB43A34')][list_artist_cols]"
   ]
  },
  {
   "cell_type": "code",
   "execution_count": 49,
   "metadata": {
    "editable": true
   },
   "outputs": [
    {
     "data": {
      "text/html": [
       "<div>\n",
       "<style scoped>\n",
       "    .dataframe tbody tr th:only-of-type {\n",
       "        vertical-align: middle;\n",
       "    }\n",
       "\n",
       "    .dataframe tbody tr th {\n",
       "        vertical-align: top;\n",
       "    }\n",
       "\n",
       "    .dataframe thead th {\n",
       "        text-align: right;\n",
       "    }\n",
       "</style>\n",
       "<table border=\"1\" class=\"dataframe\">\n",
       "  <thead>\n",
       "    <tr style=\"text-align: right;\">\n",
       "      <th></th>\n",
       "      <th>artist_id</th>\n",
       "      <th>artist_name</th>\n",
       "      <th>artist_location</th>\n",
       "      <th>artist_latitude</th>\n",
       "      <th>artist_longitude</th>\n",
       "      <th>RN_ARTIST_ID</th>\n",
       "      <th>RN_ARTIST_ID_NAME</th>\n",
       "    </tr>\n",
       "  </thead>\n",
       "  <tbody>\n",
       "    <tr>\n",
       "      <th>757</th>\n",
       "      <td>ARD46C811C8A414F3F</td>\n",
       "      <td>Kid Cudi</td>\n",
       "      <td>Cleveland, Ohio</td>\n",
       "      <td>41.504710000000003</td>\n",
       "      <td>-81.690740000000005</td>\n",
       "      <td>1</td>\n",
       "      <td>1</td>\n",
       "    </tr>\n",
       "    <tr>\n",
       "      <th>2910</th>\n",
       "      <td>ARD46C811C8A414F3F</td>\n",
       "      <td>Kid Cudi / Kanye West / Common</td>\n",
       "      <td>Cleveland, Ohio</td>\n",
       "      <td>41.504710000000003</td>\n",
       "      <td>-81.690740000000005</td>\n",
       "      <td>2</td>\n",
       "      <td>1</td>\n",
       "    </tr>\n",
       "  </tbody>\n",
       "</table>\n",
       "</div>"
      ],
      "text/plain": [
       "               artist_id                     artist_name  artist_location  \\\n",
       "757   ARD46C811C8A414F3F                        Kid Cudi  Cleveland, Ohio   \n",
       "2910  ARD46C811C8A414F3F  Kid Cudi / Kanye West / Common  Cleveland, Ohio   \n",
       "\n",
       "         artist_latitude     artist_longitude  RN_ARTIST_ID  RN_ARTIST_ID_NAME  \n",
       "757   41.504710000000003  -81.690740000000005             1                  1  \n",
       "2910  41.504710000000003  -81.690740000000005             2                  1  "
      ]
     },
     "execution_count": 49,
     "metadata": {},
     "output_type": "execute_result"
    }
   ],
   "source": [
    "df_song_data[(df_song_data.artist_id == 'ARD46C811C8A414F3F')][list_artist_cols]"
   ]
  },
  {
   "cell_type": "code",
   "execution_count": 50,
   "metadata": {
    "editable": true
   },
   "outputs": [
    {
     "data": {
      "text/html": [
       "<div>\n",
       "<style scoped>\n",
       "    .dataframe tbody tr th:only-of-type {\n",
       "        vertical-align: middle;\n",
       "    }\n",
       "\n",
       "    .dataframe tbody tr th {\n",
       "        vertical-align: top;\n",
       "    }\n",
       "\n",
       "    .dataframe thead th {\n",
       "        text-align: right;\n",
       "    }\n",
       "</style>\n",
       "<table border=\"1\" class=\"dataframe\">\n",
       "  <thead>\n",
       "    <tr style=\"text-align: right;\">\n",
       "      <th></th>\n",
       "      <th>artist_id</th>\n",
       "      <th>artist_name</th>\n",
       "      <th>artist_location</th>\n",
       "      <th>artist_latitude</th>\n",
       "      <th>artist_longitude</th>\n",
       "      <th>RN_ARTIST_ID</th>\n",
       "      <th>RN_ARTIST_ID_NAME</th>\n",
       "    </tr>\n",
       "  </thead>\n",
       "  <tbody>\n",
       "    <tr>\n",
       "      <th>59</th>\n",
       "      <td>ARYPTWE1187FB49D64</td>\n",
       "      <td>Aphex Twin</td>\n",
       "      <td></td>\n",
       "      <td>None</td>\n",
       "      <td>None</td>\n",
       "      <td>1</td>\n",
       "      <td>1</td>\n",
       "    </tr>\n",
       "    <tr>\n",
       "      <th>80</th>\n",
       "      <td>ARYPTWE1187FB49D64</td>\n",
       "      <td>Polygon Window</td>\n",
       "      <td></td>\n",
       "      <td>None</td>\n",
       "      <td>None</td>\n",
       "      <td>2</td>\n",
       "      <td>1</td>\n",
       "    </tr>\n",
       "    <tr>\n",
       "      <th>191</th>\n",
       "      <td>ARYPTWE1187FB49D64</td>\n",
       "      <td>Polygon Window</td>\n",
       "      <td></td>\n",
       "      <td>None</td>\n",
       "      <td>None</td>\n",
       "      <td>3</td>\n",
       "      <td>2</td>\n",
       "    </tr>\n",
       "    <tr>\n",
       "      <th>691</th>\n",
       "      <td>ARYPTWE1187FB49D64</td>\n",
       "      <td>Aphex Twin</td>\n",
       "      <td></td>\n",
       "      <td>None</td>\n",
       "      <td>None</td>\n",
       "      <td>4</td>\n",
       "      <td>2</td>\n",
       "    </tr>\n",
       "    <tr>\n",
       "      <th>4197</th>\n",
       "      <td>ARYPTWE1187FB49D64</td>\n",
       "      <td>Aphex Twin</td>\n",
       "      <td></td>\n",
       "      <td>None</td>\n",
       "      <td>None</td>\n",
       "      <td>5</td>\n",
       "      <td>3</td>\n",
       "    </tr>\n",
       "    <tr>\n",
       "      <th>5945</th>\n",
       "      <td>ARYPTWE1187FB49D64</td>\n",
       "      <td>Aphex Twin</td>\n",
       "      <td></td>\n",
       "      <td>None</td>\n",
       "      <td>None</td>\n",
       "      <td>6</td>\n",
       "      <td>4</td>\n",
       "    </tr>\n",
       "    <tr>\n",
       "      <th>10022</th>\n",
       "      <td>ARYPTWE1187FB49D64</td>\n",
       "      <td>Aphex Twin</td>\n",
       "      <td></td>\n",
       "      <td>None</td>\n",
       "      <td>None</td>\n",
       "      <td>7</td>\n",
       "      <td>5</td>\n",
       "    </tr>\n",
       "    <tr>\n",
       "      <th>10461</th>\n",
       "      <td>ARYPTWE1187FB49D64</td>\n",
       "      <td>Aphex Twin</td>\n",
       "      <td></td>\n",
       "      <td>None</td>\n",
       "      <td>None</td>\n",
       "      <td>8</td>\n",
       "      <td>6</td>\n",
       "    </tr>\n",
       "    <tr>\n",
       "      <th>13177</th>\n",
       "      <td>ARYPTWE1187FB49D64</td>\n",
       "      <td>Aphex Twin</td>\n",
       "      <td></td>\n",
       "      <td>None</td>\n",
       "      <td>None</td>\n",
       "      <td>9</td>\n",
       "      <td>7</td>\n",
       "    </tr>\n",
       "  </tbody>\n",
       "</table>\n",
       "</div>"
      ],
      "text/plain": [
       "                artist_id     artist_name artist_location artist_latitude  \\\n",
       "59     ARYPTWE1187FB49D64      Aphex Twin                            None   \n",
       "80     ARYPTWE1187FB49D64  Polygon Window                            None   \n",
       "191    ARYPTWE1187FB49D64  Polygon Window                            None   \n",
       "691    ARYPTWE1187FB49D64      Aphex Twin                            None   \n",
       "4197   ARYPTWE1187FB49D64      Aphex Twin                            None   \n",
       "5945   ARYPTWE1187FB49D64      Aphex Twin                            None   \n",
       "10022  ARYPTWE1187FB49D64      Aphex Twin                            None   \n",
       "10461  ARYPTWE1187FB49D64      Aphex Twin                            None   \n",
       "13177  ARYPTWE1187FB49D64      Aphex Twin                            None   \n",
       "\n",
       "      artist_longitude  RN_ARTIST_ID  RN_ARTIST_ID_NAME  \n",
       "59                None             1                  1  \n",
       "80                None             2                  1  \n",
       "191               None             3                  2  \n",
       "691               None             4                  2  \n",
       "4197              None             5                  3  \n",
       "5945              None             6                  4  \n",
       "10022             None             7                  5  \n",
       "10461             None             8                  6  \n",
       "13177             None             9                  7  "
      ]
     },
     "execution_count": 50,
     "metadata": {},
     "output_type": "execute_result"
    }
   ],
   "source": [
    "df_song_data[(df_song_data.artist_id == 'ARYPTWE1187FB49D64')][list_artist_cols]"
   ]
  },
  {
   "cell_type": "code",
   "execution_count": 51,
   "metadata": {
    "editable": true
   },
   "outputs": [
    {
     "data": {
      "text/html": [
       "<div>\n",
       "<style scoped>\n",
       "    .dataframe tbody tr th:only-of-type {\n",
       "        vertical-align: middle;\n",
       "    }\n",
       "\n",
       "    .dataframe tbody tr th {\n",
       "        vertical-align: top;\n",
       "    }\n",
       "\n",
       "    .dataframe thead th {\n",
       "        text-align: right;\n",
       "    }\n",
       "</style>\n",
       "<table border=\"1\" class=\"dataframe\">\n",
       "  <thead>\n",
       "    <tr style=\"text-align: right;\">\n",
       "      <th></th>\n",
       "      <th>artist_id</th>\n",
       "      <th>artist_name</th>\n",
       "      <th>artist_location</th>\n",
       "      <th>artist_latitude</th>\n",
       "      <th>artist_longitude</th>\n",
       "      <th>RN_ARTIST_ID</th>\n",
       "      <th>RN_ARTIST_ID_NAME</th>\n",
       "    </tr>\n",
       "  </thead>\n",
       "  <tbody>\n",
       "    <tr>\n",
       "      <th>5654</th>\n",
       "      <td>AR2AVSC1187B991634</td>\n",
       "      <td>Amon Tobin</td>\n",
       "      <td>Brazil</td>\n",
       "      <td>None</td>\n",
       "      <td>None</td>\n",
       "      <td>1</td>\n",
       "      <td>1</td>\n",
       "    </tr>\n",
       "    <tr>\n",
       "      <th>13014</th>\n",
       "      <td>AR2AVSC1187B991634</td>\n",
       "      <td>Cujo</td>\n",
       "      <td>Brazil</td>\n",
       "      <td>None</td>\n",
       "      <td>None</td>\n",
       "      <td>2</td>\n",
       "      <td>1</td>\n",
       "    </tr>\n",
       "    <tr>\n",
       "      <th>13445</th>\n",
       "      <td>AR2AVSC1187B991634</td>\n",
       "      <td>Amon Tobin</td>\n",
       "      <td>Brazil</td>\n",
       "      <td>None</td>\n",
       "      <td>None</td>\n",
       "      <td>3</td>\n",
       "      <td>2</td>\n",
       "    </tr>\n",
       "  </tbody>\n",
       "</table>\n",
       "</div>"
      ],
      "text/plain": [
       "                artist_id artist_name artist_location artist_latitude  \\\n",
       "5654   AR2AVSC1187B991634  Amon Tobin          Brazil            None   \n",
       "13014  AR2AVSC1187B991634        Cujo          Brazil            None   \n",
       "13445  AR2AVSC1187B991634  Amon Tobin          Brazil            None   \n",
       "\n",
       "      artist_longitude  RN_ARTIST_ID  RN_ARTIST_ID_NAME  \n",
       "5654              None             1                  1  \n",
       "13014             None             2                  1  \n",
       "13445             None             3                  2  "
      ]
     },
     "execution_count": 51,
     "metadata": {},
     "output_type": "execute_result"
    }
   ],
   "source": [
    "df_song_data[(df_song_data.artist_id == 'AR2AVSC1187B991634')][list_artist_cols]"
   ]
  },
  {
   "cell_type": "markdown",
   "metadata": {
    "editable": true
   },
   "source": [
    "### According to the Above Cells, Maultiple Artists Names can come to a single Artist ID, so we will pick the shortest String as it seems to be more informative, because there are multiple 'Featured' artists with the Main artist, so if we pick the Main one will be better."
   ]
  },
  {
   "cell_type": "code",
   "execution_count": 52,
   "metadata": {
    "editable": true
   },
   "outputs": [],
   "source": [
    "cur.execute(\"\"\"\n",
    "CREATE TABLE IF NOT EXISTS SPARKIFY_SCHEMA.ARTIST_TBL\n",
    "(\n",
    "    ARTIST_ID VARCHAR(50),\n",
    "    ARTIST_NAME VARCHAR(250),\n",
    "    ARTIST_LOCATION VARCHAR(250) DEFAULT 'Unknown',\n",
    "    ARTIST_LATITUDE DOUBLE PRECISION DEFAULT -9999,\n",
    "    ARTIST_LONGITUTE DOUBLE PRECISION DEFAULT -9999,\n",
    "    PRIMARY KEY (ARTIST_ID)\n",
    ");\n",
    "\"\"\"\n",
    ")\n",
    "conn.commit()"
   ]
  },
  {
   "cell_type": "code",
   "execution_count": 53,
   "metadata": {
    "editable": true
   },
   "outputs": [],
   "source": [
    "cur.execute(\"\"\"\n",
    "DELETE FROM SPARKIFY_SCHEMA.ARTIST_TBL \n",
    "USING STAGING_SCHEMA.STG_SONG\n",
    "WHERE ARTIST_TBL.ARTIST_ID = STG_SONG.artist_id;\n",
    "\"\"\")\n",
    "conn.commit()"
   ]
  },
  {
   "cell_type": "code",
   "execution_count": 54,
   "metadata": {
    "editable": true
   },
   "outputs": [],
   "source": [
    "cur.execute(\"\"\"SELECT COUNT(*) FROM SPARKIFY_SCHEMA.ARTIST_TBL\"\"\")"
   ]
  },
  {
   "cell_type": "code",
   "execution_count": 55,
   "metadata": {
    "editable": true
   },
   "outputs": [
    {
     "data": {
      "text/plain": [
       "[(0,)]"
      ]
     },
     "execution_count": 55,
     "metadata": {},
     "output_type": "execute_result"
    }
   ],
   "source": [
    "cur.fetchall()"
   ]
  },
  {
   "cell_type": "code",
   "execution_count": 56,
   "metadata": {
    "editable": true
   },
   "outputs": [],
   "source": [
    "cur.execute(\"\"\"\n",
    "INSERT INTO SPARKIFY_SCHEMA.ARTIST_TBL\n",
    "SELECT \n",
    "ARTIST_ID,\n",
    "ARTIST_NAME,\n",
    "ARTIST_LOCATION,\n",
    "CAST(ARTIST_LATITUDE AS DOUBLE PRECISION),\n",
    "CAST(ARTIST_LONGITUTE AS DOUBLE PRECISION)\n",
    "FROM \n",
    "(\n",
    "SELECT DISTINCT \n",
    "artist_id AS ARTIST_ID,\n",
    "artist_name AS ARTIST_NAME,\n",
    "ROW_NUMBER() OVER (PARTITION BY artist_id ORDER BY LEN(artist_name)) AS ROW_NUM,\n",
    "CASE WHEN trim(artist_location) = '' OR artist_location IS NULL THEN 'Unknown' ELSE artist_location END AS ARTIST_LOCATION,\n",
    "CASE WHEN trim(artist_latitude) = '' OR artist_latitude IS NULL THEN '-9999' ELSE artist_latitude END AS ARTIST_LATITUDE,\n",
    "CASE WHEN trim(artist_longitude) = '' OR artist_longitude IS NULL THEN '-9999' ELSE artist_longitude END AS ARTIST_LONGITUTE\n",
    "FROM staging_schema.stg_song \n",
    ") WHERE ROW_NUM = 1\"\"\")\n",
    "conn.commit()"
   ]
  },
  {
   "cell_type": "code",
   "execution_count": 57,
   "metadata": {
    "editable": true
   },
   "outputs": [
    {
     "data": {
      "text/plain": [
       "9553"
      ]
     },
     "execution_count": 57,
     "metadata": {},
     "output_type": "execute_result"
    }
   ],
   "source": [
    "cur.rowcount"
   ]
  },
  {
   "cell_type": "code",
   "execution_count": null,
   "metadata": {
    "editable": true
   },
   "outputs": [],
   "source": []
  }
 ],
 "metadata": {
  "kernelspec": {
   "display_name": "Python 3",
   "language": "python",
   "name": "python3"
  },
  "language_info": {
   "codemirror_mode": {
    "name": "ipython",
    "version": 3
   },
   "file_extension": ".py",
   "mimetype": "text/x-python",
   "name": "python",
   "nbconvert_exporter": "python",
   "pygments_lexer": "ipython3",
   "version": "3.6.3"
  }
 },
 "nbformat": 4,
 "nbformat_minor": 4
}
