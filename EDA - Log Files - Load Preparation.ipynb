{
 "cells": [
  {
   "cell_type": "markdown",
   "metadata": {
    "editable": true
   },
   "source": [
    "# EDA - Log Files"
   ]
  },
  {
   "cell_type": "markdown",
   "metadata": {
    "editable": true
   },
   "source": [
    "This Notebook is to analyze the Data after loading into the main Staging Tables"
   ]
  },
  {
   "cell_type": "markdown",
   "metadata": {
    "editable": true
   },
   "source": [
    "The Main Objectives are\n",
    "- Defining the best Data types for all the Columns \n",
    "- Checking the Quality of the Data to handle corrupted data\n",
    "- Defining the PKs, Distribution & Sorting Keys for optimization"
   ]
  },
  {
   "cell_type": "code",
   "execution_count": 1,
   "metadata": {
    "editable": true
   },
   "outputs": [],
   "source": [
    "import configparser\n",
    "import psycopg2\n",
    "import pandas as pd\n",
    "from IAC_create_redshift_cluster import func_connect_to_redshift"
   ]
  },
  {
   "cell_type": "code",
   "execution_count": 2,
   "metadata": {
    "editable": true
   },
   "outputs": [
    {
     "name": "stdout",
     "output_type": "stream",
     "text": [
      " Connected to sparkify_db, Host: sparkify-dwh.ct9qgawfx2gi.us-west-2.redshift.amazonaws.com, User: sparkify_user\n"
     ]
    }
   ],
   "source": [
    "try:\n",
    "    # Connecting to the Cluster\n",
    "    conn, cur = func_connect_to_redshift('dwh.cfg')\n",
    "\n",
    "    dict_conn_info = conn.get_dsn_parameters()\n",
    "\n",
    "    print(\" Connected to {}, Host: {}, User: {}\".format \\\n",
    "            (\n",
    "            dict_conn_info.get('dbname')\n",
    "            , dict_conn_info.get('host')\n",
    "            , dict_conn_info.get('user')\n",
    "        )\n",
    "    )\n",
    "\n",
    "except Exception as e:\n",
    "    print(\" Faild to Connect to the Cluster, {}\".format(e))\n",
    "    sys.exit(-1)"
   ]
  },
  {
   "cell_type": "code",
   "execution_count": 3,
   "metadata": {
    "editable": true
   },
   "outputs": [
    {
     "data": {
      "text/plain": [
       "<connection object at 0x7f0a888fb048; dsn: 'user=sparkify_user password=xxx dbname=sparkify_db host=sparkify-dwh.ct9qgawfx2gi.us-west-2.redshift.amazonaws.com port=5439', closed: 0>"
      ]
     },
     "execution_count": 3,
     "metadata": {},
     "output_type": "execute_result"
    }
   ],
   "source": [
    "conn"
   ]
  },
  {
   "cell_type": "code",
   "execution_count": 4,
   "metadata": {
    "editable": true
   },
   "outputs": [],
   "source": [
    "config = configparser.ConfigParser()\n",
    "config.read('dwh.cfg')\n",
    "config_dwh_arn = config.get('CLUSTER','dwh_arn')"
   ]
  },
  {
   "cell_type": "markdown",
   "metadata": {
    "editable": true
   },
   "source": [
    "## Log Data Loading in the Staging Table"
   ]
  },
  {
   "cell_type": "code",
   "execution_count": 5,
   "metadata": {
    "editable": true
   },
   "outputs": [],
   "source": [
    "cur.execute('CREATE SCHEMA IF NOT EXISTS STAGING_SCHEMA;')"
   ]
  },
  {
   "cell_type": "code",
   "execution_count": 6,
   "metadata": {
    "editable": true
   },
   "outputs": [],
   "source": [
    "cur.execute(\"\"\"CREATE TABLE IF NOT EXISTS STAGING_SCHEMA.STG_LOG\n",
    "(\n",
    "    artist VARCHAR(250),\n",
    "    auth VARCHAR(50),\n",
    "    firstname VARCHAR(50),\n",
    "    gender CHAR(1),\n",
    "    iteminsession VARCHAR(10),\n",
    "    lastname VARCHAR(50),\n",
    "    length VARCHAR(50),\n",
    "    level VARCHAR(10),\n",
    "    location VARCHAR(100),\n",
    "    method VARCHAR(10),\n",
    "    page VARCHAR(50),\n",
    "    registration VARCHAR(50),\n",
    "    sessionid VARCHAR(10),\n",
    "    song VARCHAR(250),\n",
    "    status VARCHAR(10),\n",
    "    ts VARCHAR(50),\n",
    "    useragent VARCHAR(250),\n",
    "    userid VARCHAR(10)\n",
    ");\n",
    "\"\"\")"
   ]
  },
  {
   "cell_type": "code",
   "execution_count": 7,
   "metadata": {
    "editable": true
   },
   "outputs": [],
   "source": [
    "conn.commit()"
   ]
  },
  {
   "cell_type": "markdown",
   "metadata": {
    "editable": true
   },
   "source": [
    "### Loading the data in the Staging Table"
   ]
  },
  {
   "cell_type": "code",
   "execution_count": 8,
   "metadata": {
    "editable": true
   },
   "outputs": [],
   "source": [
    "cur.execute(\"\"\"\n",
    "COPY STAGING_SCHEMA.STG_LOG \n",
    "from 's3://udacity-dend/log_data/' \n",
    "CREDENTIALS 'aws_iam_role={}'\n",
    "JSON 's3://udacity-dend/log_json_path.json' REGION 'us-west-2';\n",
    "\"\"\".format(config_dwh_arn))"
   ]
  },
  {
   "cell_type": "code",
   "execution_count": 9,
   "metadata": {
    "editable": true
   },
   "outputs": [],
   "source": [
    "conn.commit()"
   ]
  },
  {
   "cell_type": "code",
   "execution_count": 10,
   "metadata": {
    "editable": true
   },
   "outputs": [],
   "source": [
    "cur.execute(\"\"\"SELECT COUNT(*) FROM STAGING_SCHEMA.STG_LOG\"\"\")"
   ]
  },
  {
   "cell_type": "code",
   "execution_count": 11,
   "metadata": {
    "editable": true
   },
   "outputs": [
    {
     "data": {
      "text/plain": [
       "[(8056,)]"
      ]
     },
     "execution_count": 11,
     "metadata": {},
     "output_type": "execute_result"
    }
   ],
   "source": [
    "cur.fetchall()"
   ]
  },
  {
   "cell_type": "code",
   "execution_count": 12,
   "metadata": {
    "editable": true
   },
   "outputs": [],
   "source": [
    "cur.execute(\"\"\"SELECT * FROM STAGING_SCHEMA.STG_LOG\"\"\")"
   ]
  },
  {
   "cell_type": "code",
   "execution_count": 13,
   "metadata": {
    "editable": true
   },
   "outputs": [],
   "source": [
    "# data is not huge and can fit in pandas Dataframe for Profiling\n",
    "df_log_data = pd.DataFrame(data=cur.fetchall(),columns=['artist','auth','firstname','gender','iteminsession','lastname','length','level','location','method','page','registration','sessionid','song','status','ts','useragent','userid'])"
   ]
  },
  {
   "cell_type": "markdown",
   "metadata": {
    "editable": true
   },
   "source": [
    "## Data Profiling"
   ]
  },
  {
   "cell_type": "code",
   "execution_count": 14,
   "metadata": {
    "editable": true
   },
   "outputs": [
    {
     "data": {
      "text/html": [
       "<div>\n",
       "<style scoped>\n",
       "    .dataframe tbody tr th:only-of-type {\n",
       "        vertical-align: middle;\n",
       "    }\n",
       "\n",
       "    .dataframe tbody tr th {\n",
       "        vertical-align: top;\n",
       "    }\n",
       "\n",
       "    .dataframe thead th {\n",
       "        text-align: right;\n",
       "    }\n",
       "</style>\n",
       "<table border=\"1\" class=\"dataframe\">\n",
       "  <thead>\n",
       "    <tr style=\"text-align: right;\">\n",
       "      <th></th>\n",
       "      <th>artist</th>\n",
       "      <th>auth</th>\n",
       "      <th>firstname</th>\n",
       "      <th>gender</th>\n",
       "      <th>iteminsession</th>\n",
       "      <th>lastname</th>\n",
       "      <th>length</th>\n",
       "      <th>level</th>\n",
       "      <th>location</th>\n",
       "      <th>method</th>\n",
       "      <th>page</th>\n",
       "      <th>registration</th>\n",
       "      <th>sessionid</th>\n",
       "      <th>song</th>\n",
       "      <th>status</th>\n",
       "      <th>ts</th>\n",
       "      <th>useragent</th>\n",
       "      <th>userid</th>\n",
       "    </tr>\n",
       "  </thead>\n",
       "  <tbody>\n",
       "    <tr>\n",
       "      <th>0</th>\n",
       "      <td>None</td>\n",
       "      <td>Logged Out</td>\n",
       "      <td>None</td>\n",
       "      <td>None</td>\n",
       "      <td>0</td>\n",
       "      <td>None</td>\n",
       "      <td>None</td>\n",
       "      <td>free</td>\n",
       "      <td>None</td>\n",
       "      <td>PUT</td>\n",
       "      <td>Login</td>\n",
       "      <td>None</td>\n",
       "      <td>52</td>\n",
       "      <td>None</td>\n",
       "      <td>307</td>\n",
       "      <td>1541207073796</td>\n",
       "      <td>None</td>\n",
       "      <td></td>\n",
       "    </tr>\n",
       "    <tr>\n",
       "      <th>1</th>\n",
       "      <td>None</td>\n",
       "      <td>Logged In</td>\n",
       "      <td>Celeste</td>\n",
       "      <td>F</td>\n",
       "      <td>1</td>\n",
       "      <td>Williams</td>\n",
       "      <td>None</td>\n",
       "      <td>free</td>\n",
       "      <td>Klamath Falls, OR</td>\n",
       "      <td>GET</td>\n",
       "      <td>Home</td>\n",
       "      <td>1541077528796</td>\n",
       "      <td>52</td>\n",
       "      <td>None</td>\n",
       "      <td>200</td>\n",
       "      <td>1541207123796</td>\n",
       "      <td>\"Mozilla/5.0 (Windows NT 6.1; WOW64) AppleWebK...</td>\n",
       "      <td>53</td>\n",
       "    </tr>\n",
       "    <tr>\n",
       "      <th>2</th>\n",
       "      <td>Mynt</td>\n",
       "      <td>Logged In</td>\n",
       "      <td>Celeste</td>\n",
       "      <td>F</td>\n",
       "      <td>2</td>\n",
       "      <td>Williams</td>\n",
       "      <td>166.94811999999999</td>\n",
       "      <td>free</td>\n",
       "      <td>Klamath Falls, OR</td>\n",
       "      <td>PUT</td>\n",
       "      <td>NextSong</td>\n",
       "      <td>1541077528796</td>\n",
       "      <td>52</td>\n",
       "      <td>Playa Haters</td>\n",
       "      <td>200</td>\n",
       "      <td>1541207150796</td>\n",
       "      <td>\"Mozilla/5.0 (Windows NT 6.1; WOW64) AppleWebK...</td>\n",
       "      <td>53</td>\n",
       "    </tr>\n",
       "    <tr>\n",
       "      <th>3</th>\n",
       "      <td>Taylor Swift</td>\n",
       "      <td>Logged In</td>\n",
       "      <td>Celeste</td>\n",
       "      <td>F</td>\n",
       "      <td>3</td>\n",
       "      <td>Williams</td>\n",
       "      <td>230.47791000000001</td>\n",
       "      <td>free</td>\n",
       "      <td>Klamath Falls, OR</td>\n",
       "      <td>PUT</td>\n",
       "      <td>NextSong</td>\n",
       "      <td>1541077528796</td>\n",
       "      <td>52</td>\n",
       "      <td>You Belong With Me</td>\n",
       "      <td>200</td>\n",
       "      <td>1541207316796</td>\n",
       "      <td>\"Mozilla/5.0 (Windows NT 6.1; WOW64) AppleWebK...</td>\n",
       "      <td>53</td>\n",
       "    </tr>\n",
       "    <tr>\n",
       "      <th>4</th>\n",
       "      <td>Amy Winehouse</td>\n",
       "      <td>Logged In</td>\n",
       "      <td>Celeste</td>\n",
       "      <td>F</td>\n",
       "      <td>4</td>\n",
       "      <td>Williams</td>\n",
       "      <td>229.85097999999999</td>\n",
       "      <td>free</td>\n",
       "      <td>Klamath Falls, OR</td>\n",
       "      <td>PUT</td>\n",
       "      <td>NextSong</td>\n",
       "      <td>1541077528796</td>\n",
       "      <td>52</td>\n",
       "      <td>Valerie</td>\n",
       "      <td>200</td>\n",
       "      <td>1541207546796</td>\n",
       "      <td>\"Mozilla/5.0 (Windows NT 6.1; WOW64) AppleWebK...</td>\n",
       "      <td>53</td>\n",
       "    </tr>\n",
       "  </tbody>\n",
       "</table>\n",
       "</div>"
      ],
      "text/plain": [
       "          artist        auth firstname gender iteminsession  lastname  \\\n",
       "0           None  Logged Out      None   None             0      None   \n",
       "1           None   Logged In   Celeste      F             1  Williams   \n",
       "2           Mynt   Logged In   Celeste      F             2  Williams   \n",
       "3   Taylor Swift   Logged In   Celeste      F             3  Williams   \n",
       "4  Amy Winehouse   Logged In   Celeste      F             4  Williams   \n",
       "\n",
       "               length level           location method      page  \\\n",
       "0                None  free               None    PUT     Login   \n",
       "1                None  free  Klamath Falls, OR    GET      Home   \n",
       "2  166.94811999999999  free  Klamath Falls, OR    PUT  NextSong   \n",
       "3  230.47791000000001  free  Klamath Falls, OR    PUT  NextSong   \n",
       "4  229.85097999999999  free  Klamath Falls, OR    PUT  NextSong   \n",
       "\n",
       "    registration sessionid                song status             ts  \\\n",
       "0           None        52                None    307  1541207073796   \n",
       "1  1541077528796        52                None    200  1541207123796   \n",
       "2  1541077528796        52        Playa Haters    200  1541207150796   \n",
       "3  1541077528796        52  You Belong With Me    200  1541207316796   \n",
       "4  1541077528796        52             Valerie    200  1541207546796   \n",
       "\n",
       "                                           useragent userid  \n",
       "0                                               None         \n",
       "1  \"Mozilla/5.0 (Windows NT 6.1; WOW64) AppleWebK...     53  \n",
       "2  \"Mozilla/5.0 (Windows NT 6.1; WOW64) AppleWebK...     53  \n",
       "3  \"Mozilla/5.0 (Windows NT 6.1; WOW64) AppleWebK...     53  \n",
       "4  \"Mozilla/5.0 (Windows NT 6.1; WOW64) AppleWebK...     53  "
      ]
     },
     "execution_count": 14,
     "metadata": {},
     "output_type": "execute_result"
    }
   ],
   "source": [
    "df_log_data.head()"
   ]
  },
  {
   "cell_type": "code",
   "execution_count": 15,
   "metadata": {
    "editable": true
   },
   "outputs": [
    {
     "data": {
      "text/html": [
       "<div>\n",
       "<style scoped>\n",
       "    .dataframe tbody tr th:only-of-type {\n",
       "        vertical-align: middle;\n",
       "    }\n",
       "\n",
       "    .dataframe tbody tr th {\n",
       "        vertical-align: top;\n",
       "    }\n",
       "\n",
       "    .dataframe thead th {\n",
       "        text-align: right;\n",
       "    }\n",
       "</style>\n",
       "<table border=\"1\" class=\"dataframe\">\n",
       "  <thead>\n",
       "    <tr style=\"text-align: right;\">\n",
       "      <th></th>\n",
       "      <th>artist</th>\n",
       "      <th>auth</th>\n",
       "      <th>firstname</th>\n",
       "      <th>gender</th>\n",
       "      <th>iteminsession</th>\n",
       "      <th>lastname</th>\n",
       "      <th>length</th>\n",
       "      <th>level</th>\n",
       "      <th>location</th>\n",
       "      <th>method</th>\n",
       "      <th>page</th>\n",
       "      <th>registration</th>\n",
       "      <th>sessionid</th>\n",
       "      <th>song</th>\n",
       "      <th>status</th>\n",
       "      <th>ts</th>\n",
       "      <th>useragent</th>\n",
       "      <th>userid</th>\n",
       "    </tr>\n",
       "  </thead>\n",
       "  <tbody>\n",
       "    <tr>\n",
       "      <th>count</th>\n",
       "      <td>6820</td>\n",
       "      <td>8056</td>\n",
       "      <td>7770</td>\n",
       "      <td>7770</td>\n",
       "      <td>8056</td>\n",
       "      <td>7770</td>\n",
       "      <td>6820</td>\n",
       "      <td>8056</td>\n",
       "      <td>7770</td>\n",
       "      <td>8056</td>\n",
       "      <td>8056</td>\n",
       "      <td>7770</td>\n",
       "      <td>8056</td>\n",
       "      <td>6820</td>\n",
       "      <td>8056</td>\n",
       "      <td>8056</td>\n",
       "      <td>7770</td>\n",
       "      <td>8056</td>\n",
       "    </tr>\n",
       "    <tr>\n",
       "      <th>unique</th>\n",
       "      <td>3148</td>\n",
       "      <td>2</td>\n",
       "      <td>85</td>\n",
       "      <td>2</td>\n",
       "      <td>128</td>\n",
       "      <td>87</td>\n",
       "      <td>3994</td>\n",
       "      <td>2</td>\n",
       "      <td>63</td>\n",
       "      <td>2</td>\n",
       "      <td>13</td>\n",
       "      <td>97</td>\n",
       "      <td>941</td>\n",
       "      <td>5189</td>\n",
       "      <td>3</td>\n",
       "      <td>8023</td>\n",
       "      <td>40</td>\n",
       "      <td>98</td>\n",
       "    </tr>\n",
       "    <tr>\n",
       "      <th>top</th>\n",
       "      <td>Coldplay</td>\n",
       "      <td>Logged In</td>\n",
       "      <td>Chloe</td>\n",
       "      <td>F</td>\n",
       "      <td>0</td>\n",
       "      <td>Cuevas</td>\n",
       "      <td>239.3073</td>\n",
       "      <td>paid</td>\n",
       "      <td>San Francisco-Oakland-Hayward, CA</td>\n",
       "      <td>PUT</td>\n",
       "      <td>NextSong</td>\n",
       "      <td>1540940782796</td>\n",
       "      <td>589</td>\n",
       "      <td>You're The One</td>\n",
       "      <td>200</td>\n",
       "      <td>1541345129796</td>\n",
       "      <td>\"Mozilla/5.0 (Macintosh; Intel Mac OS X 10_9_4...</td>\n",
       "      <td>49</td>\n",
       "    </tr>\n",
       "    <tr>\n",
       "      <th>freq</th>\n",
       "      <td>58</td>\n",
       "      <td>7770</td>\n",
       "      <td>791</td>\n",
       "      <td>5482</td>\n",
       "      <td>941</td>\n",
       "      <td>772</td>\n",
       "      <td>42</td>\n",
       "      <td>6291</td>\n",
       "      <td>776</td>\n",
       "      <td>7021</td>\n",
       "      <td>6820</td>\n",
       "      <td>772</td>\n",
       "      <td>128</td>\n",
       "      <td>37</td>\n",
       "      <td>7846</td>\n",
       "      <td>2</td>\n",
       "      <td>1098</td>\n",
       "      <td>772</td>\n",
       "    </tr>\n",
       "  </tbody>\n",
       "</table>\n",
       "</div>"
      ],
      "text/plain": [
       "          artist       auth firstname gender iteminsession lastname    length  \\\n",
       "count       6820       8056      7770   7770          8056     7770      6820   \n",
       "unique      3148          2        85      2           128       87      3994   \n",
       "top     Coldplay  Logged In     Chloe      F             0   Cuevas  239.3073   \n",
       "freq          58       7770       791   5482           941      772        42   \n",
       "\n",
       "       level                           location method      page  \\\n",
       "count   8056                               7770   8056      8056   \n",
       "unique     2                                 63      2        13   \n",
       "top     paid  San Francisco-Oakland-Hayward, CA    PUT  NextSong   \n",
       "freq    6291                                776   7021      6820   \n",
       "\n",
       "         registration sessionid            song status             ts  \\\n",
       "count            7770      8056            6820   8056           8056   \n",
       "unique             97       941            5189      3           8023   \n",
       "top     1540940782796       589  You're The One    200  1541345129796   \n",
       "freq              772       128              37   7846              2   \n",
       "\n",
       "                                                useragent userid  \n",
       "count                                                7770   8056  \n",
       "unique                                                 40     98  \n",
       "top     \"Mozilla/5.0 (Macintosh; Intel Mac OS X 10_9_4...     49  \n",
       "freq                                                 1098    772  "
      ]
     },
     "execution_count": 15,
     "metadata": {},
     "output_type": "execute_result"
    }
   ],
   "source": [
    "df_log_data.describe(include='O')"
   ]
  },
  {
   "cell_type": "markdown",
   "metadata": {
    "editable": true
   },
   "source": [
    "### Checking Data Completness"
   ]
  },
  {
   "cell_type": "code",
   "execution_count": 16,
   "metadata": {
    "editable": true
   },
   "outputs": [
    {
     "data": {
      "text/plain": [
       "artist           1236\n",
       "auth                0\n",
       "firstname         286\n",
       "gender            286\n",
       "iteminsession       0\n",
       "lastname          286\n",
       "length           1236\n",
       "level               0\n",
       "location          286\n",
       "method              0\n",
       "page                0\n",
       "registration      286\n",
       "sessionid           0\n",
       "song             1236\n",
       "status              0\n",
       "ts                  0\n",
       "useragent         286\n",
       "userid              0\n",
       "dtype: int64"
      ]
     },
     "execution_count": 16,
     "metadata": {},
     "output_type": "execute_result"
    }
   ],
   "source": [
    "df_log_data.isnull().sum()"
   ]
  },
  {
   "cell_type": "code",
   "execution_count": 17,
   "metadata": {
    "editable": true
   },
   "outputs": [
    {
     "data": {
      "text/plain": [
       "artist           False\n",
       "auth             False\n",
       "firstname        False\n",
       "gender           False\n",
       "iteminsession    False\n",
       "lastname         False\n",
       "length           False\n",
       "level            False\n",
       "location         False\n",
       "method           False\n",
       "page             False\n",
       "registration     False\n",
       "sessionid        False\n",
       "song             False\n",
       "status           False\n",
       "ts               False\n",
       "useragent        False\n",
       "userid            True\n",
       "dtype: bool"
      ]
     },
     "execution_count": 17,
     "metadata": {},
     "output_type": "execute_result"
    }
   ],
   "source": [
    "# Checking the empty Strings in all the Columns\n",
    "df_log_data.applymap(lambda x:x==\"\").any()"
   ]
  },
  {
   "cell_type": "code",
   "execution_count": 18,
   "metadata": {
    "editable": true
   },
   "outputs": [
    {
     "data": {
      "text/plain": [
       "286"
      ]
     },
     "execution_count": 18,
     "metadata": {},
     "output_type": "execute_result"
    }
   ],
   "source": [
    "len(df_log_data[df_log_data.userid == \"\"])"
   ]
  },
  {
   "cell_type": "markdown",
   "metadata": {
    "editable": true
   },
   "source": [
    "From the Cells above we can observe the below :\n",
    "- No Unique Column to be referenced for the records\n",
    "- Data is not complete, as many Columns contain NULLs & Empty Strings\n",
    "- NULLs & empty Strings Numbers are the same for many Columns which indicates a business logic behind these inconsistencies"
   ]
  },
  {
   "cell_type": "markdown",
   "metadata": {
    "editable": true
   },
   "source": [
    "## Loading Time Table Data"
   ]
  },
  {
   "cell_type": "markdown",
   "metadata": {
    "editable": true
   },
   "source": [
    "8023 Records should be inserted in Time table"
   ]
  },
  {
   "cell_type": "code",
   "execution_count": 19,
   "metadata": {
    "editable": true
   },
   "outputs": [],
   "source": [
    "cur.execute('CREATE SCHEMA IF NOT EXISTS SPARKIFY_SCHEMA;')"
   ]
  },
  {
   "cell_type": "code",
   "execution_count": 20,
   "metadata": {
    "editable": true
   },
   "outputs": [],
   "source": [
    "cur.execute(\"\"\"\n",
    "CREATE TABLE IF NOT EXISTS SPARKIFY_SCHEMA.TIME_TBL\n",
    "(\n",
    "TIME_ID BIGINT PRIMARY KEY,\n",
    "TS_FORMATTED TIMESTAMP,\n",
    "YEAR_COL INT,\n",
    "MONTH_COL INT,\n",
    "DAY_COL INT,\n",
    "HOUR_COL INT,\n",
    "DAY_NAME VARCHAR(50)\n",
    ");\n",
    "\"\"\")"
   ]
  },
  {
   "cell_type": "code",
   "execution_count": 21,
   "metadata": {
    "editable": true
   },
   "outputs": [],
   "source": [
    "conn.commit()"
   ]
  },
  {
   "cell_type": "code",
   "execution_count": 22,
   "metadata": {
    "editable": true
   },
   "outputs": [],
   "source": [
    "cur.execute(\"\"\"\n",
    "INSERT INTO SPARKIFY_SCHEMA.TIME_TBL\n",
    "SELECT DISTINCT \n",
    "CAST(ts AS BIGINT) AS TIME_ID\n",
    ",TIMESTAMP 'epoch' + ts/1000 *INTERVAL '1 second' AS TS_FORMATTED\n",
    ",EXTRACT(year FROM (TIMESTAMP 'epoch' + ts/1000 *INTERVAL '1 second')) AS YEAR_COL\n",
    ",EXTRACT(month FROM (TIMESTAMP 'epoch' + ts/1000 *INTERVAL '1 second')) AS MONTH_COL\n",
    ",EXTRACT(day FROM (TIMESTAMP 'epoch' + ts/1000 *INTERVAL '1 second')) AS DAY_COL\n",
    ",EXTRACT(hour FROM (TIMESTAMP 'epoch' + ts/1000 *INTERVAL '1 second')) AS HOUR_COL\n",
    ",CASE \n",
    "WHEN EXTRACT(dayofweek FROM (TIMESTAMP 'epoch' + ts/1000 *INTERVAL '1 second')) = 0 THEN 'Sunday'\n",
    "WHEN EXTRACT(dayofweek FROM (TIMESTAMP 'epoch' + ts/1000 *INTERVAL '1 second')) = 1 THEN 'Monday'\n",
    "WHEN EXTRACT(dayofweek FROM (TIMESTAMP 'epoch' + ts/1000 *INTERVAL '1 second')) = 2 THEN 'Tuesday'\n",
    "WHEN EXTRACT(dayofweek FROM (TIMESTAMP 'epoch' + ts/1000 *INTERVAL '1 second')) = 3 THEN 'Wednesday'\n",
    "WHEN EXTRACT(dayofweek FROM (TIMESTAMP 'epoch' + ts/1000 *INTERVAL '1 second')) = 4 THEN 'Thursday'\n",
    "WHEN EXTRACT(dayofweek FROM (TIMESTAMP 'epoch' + ts/1000 *INTERVAL '1 second')) = 5 THEN 'Friday'\n",
    "WHEN EXTRACT(dayofweek FROM (TIMESTAMP 'epoch' + ts/1000 *INTERVAL '1 second')) = 6 THEN 'Saturday'\n",
    "END AS DAY_NAME\n",
    "FROM staging_schema.stg_log\n",
    "LEFT OUTER JOIN SPARKIFY_SCHEMA.TIME_TBL\n",
    "ON CAST(stg_log.ts AS BIGINT) = TIME_TBL.TIME_ID\n",
    "WHERE TIME_TBL.TIME_ID IS NULL;\n",
    "\"\"\"\n",
    ")"
   ]
  },
  {
   "cell_type": "code",
   "execution_count": 23,
   "metadata": {
    "editable": true
   },
   "outputs": [],
   "source": [
    "conn.commit()"
   ]
  },
  {
   "cell_type": "code",
   "execution_count": 24,
   "metadata": {
    "editable": true
   },
   "outputs": [],
   "source": [
    "cur.execute(\"\"\"SELECT COUNT(*) FROM SPARKIFY_SCHEMA.TIME_TBL;\"\"\")"
   ]
  },
  {
   "cell_type": "code",
   "execution_count": 25,
   "metadata": {
    "editable": true
   },
   "outputs": [
    {
     "data": {
      "text/plain": [
       "[(8023,)]"
      ]
     },
     "execution_count": 25,
     "metadata": {},
     "output_type": "execute_result"
    }
   ],
   "source": [
    "cur.fetchall()"
   ]
  },
  {
   "cell_type": "code",
   "execution_count": 26,
   "metadata": {
    "editable": true
   },
   "outputs": [],
   "source": [
    "cur.execute(\"\"\"SELECT * FROM SPARKIFY_SCHEMA.TIME_TBL;\"\"\")"
   ]
  },
  {
   "cell_type": "code",
   "execution_count": 27,
   "metadata": {
    "editable": true
   },
   "outputs": [],
   "source": [
    "list_time_tbl_cols = ['TIME_ID','TS_FORMATTED','YEAR_COL','MONTH_COL','DAY_COL','HOUR_COL','DAY_NAME']"
   ]
  },
  {
   "cell_type": "code",
   "execution_count": 28,
   "metadata": {
    "editable": true
   },
   "outputs": [],
   "source": [
    "df_time_tbl = pd.DataFrame(columns=list_time_tbl_cols,data=cur.fetchall())"
   ]
  },
  {
   "cell_type": "code",
   "execution_count": 29,
   "metadata": {
    "editable": true
   },
   "outputs": [
    {
     "data": {
      "text/html": [
       "<div>\n",
       "<style scoped>\n",
       "    .dataframe tbody tr th:only-of-type {\n",
       "        vertical-align: middle;\n",
       "    }\n",
       "\n",
       "    .dataframe tbody tr th {\n",
       "        vertical-align: top;\n",
       "    }\n",
       "\n",
       "    .dataframe thead th {\n",
       "        text-align: right;\n",
       "    }\n",
       "</style>\n",
       "<table border=\"1\" class=\"dataframe\">\n",
       "  <thead>\n",
       "    <tr style=\"text-align: right;\">\n",
       "      <th></th>\n",
       "      <th>TIME_ID</th>\n",
       "      <th>TS_FORMATTED</th>\n",
       "      <th>YEAR_COL</th>\n",
       "      <th>MONTH_COL</th>\n",
       "      <th>DAY_COL</th>\n",
       "      <th>HOUR_COL</th>\n",
       "      <th>DAY_NAME</th>\n",
       "    </tr>\n",
       "  </thead>\n",
       "  <tbody>\n",
       "    <tr>\n",
       "      <th>0</th>\n",
       "      <td>1541239749796</td>\n",
       "      <td>2018-11-03 10:09:09.796</td>\n",
       "      <td>2018</td>\n",
       "      <td>11</td>\n",
       "      <td>3</td>\n",
       "      <td>10</td>\n",
       "      <td>Saturday</td>\n",
       "    </tr>\n",
       "    <tr>\n",
       "      <th>1</th>\n",
       "      <td>1541263189796</td>\n",
       "      <td>2018-11-03 16:39:49.796</td>\n",
       "      <td>2018</td>\n",
       "      <td>11</td>\n",
       "      <td>3</td>\n",
       "      <td>16</td>\n",
       "      <td>Saturday</td>\n",
       "    </tr>\n",
       "    <tr>\n",
       "      <th>2</th>\n",
       "      <td>1541264544796</td>\n",
       "      <td>2018-11-03 17:02:24.796</td>\n",
       "      <td>2018</td>\n",
       "      <td>11</td>\n",
       "      <td>3</td>\n",
       "      <td>17</td>\n",
       "      <td>Saturday</td>\n",
       "    </tr>\n",
       "    <tr>\n",
       "      <th>3</th>\n",
       "      <td>1541265446796</td>\n",
       "      <td>2018-11-03 17:17:26.796</td>\n",
       "      <td>2018</td>\n",
       "      <td>11</td>\n",
       "      <td>3</td>\n",
       "      <td>17</td>\n",
       "      <td>Saturday</td>\n",
       "    </tr>\n",
       "    <tr>\n",
       "      <th>4</th>\n",
       "      <td>1541267244796</td>\n",
       "      <td>2018-11-03 17:47:24.796</td>\n",
       "      <td>2018</td>\n",
       "      <td>11</td>\n",
       "      <td>3</td>\n",
       "      <td>17</td>\n",
       "      <td>Saturday</td>\n",
       "    </tr>\n",
       "  </tbody>\n",
       "</table>\n",
       "</div>"
      ],
      "text/plain": [
       "         TIME_ID            TS_FORMATTED  YEAR_COL  MONTH_COL  DAY_COL  \\\n",
       "0  1541239749796 2018-11-03 10:09:09.796      2018         11        3   \n",
       "1  1541263189796 2018-11-03 16:39:49.796      2018         11        3   \n",
       "2  1541264544796 2018-11-03 17:02:24.796      2018         11        3   \n",
       "3  1541265446796 2018-11-03 17:17:26.796      2018         11        3   \n",
       "4  1541267244796 2018-11-03 17:47:24.796      2018         11        3   \n",
       "\n",
       "   HOUR_COL  DAY_NAME  \n",
       "0        10  Saturday  \n",
       "1        16  Saturday  \n",
       "2        17  Saturday  \n",
       "3        17  Saturday  \n",
       "4        17  Saturday  "
      ]
     },
     "execution_count": 29,
     "metadata": {},
     "output_type": "execute_result"
    }
   ],
   "source": [
    "df_time_tbl.head()"
   ]
  },
  {
   "cell_type": "code",
   "execution_count": 30,
   "metadata": {
    "editable": true
   },
   "outputs": [
    {
     "data": {
      "text/plain": [
       "array(['Saturday', 'Friday', 'Sunday', 'Tuesday', 'Wednesday', 'Thursday',\n",
       "       'Monday'], dtype=object)"
      ]
     },
     "execution_count": 30,
     "metadata": {},
     "output_type": "execute_result"
    }
   ],
   "source": [
    "df_time_tbl.DAY_NAME.unique()"
   ]
  },
  {
   "cell_type": "code",
   "execution_count": 31,
   "metadata": {
    "editable": true
   },
   "outputs": [
    {
     "data": {
      "text/plain": [
       "array([2018])"
      ]
     },
     "execution_count": 31,
     "metadata": {},
     "output_type": "execute_result"
    }
   ],
   "source": [
    "df_time_tbl.YEAR_COL.unique()"
   ]
  },
  {
   "cell_type": "code",
   "execution_count": 32,
   "metadata": {
    "editable": true
   },
   "outputs": [
    {
     "data": {
      "text/plain": [
       "array([11])"
      ]
     },
     "execution_count": 32,
     "metadata": {},
     "output_type": "execute_result"
    }
   ],
   "source": [
    "df_time_tbl.MONTH_COL.unique()"
   ]
  },
  {
   "cell_type": "markdown",
   "metadata": {
    "editable": true
   },
   "source": [
    "Data is just a sample dataset, which contains only 2018-11 Data"
   ]
  },
  {
   "cell_type": "markdown",
   "metadata": {
    "editable": true
   },
   "source": [
    "## Loading User Table Data\n",
    "\n",
    "While Loading the Data of the User we need to respect the Order of the Data to have the Latest status for each user\n",
    "\n",
    "From the First look the Number of Records that shuld be inserted into User Table is 98, **BUT This is Wrong**, they should be **97** because there are Empty String in this field"
   ]
  },
  {
   "cell_type": "code",
   "execution_count": 33,
   "metadata": {
    "editable": true
   },
   "outputs": [],
   "source": [
    "list_user_cols = ['userid','firstname','lastname','gender','level']"
   ]
  },
  {
   "cell_type": "code",
   "execution_count": 34,
   "metadata": {
    "editable": true
   },
   "outputs": [
    {
     "data": {
      "text/html": [
       "<div>\n",
       "<style scoped>\n",
       "    .dataframe tbody tr th:only-of-type {\n",
       "        vertical-align: middle;\n",
       "    }\n",
       "\n",
       "    .dataframe tbody tr th {\n",
       "        vertical-align: top;\n",
       "    }\n",
       "\n",
       "    .dataframe thead th {\n",
       "        text-align: right;\n",
       "    }\n",
       "</style>\n",
       "<table border=\"1\" class=\"dataframe\">\n",
       "  <thead>\n",
       "    <tr style=\"text-align: right;\">\n",
       "      <th></th>\n",
       "      <th>userid</th>\n",
       "      <th>firstname</th>\n",
       "      <th>lastname</th>\n",
       "      <th>gender</th>\n",
       "      <th>level</th>\n",
       "    </tr>\n",
       "  </thead>\n",
       "  <tbody>\n",
       "    <tr>\n",
       "      <th>0</th>\n",
       "      <td></td>\n",
       "      <td>None</td>\n",
       "      <td>None</td>\n",
       "      <td>None</td>\n",
       "      <td>free</td>\n",
       "    </tr>\n",
       "    <tr>\n",
       "      <th>1</th>\n",
       "      <td>53</td>\n",
       "      <td>Celeste</td>\n",
       "      <td>Williams</td>\n",
       "      <td>F</td>\n",
       "      <td>free</td>\n",
       "    </tr>\n",
       "    <tr>\n",
       "      <th>2</th>\n",
       "      <td>53</td>\n",
       "      <td>Celeste</td>\n",
       "      <td>Williams</td>\n",
       "      <td>F</td>\n",
       "      <td>free</td>\n",
       "    </tr>\n",
       "    <tr>\n",
       "      <th>3</th>\n",
       "      <td>53</td>\n",
       "      <td>Celeste</td>\n",
       "      <td>Williams</td>\n",
       "      <td>F</td>\n",
       "      <td>free</td>\n",
       "    </tr>\n",
       "    <tr>\n",
       "      <th>4</th>\n",
       "      <td>53</td>\n",
       "      <td>Celeste</td>\n",
       "      <td>Williams</td>\n",
       "      <td>F</td>\n",
       "      <td>free</td>\n",
       "    </tr>\n",
       "  </tbody>\n",
       "</table>\n",
       "</div>"
      ],
      "text/plain": [
       "  userid firstname  lastname gender level\n",
       "0             None      None   None  free\n",
       "1     53   Celeste  Williams      F  free\n",
       "2     53   Celeste  Williams      F  free\n",
       "3     53   Celeste  Williams      F  free\n",
       "4     53   Celeste  Williams      F  free"
      ]
     },
     "execution_count": 34,
     "metadata": {},
     "output_type": "execute_result"
    }
   ],
   "source": [
    "df_log_data[list_user_cols].head()"
   ]
  },
  {
   "cell_type": "code",
   "execution_count": 35,
   "metadata": {
    "editable": true
   },
   "outputs": [
    {
     "data": {
      "text/plain": [
       "userid         0\n",
       "firstname    286\n",
       "lastname     286\n",
       "gender       286\n",
       "level          0\n",
       "dtype: int64"
      ]
     },
     "execution_count": 35,
     "metadata": {},
     "output_type": "execute_result"
    }
   ],
   "source": [
    "df_log_data[list_user_cols].isnull().sum()"
   ]
  },
  {
   "cell_type": "code",
   "execution_count": 36,
   "metadata": {
    "editable": true
   },
   "outputs": [
    {
     "data": {
      "text/plain": [
       "userid        True\n",
       "firstname    False\n",
       "lastname     False\n",
       "gender       False\n",
       "level        False\n",
       "dtype: bool"
      ]
     },
     "execution_count": 36,
     "metadata": {},
     "output_type": "execute_result"
    }
   ],
   "source": [
    "df_log_data[list_user_cols].applymap(lambda x:x==\"\").any()"
   ]
  },
  {
   "cell_type": "code",
   "execution_count": 37,
   "metadata": {
    "editable": true
   },
   "outputs": [
    {
     "data": {
      "text/plain": [
       "userid       0\n",
       "firstname    0\n",
       "lastname     0\n",
       "gender       0\n",
       "level        0\n",
       "dtype: int64"
      ]
     },
     "execution_count": 37,
     "metadata": {},
     "output_type": "execute_result"
    }
   ],
   "source": [
    "df_log_data[(df_log_data.auth =='Logged In')][list_user_cols].isnull().sum()"
   ]
  },
  {
   "cell_type": "code",
   "execution_count": 38,
   "metadata": {
    "editable": true
   },
   "outputs": [
    {
     "data": {
      "text/plain": [
       "userid       False\n",
       "firstname    False\n",
       "lastname     False\n",
       "gender       False\n",
       "level        False\n",
       "dtype: bool"
      ]
     },
     "execution_count": 38,
     "metadata": {},
     "output_type": "execute_result"
    }
   ],
   "source": [
    "df_log_data[(df_log_data.auth =='Logged In')][list_user_cols].applymap(lambda x:x==\"\").any()"
   ]
  },
  {
   "cell_type": "markdown",
   "metadata": {
    "editable": true
   },
   "source": [
    "From the Above cells we have to filter the User data when the 'auth' column = 'Logged In' to get user Data."
   ]
  },
  {
   "cell_type": "code",
   "execution_count": 39,
   "metadata": {
    "editable": true
   },
   "outputs": [
    {
     "data": {
      "text/plain": [
       "97"
      ]
     },
     "execution_count": 39,
     "metadata": {},
     "output_type": "execute_result"
    }
   ],
   "source": [
    "# No. of users to be loaded\n",
    "len(df_log_data[(df_log_data.auth =='Logged In')].userid.unique())"
   ]
  },
  {
   "cell_type": "code",
   "execution_count": 40,
   "metadata": {
    "editable": true
   },
   "outputs": [
    {
     "name": "stdout",
     "output_type": "stream",
     "text": [
      "userid : 3\n",
      "firstname : nan\n",
      "lastname : nan\n",
      "gender : nan\n",
      "level : 4\n"
     ]
    }
   ],
   "source": [
    "# Checking the Lengthes of all the Columns to define the approperiate Length & Data Type\n",
    "for col in df_log_data.dtypes[df_log_data.dtypes.values == 'object'][list_user_cols].index:\n",
    "    print(\"{} : {}\".format(col,max(df_log_data[col].str.len().values)))"
   ]
  },
  {
   "cell_type": "code",
   "execution_count": 41,
   "metadata": {
    "editable": true
   },
   "outputs": [
    {
     "data": {
      "text/html": [
       "<div>\n",
       "<style scoped>\n",
       "    .dataframe tbody tr th:only-of-type {\n",
       "        vertical-align: middle;\n",
       "    }\n",
       "\n",
       "    .dataframe tbody tr th {\n",
       "        vertical-align: top;\n",
       "    }\n",
       "\n",
       "    .dataframe thead th {\n",
       "        text-align: right;\n",
       "    }\n",
       "</style>\n",
       "<table border=\"1\" class=\"dataframe\">\n",
       "  <thead>\n",
       "    <tr style=\"text-align: right;\">\n",
       "      <th></th>\n",
       "      <th>userid</th>\n",
       "      <th>firstname</th>\n",
       "      <th>lastname</th>\n",
       "      <th>gender</th>\n",
       "      <th>level</th>\n",
       "    </tr>\n",
       "  </thead>\n",
       "  <tbody>\n",
       "  </tbody>\n",
       "</table>\n",
       "</div>"
      ],
      "text/plain": [
       "Empty DataFrame\n",
       "Columns: [userid, firstname, lastname, gender, level]\n",
       "Index: []"
      ]
     },
     "execution_count": 41,
     "metadata": {},
     "output_type": "execute_result"
    }
   ],
   "source": [
    "# checking if all Users Ids are Numeric\n",
    "df_log_data[(~df_log_data.userid.str.isdigit()) & (df_log_data.auth =='Logged In')][list_user_cols]"
   ]
  },
  {
   "cell_type": "code",
   "execution_count": 42,
   "metadata": {
    "editable": true
   },
   "outputs": [],
   "source": [
    "cur.execute(\"\"\"\n",
    "CREATE TABLE IF NOT EXISTS SPARKIFY_SCHEMA.USER_TBL\n",
    "(\n",
    "USER_ID INTEGER PRIMARY KEY,\n",
    "FIRST_NAME VARCHAR(50),\n",
    "LAST_NAME VARCHAR(50),\n",
    "GENDER CHAR(1),\n",
    "LEVEL VARCHAR(10)\n",
    ");\n",
    "\"\"\"\n",
    ")"
   ]
  },
  {
   "cell_type": "code",
   "execution_count": 43,
   "metadata": {
    "editable": true
   },
   "outputs": [],
   "source": [
    "conn.commit()"
   ]
  },
  {
   "cell_type": "code",
   "execution_count": 44,
   "metadata": {
    "editable": true
   },
   "outputs": [],
   "source": [
    "cur.execute(\"\"\"\n",
    "DELETE FROM SPARKIFY_SCHEMA.USER_TBL\n",
    "USING staging_schema.stg_log\n",
    "WHERE USER_TBL.USER_ID = stg_log.userid;\n",
    "\"\"\")"
   ]
  },
  {
   "cell_type": "code",
   "execution_count": 45,
   "metadata": {
    "editable": true
   },
   "outputs": [],
   "source": [
    "conn.commit()"
   ]
  },
  {
   "cell_type": "code",
   "execution_count": 46,
   "metadata": {
    "editable": true
   },
   "outputs": [],
   "source": [
    "cur.execute(\"\"\"\n",
    "INSERT INTO SPARKIFY_SCHEMA.USER_TBL\n",
    "SELECT USER_ID,FIRST_NAME,LAST_NAME,gender,level\n",
    "FROM \n",
    "(\n",
    "SELECT\n",
    "CAST(userid AS INTEGER) AS USER_ID,\n",
    "firstname AS FIRST_NAME,\n",
    "lastname AS LAST_NAME,\n",
    "gender,\n",
    "level,\n",
    "ROW_NUMBER() OVER (PARTITION BY userid order BY ts DESC) AS ROW_NUM\n",
    "FROM staging_schema.stg_log\n",
    "WHERE auth='Logged In'\n",
    ") WHERE ROW_NUM = 1;\n",
    "\"\"\")"
   ]
  },
  {
   "cell_type": "code",
   "execution_count": 47,
   "metadata": {
    "editable": true
   },
   "outputs": [],
   "source": [
    "conn.commit()"
   ]
  },
  {
   "cell_type": "code",
   "execution_count": 48,
   "metadata": {
    "editable": true
   },
   "outputs": [],
   "source": [
    "cur.execute(\"\"\"SELECT * FROM SPARKIFY_SCHEMA.USER_TBL\"\"\")"
   ]
  },
  {
   "cell_type": "code",
   "execution_count": 49,
   "metadata": {
    "editable": true
   },
   "outputs": [],
   "source": [
    "df_user_data = pd.DataFrame(data=cur.fetchall(),columns=list_user_cols)"
   ]
  },
  {
   "cell_type": "code",
   "execution_count": 50,
   "metadata": {
    "editable": true
   },
   "outputs": [
    {
     "data": {
      "text/plain": [
       "97"
      ]
     },
     "execution_count": 50,
     "metadata": {},
     "output_type": "execute_result"
    }
   ],
   "source": [
    "len(df_user_data)"
   ]
  },
  {
   "cell_type": "code",
   "execution_count": 51,
   "metadata": {
    "editable": true
   },
   "outputs": [
    {
     "data": {
      "text/html": [
       "<div>\n",
       "<style scoped>\n",
       "    .dataframe tbody tr th:only-of-type {\n",
       "        vertical-align: middle;\n",
       "    }\n",
       "\n",
       "    .dataframe tbody tr th {\n",
       "        vertical-align: top;\n",
       "    }\n",
       "\n",
       "    .dataframe thead th {\n",
       "        text-align: right;\n",
       "    }\n",
       "</style>\n",
       "<table border=\"1\" class=\"dataframe\">\n",
       "  <thead>\n",
       "    <tr style=\"text-align: right;\">\n",
       "      <th></th>\n",
       "      <th>userid</th>\n",
       "      <th>firstname</th>\n",
       "      <th>lastname</th>\n",
       "      <th>gender</th>\n",
       "      <th>level</th>\n",
       "    </tr>\n",
       "  </thead>\n",
       "  <tbody>\n",
       "    <tr>\n",
       "      <th>0</th>\n",
       "      <td>12</td>\n",
       "      <td>Austin</td>\n",
       "      <td>Rosales</td>\n",
       "      <td>M</td>\n",
       "      <td>free</td>\n",
       "    </tr>\n",
       "    <tr>\n",
       "      <th>1</th>\n",
       "      <td>33</td>\n",
       "      <td>Bronson</td>\n",
       "      <td>Harris</td>\n",
       "      <td>M</td>\n",
       "      <td>free</td>\n",
       "    </tr>\n",
       "    <tr>\n",
       "      <th>2</th>\n",
       "      <td>51</td>\n",
       "      <td>Maia</td>\n",
       "      <td>Burke</td>\n",
       "      <td>F</td>\n",
       "      <td>free</td>\n",
       "    </tr>\n",
       "    <tr>\n",
       "      <th>3</th>\n",
       "      <td>63</td>\n",
       "      <td>Ayla</td>\n",
       "      <td>Johnson</td>\n",
       "      <td>F</td>\n",
       "      <td>free</td>\n",
       "    </tr>\n",
       "    <tr>\n",
       "      <th>4</th>\n",
       "      <td>74</td>\n",
       "      <td>Braden</td>\n",
       "      <td>Parker</td>\n",
       "      <td>M</td>\n",
       "      <td>free</td>\n",
       "    </tr>\n",
       "    <tr>\n",
       "      <th>5</th>\n",
       "      <td>98</td>\n",
       "      <td>Jordyn</td>\n",
       "      <td>Powell</td>\n",
       "      <td>F</td>\n",
       "      <td>free</td>\n",
       "    </tr>\n",
       "    <tr>\n",
       "      <th>6</th>\n",
       "      <td>20</td>\n",
       "      <td>Aiden</td>\n",
       "      <td>Ramirez</td>\n",
       "      <td>M</td>\n",
       "      <td>paid</td>\n",
       "    </tr>\n",
       "    <tr>\n",
       "      <th>7</th>\n",
       "      <td>28</td>\n",
       "      <td>Brantley</td>\n",
       "      <td>West</td>\n",
       "      <td>M</td>\n",
       "      <td>free</td>\n",
       "    </tr>\n",
       "    <tr>\n",
       "      <th>8</th>\n",
       "      <td>39</td>\n",
       "      <td>Walter</td>\n",
       "      <td>Frye</td>\n",
       "      <td>M</td>\n",
       "      <td>free</td>\n",
       "    </tr>\n",
       "    <tr>\n",
       "      <th>9</th>\n",
       "      <td>72</td>\n",
       "      <td>Hayden</td>\n",
       "      <td>Brock</td>\n",
       "      <td>F</td>\n",
       "      <td>paid</td>\n",
       "    </tr>\n",
       "  </tbody>\n",
       "</table>\n",
       "</div>"
      ],
      "text/plain": [
       "   userid firstname lastname gender level\n",
       "0      12    Austin  Rosales      M  free\n",
       "1      33   Bronson   Harris      M  free\n",
       "2      51      Maia    Burke      F  free\n",
       "3      63      Ayla  Johnson      F  free\n",
       "4      74    Braden   Parker      M  free\n",
       "5      98    Jordyn   Powell      F  free\n",
       "6      20     Aiden  Ramirez      M  paid\n",
       "7      28  Brantley     West      M  free\n",
       "8      39    Walter     Frye      M  free\n",
       "9      72    Hayden    Brock      F  paid"
      ]
     },
     "execution_count": 51,
     "metadata": {},
     "output_type": "execute_result"
    }
   ],
   "source": [
    "df_user_data.head(10)"
   ]
  },
  {
   "cell_type": "code",
   "execution_count": 52,
   "metadata": {
    "editable": true
   },
   "outputs": [
    {
     "data": {
      "text/plain": [
       "userid       0\n",
       "firstname    0\n",
       "lastname     0\n",
       "gender       0\n",
       "level        0\n",
       "dtype: int64"
      ]
     },
     "execution_count": 52,
     "metadata": {},
     "output_type": "execute_result"
    }
   ],
   "source": [
    "df_user_data.isnull().sum()"
   ]
  },
  {
   "cell_type": "markdown",
   "metadata": {
    "editable": true
   },
   "source": [
    "## Loading Song Play Table"
   ]
  },
  {
   "cell_type": "markdown",
   "metadata": {
    "editable": true
   },
   "source": [
    "To Load Song Play Data, we have to filter 'page' col = 'NextSong'"
   ]
  },
  {
   "cell_type": "code",
   "execution_count": 53,
   "metadata": {
    "editable": true
   },
   "outputs": [
    {
     "data": {
      "text/plain": [
       "Index(['artist', 'auth', 'firstname', 'gender', 'iteminsession', 'lastname',\n",
       "       'length', 'level', 'location', 'method', 'page', 'registration',\n",
       "       'sessionid', 'song', 'status', 'ts', 'useragent', 'userid'],\n",
       "      dtype='object')"
      ]
     },
     "execution_count": 53,
     "metadata": {},
     "output_type": "execute_result"
    }
   ],
   "source": [
    "df_log_data.columns"
   ]
  },
  {
   "cell_type": "code",
   "execution_count": 54,
   "metadata": {
    "editable": true
   },
   "outputs": [],
   "source": [
    "list_song_play_cols = ['ts','sessionid','artist','song','userid','level','location','useragent','auth']"
   ]
  },
  {
   "cell_type": "code",
   "execution_count": 55,
   "metadata": {
    "editable": true
   },
   "outputs": [
    {
     "data": {
      "text/html": [
       "<div>\n",
       "<style scoped>\n",
       "    .dataframe tbody tr th:only-of-type {\n",
       "        vertical-align: middle;\n",
       "    }\n",
       "\n",
       "    .dataframe tbody tr th {\n",
       "        vertical-align: top;\n",
       "    }\n",
       "\n",
       "    .dataframe thead th {\n",
       "        text-align: right;\n",
       "    }\n",
       "</style>\n",
       "<table border=\"1\" class=\"dataframe\">\n",
       "  <thead>\n",
       "    <tr style=\"text-align: right;\">\n",
       "      <th></th>\n",
       "      <th>ts</th>\n",
       "      <th>sessionid</th>\n",
       "      <th>artist</th>\n",
       "      <th>song</th>\n",
       "      <th>userid</th>\n",
       "      <th>level</th>\n",
       "      <th>location</th>\n",
       "      <th>useragent</th>\n",
       "      <th>auth</th>\n",
       "    </tr>\n",
       "  </thead>\n",
       "  <tbody>\n",
       "    <tr>\n",
       "      <th>0</th>\n",
       "      <td>1541207073796</td>\n",
       "      <td>52</td>\n",
       "      <td>None</td>\n",
       "      <td>None</td>\n",
       "      <td></td>\n",
       "      <td>free</td>\n",
       "      <td>None</td>\n",
       "      <td>None</td>\n",
       "      <td>Logged Out</td>\n",
       "    </tr>\n",
       "    <tr>\n",
       "      <th>1</th>\n",
       "      <td>1541207123796</td>\n",
       "      <td>52</td>\n",
       "      <td>None</td>\n",
       "      <td>None</td>\n",
       "      <td>53</td>\n",
       "      <td>free</td>\n",
       "      <td>Klamath Falls, OR</td>\n",
       "      <td>\"Mozilla/5.0 (Windows NT 6.1; WOW64) AppleWebK...</td>\n",
       "      <td>Logged In</td>\n",
       "    </tr>\n",
       "    <tr>\n",
       "      <th>2</th>\n",
       "      <td>1541207150796</td>\n",
       "      <td>52</td>\n",
       "      <td>Mynt</td>\n",
       "      <td>Playa Haters</td>\n",
       "      <td>53</td>\n",
       "      <td>free</td>\n",
       "      <td>Klamath Falls, OR</td>\n",
       "      <td>\"Mozilla/5.0 (Windows NT 6.1; WOW64) AppleWebK...</td>\n",
       "      <td>Logged In</td>\n",
       "    </tr>\n",
       "    <tr>\n",
       "      <th>3</th>\n",
       "      <td>1541207316796</td>\n",
       "      <td>52</td>\n",
       "      <td>Taylor Swift</td>\n",
       "      <td>You Belong With Me</td>\n",
       "      <td>53</td>\n",
       "      <td>free</td>\n",
       "      <td>Klamath Falls, OR</td>\n",
       "      <td>\"Mozilla/5.0 (Windows NT 6.1; WOW64) AppleWebK...</td>\n",
       "      <td>Logged In</td>\n",
       "    </tr>\n",
       "    <tr>\n",
       "      <th>4</th>\n",
       "      <td>1541207546796</td>\n",
       "      <td>52</td>\n",
       "      <td>Amy Winehouse</td>\n",
       "      <td>Valerie</td>\n",
       "      <td>53</td>\n",
       "      <td>free</td>\n",
       "      <td>Klamath Falls, OR</td>\n",
       "      <td>\"Mozilla/5.0 (Windows NT 6.1; WOW64) AppleWebK...</td>\n",
       "      <td>Logged In</td>\n",
       "    </tr>\n",
       "  </tbody>\n",
       "</table>\n",
       "</div>"
      ],
      "text/plain": [
       "              ts sessionid         artist                song userid level  \\\n",
       "0  1541207073796        52           None                None         free   \n",
       "1  1541207123796        52           None                None     53  free   \n",
       "2  1541207150796        52           Mynt        Playa Haters     53  free   \n",
       "3  1541207316796        52   Taylor Swift  You Belong With Me     53  free   \n",
       "4  1541207546796        52  Amy Winehouse             Valerie     53  free   \n",
       "\n",
       "            location                                          useragent  \\\n",
       "0               None                                               None   \n",
       "1  Klamath Falls, OR  \"Mozilla/5.0 (Windows NT 6.1; WOW64) AppleWebK...   \n",
       "2  Klamath Falls, OR  \"Mozilla/5.0 (Windows NT 6.1; WOW64) AppleWebK...   \n",
       "3  Klamath Falls, OR  \"Mozilla/5.0 (Windows NT 6.1; WOW64) AppleWebK...   \n",
       "4  Klamath Falls, OR  \"Mozilla/5.0 (Windows NT 6.1; WOW64) AppleWebK...   \n",
       "\n",
       "         auth  \n",
       "0  Logged Out  \n",
       "1   Logged In  \n",
       "2   Logged In  \n",
       "3   Logged In  \n",
       "4   Logged In  "
      ]
     },
     "execution_count": 55,
     "metadata": {},
     "output_type": "execute_result"
    }
   ],
   "source": [
    "df_log_data[list_song_play_cols].head()"
   ]
  },
  {
   "cell_type": "markdown",
   "metadata": {
    "editable": true
   },
   "source": [
    "### Checking Data Completness"
   ]
  },
  {
   "cell_type": "code",
   "execution_count": 56,
   "metadata": {
    "editable": true
   },
   "outputs": [
    {
     "data": {
      "text/plain": [
       "ts              0\n",
       "sessionid       0\n",
       "artist       1236\n",
       "song         1236\n",
       "userid          0\n",
       "level           0\n",
       "location      286\n",
       "useragent     286\n",
       "auth            0\n",
       "dtype: int64"
      ]
     },
     "execution_count": 56,
     "metadata": {},
     "output_type": "execute_result"
    }
   ],
   "source": [
    "df_log_data[list_song_play_cols].isnull().sum()"
   ]
  },
  {
   "cell_type": "code",
   "execution_count": 57,
   "metadata": {
    "editable": true
   },
   "outputs": [
    {
     "data": {
      "text/plain": [
       "ts           0\n",
       "sessionid    0\n",
       "artist       0\n",
       "song         0\n",
       "userid       0\n",
       "level        0\n",
       "location     0\n",
       "useragent    0\n",
       "auth         0\n",
       "dtype: int64"
      ]
     },
     "execution_count": 57,
     "metadata": {},
     "output_type": "execute_result"
    }
   ],
   "source": [
    "df_log_data[df_log_data.page == 'NextSong'][list_song_play_cols].isnull().sum()"
   ]
  },
  {
   "cell_type": "code",
   "execution_count": 58,
   "metadata": {
    "editable": true
   },
   "outputs": [
    {
     "data": {
      "text/plain": [
       "ts           False\n",
       "sessionid    False\n",
       "artist       False\n",
       "song         False\n",
       "userid       False\n",
       "level        False\n",
       "location     False\n",
       "useragent    False\n",
       "auth         False\n",
       "dtype: bool"
      ]
     },
     "execution_count": 58,
     "metadata": {},
     "output_type": "execute_result"
    }
   ],
   "source": [
    "df_log_data[df_log_data.page == 'NextSong'][list_song_play_cols].applymap(lambda x:x==\"\").any()"
   ]
  },
  {
   "cell_type": "code",
   "execution_count": 59,
   "metadata": {
    "editable": true
   },
   "outputs": [
    {
     "data": {
      "text/plain": [
       "6820"
      ]
     },
     "execution_count": 59,
     "metadata": {},
     "output_type": "execute_result"
    }
   ],
   "source": [
    "len(df_log_data[df_log_data.page == 'NextSong'])"
   ]
  },
  {
   "cell_type": "markdown",
   "metadata": {
    "editable": true
   },
   "source": [
    "### Checking Data Uniquness"
   ]
  },
  {
   "cell_type": "code",
   "execution_count": 60,
   "metadata": {
    "editable": true
   },
   "outputs": [],
   "source": [
    "cur.execute(\n",
    "\"\"\"\n",
    "SELECT ts,sessionid,COUNT(*)\n",
    "FROM STAGING_SCHEMA.STG_LOG\n",
    "WHERE page = 'NextSong'\n",
    "GROUP BY ts,sessionid\n",
    "HAVING COUNT(*) > 1\n",
    "\"\"\")"
   ]
  },
  {
   "cell_type": "code",
   "execution_count": 61,
   "metadata": {
    "editable": true
   },
   "outputs": [
    {
     "data": {
      "text/plain": [
       "[]"
      ]
     },
     "execution_count": 61,
     "metadata": {},
     "output_type": "execute_result"
    }
   ],
   "source": [
    "cur.fetchall()"
   ]
  },
  {
   "cell_type": "markdown",
   "metadata": {
    "editable": true
   },
   "source": [
    "Then we will stick with current Columns as PK, ts & sessionid"
   ]
  },
  {
   "cell_type": "markdown",
   "metadata": {
    "editable": true
   },
   "source": [
    "### Number of records to be inserted in Song Play Table"
   ]
  },
  {
   "cell_type": "code",
   "execution_count": 62,
   "metadata": {
    "editable": true
   },
   "outputs": [],
   "source": [
    "cur.execute(\n",
    "\"\"\"\n",
    "SELECT COUNT(*)\n",
    "FROM\n",
    "(\n",
    "SELECT ts,sessionid\n",
    "FROM STAGING_SCHEMA.STG_LOG\n",
    "WHERE page = 'NextSong'\n",
    "GROUP BY ts,sessionid\n",
    ")\n",
    "\"\"\")"
   ]
  },
  {
   "cell_type": "code",
   "execution_count": 63,
   "metadata": {
    "editable": true
   },
   "outputs": [
    {
     "data": {
      "text/plain": [
       "[(6820,)]"
      ]
     },
     "execution_count": 63,
     "metadata": {},
     "output_type": "execute_result"
    }
   ],
   "source": [
    "cur.fetchall()"
   ]
  },
  {
   "cell_type": "markdown",
   "metadata": {
    "editable": true
   },
   "source": [
    "6820 records shoud be inserted into Song Play Table"
   ]
  },
  {
   "cell_type": "code",
   "execution_count": 64,
   "metadata": {
    "editable": true
   },
   "outputs": [
    {
     "name": "stdout",
     "output_type": "stream",
     "text": [
      "ts : 13\n",
      "sessionid : 4\n",
      "artist : 89\n",
      "song : 151\n",
      "userid : 3\n",
      "level : 4\n",
      "location : 46\n",
      "useragent : 139\n",
      "auth : 10\n"
     ]
    }
   ],
   "source": [
    "# Checking the Lengthes of all the Columns to define the approperiate Length & Data Type\n",
    "for col in df_log_data.dtypes[df_log_data.dtypes.values == 'object'][list_song_play_cols].index:\n",
    "    print(\"{} : {}\".format(col,max(df_log_data[~(df_log_data[col].isnull())][col].str.len().values)))"
   ]
  },
  {
   "cell_type": "code",
   "execution_count": 65,
   "metadata": {
    "editable": true
   },
   "outputs": [
    {
     "data": {
      "text/html": [
       "<div>\n",
       "<style scoped>\n",
       "    .dataframe tbody tr th:only-of-type {\n",
       "        vertical-align: middle;\n",
       "    }\n",
       "\n",
       "    .dataframe tbody tr th {\n",
       "        vertical-align: top;\n",
       "    }\n",
       "\n",
       "    .dataframe thead th {\n",
       "        text-align: right;\n",
       "    }\n",
       "</style>\n",
       "<table border=\"1\" class=\"dataframe\">\n",
       "  <thead>\n",
       "    <tr style=\"text-align: right;\">\n",
       "      <th></th>\n",
       "      <th>ts</th>\n",
       "      <th>sessionid</th>\n",
       "      <th>artist</th>\n",
       "      <th>song</th>\n",
       "      <th>userid</th>\n",
       "      <th>level</th>\n",
       "      <th>location</th>\n",
       "      <th>useragent</th>\n",
       "      <th>auth</th>\n",
       "    </tr>\n",
       "  </thead>\n",
       "  <tbody>\n",
       "  </tbody>\n",
       "</table>\n",
       "</div>"
      ],
      "text/plain": [
       "Empty DataFrame\n",
       "Columns: [ts, sessionid, artist, song, userid, level, location, useragent, auth]\n",
       "Index: []"
      ]
     },
     "execution_count": 65,
     "metadata": {},
     "output_type": "execute_result"
    }
   ],
   "source": [
    "# checking if all Users Ids are Numeric\n",
    "df_log_data[(~df_log_data.sessionid .str.isdigit()) & (df_log_data.page == 'NextSong')][list_song_play_cols]"
   ]
  },
  {
   "cell_type": "markdown",
   "metadata": {
    "editable": true
   },
   "source": [
    "### Song Play Table DDL"
   ]
  },
  {
   "cell_type": "code",
   "execution_count": 66,
   "metadata": {
    "editable": true
   },
   "outputs": [],
   "source": [
    "cur.execute(\"\"\"\n",
    "CREATE TABLE IF NOT EXISTS SPARKIFY_SCHEMA.SONG_PLAY_TBL\n",
    "(\n",
    "UNIX_TS BIGINT,\n",
    "SESSION_ID BIGINT,\n",
    "ARTIST_ID VARCHAR(50) DEFAULT -9999,\n",
    "SONG_ID VARCHAR(50) DEFAULT -9999,\n",
    "USER_ID INTEGER DEFAULT -9999,\n",
    "USER_LEVEL VARCHAR(10),\n",
    "USER_LOCATION VARCHAR(100),\n",
    "USER_AGENT VARCHAR(250),\n",
    "USER_LOGGED VARCHAR(25),\n",
    "CREATION_TIMESTAMP TIMESTAMP,\n",
    "PRIMARY KEY (UNIX_TS,SESSION_ID)\n",
    ");\"\"\")"
   ]
  },
  {
   "cell_type": "code",
   "execution_count": 67,
   "metadata": {
    "editable": true
   },
   "outputs": [],
   "source": [
    "conn.commit()"
   ]
  },
  {
   "cell_type": "code",
   "execution_count": 68,
   "metadata": {
    "editable": true
   },
   "outputs": [],
   "source": [
    "cur.execute(\"\"\"\n",
    "DELETE FROM SPARKIFY_SCHEMA.SONG_PLAY_TBL\n",
    "USING staging_schema.stg_log\n",
    "WHERE SONG_PLAY_TBL.UNIX_TS = stg_log.ts\n",
    "AND SONG_PLAY_TBL.SESSION_ID = stg_log.sessionid\n",
    "AND stg_log.page = 'NextSong';\n",
    "\"\"\")"
   ]
  },
  {
   "cell_type": "code",
   "execution_count": 69,
   "metadata": {
    "editable": true
   },
   "outputs": [],
   "source": [
    "conn.commit()"
   ]
  },
  {
   "cell_type": "markdown",
   "metadata": {
    "editable": true
   },
   "source": [
    "### For Information why this Query please find the analysis below the SQL"
   ]
  },
  {
   "cell_type": "code",
   "execution_count": 70,
   "metadata": {
    "editable": true
   },
   "outputs": [],
   "source": [
    "cur.execute(\"\"\"\n",
    "INSERT INTO SPARKIFY_SCHEMA.SONG_PLAY_TBL\n",
    "SELECT DISTINCT\n",
    "CAST(ts AS BIGINT) AS UNIX_TS,\n",
    "CAST(sessionid AS BIGINT) AS SESSION_ID,\n",
    "ARTIST_OUTPUT.ARTIST_ID,\n",
    "SONG_OUTPUT.SONG_ID,\n",
    "CAST(userid AS INTEGER) AS USER_ID,\n",
    "level,\n",
    "location AS USER_LOCATION,\n",
    "useragent AS USER_AGENT,\n",
    "CAST(auth AS VARCHAR(25)) AS USER_LOGGED,\n",
    "TIMESTAMP 'epoch' + ts/1000 *INTERVAL '1 second' AS CREATION_TIMESTAMP\n",
    "FROM STAGING_SCHEMA.STG_LOG\n",
    "LEFT JOIN \n",
    "(\n",
    "    SELECT ARTIST_ID,ARTIST_NAME,\n",
    "    ROW_NUMBER() OVER (PARTITION BY ARTIST_NAME ORDER BY ARTIST_LATITUDE DESC, ARTIST_LONGITUTE DESC,ARTIST_LOCATION ASC) AS ROW_NUM\n",
    "    FROM SPARKIFY_SCHEMA.ARTIST_TBL\n",
    ") AS ARTIST_OUTPUT\n",
    "ON STG_LOG.artist = ARTIST_OUTPUT.ARTIST_NAME\n",
    "AND ARTIST_OUTPUT.ROW_NUM = 1\n",
    "LEFT JOIN\n",
    "(\n",
    "    SELECT SONG_ID,SONG_TITLE,\n",
    "    ROW_NUMBER() OVER (PARTITION BY SONG_TITLE ORDER BY SONG_YEAR DESC) AS ROW_NUM\n",
    "    FROM SPARKIFY_SCHEMA.SONG_TBL\n",
    ") AS SONG_OUTPUT\n",
    "ON TRIM(STG_LOG.song) = SONG_OUTPUT.SONG_TITLE\n",
    "AND SONG_OUTPUT.ROW_NUM = 1\n",
    "WHERE stg_log.page = 'NextSong'\n",
    "\"\"\")"
   ]
  },
  {
   "cell_type": "code",
   "execution_count": 71,
   "metadata": {
    "editable": true
   },
   "outputs": [],
   "source": [
    "conn.commit()"
   ]
  },
  {
   "cell_type": "code",
   "execution_count": 72,
   "metadata": {
    "editable": true
   },
   "outputs": [],
   "source": [
    "cur.execute(\"\"\"SELECT COUNT(*) FROM SPARKIFY_SCHEMA.SONG_PLAY_TBL\"\"\")"
   ]
  },
  {
   "cell_type": "code",
   "execution_count": 73,
   "metadata": {
    "editable": true
   },
   "outputs": [
    {
     "data": {
      "text/plain": [
       "[(6820,)]"
      ]
     },
     "execution_count": 73,
     "metadata": {},
     "output_type": "execute_result"
    }
   ],
   "source": [
    "cur.fetchall()"
   ]
  },
  {
   "cell_type": "markdown",
   "metadata": {
    "editable": true
   },
   "source": [
    "### Anlyzing the Data to figure out how to solve the Duplication Problem, as there are Duplicates in Song Titles & Artists Names"
   ]
  },
  {
   "cell_type": "code",
   "execution_count": 74,
   "metadata": {
    "editable": true
   },
   "outputs": [],
   "source": [
    "# This is the final Query to get the wanted result to be inserted into the table\n",
    "cur.execute(\"\"\"\n",
    "SELECT COUNT(*) FROM\n",
    "(\n",
    "SELECT DISTINCT\n",
    "CAST(ts AS BIGINT) AS UNIX_TS,\n",
    "CAST(sessionid AS BIGINT) AS SESSION_ID,\n",
    "artist,\n",
    "song,\n",
    "CAST(userid AS INTEGER) AS USER_ID,\n",
    "level,\n",
    "location AS USER_LOCATION,\n",
    "useragent AS USER_AGENT,\n",
    "CAST(auth AS VARCHAR(25)) AS USER_LOGGED,\n",
    "TIMESTAMP 'epoch' + ts/1000 *INTERVAL '1 second' AS CREATION_TIMESTAMP\n",
    "FROM STAGING_SCHEMA.STG_LOG\n",
    "LEFT JOIN \n",
    "(\n",
    "    SELECT ARTIST_ID,ARTIST_NAME,\n",
    "    ROW_NUMBER() OVER (PARTITION BY ARTIST_NAME ORDER BY ARTIST_LATITUDE DESC, ARTIST_LONGITUTE DESC,ARTIST_LOCATION ASC) AS ROW_NUM\n",
    "    FROM SPARKIFY_SCHEMA.ARTIST_TBL\n",
    ") AS ARTIST_OUTPUT\n",
    "ON STG_LOG.artist = ARTIST_OUTPUT.ARTIST_NAME\n",
    "AND ARTIST_OUTPUT.ROW_NUM = 1\n",
    "LEFT JOIN\n",
    "(\n",
    "    SELECT SONG_ID,SONG_TITLE,\n",
    "    ROW_NUMBER() OVER (PARTITION BY SONG_TITLE ORDER BY SONG_YEAR DESC) AS ROW_NUM\n",
    "    FROM SPARKIFY_SCHEMA.SONG_TBL\n",
    ") AS SONG_OUTPUT\n",
    "ON TRIM(STG_LOG.song) = SONG_OUTPUT.SONG_TITLE\n",
    "AND SONG_OUTPUT.ROW_NUM = 1\n",
    "WHERE stg_log.page = 'NextSong'\n",
    ") \n",
    "\"\"\")"
   ]
  },
  {
   "cell_type": "code",
   "execution_count": 75,
   "metadata": {
    "editable": true
   },
   "outputs": [
    {
     "data": {
      "text/html": [
       "<div>\n",
       "<style scoped>\n",
       "    .dataframe tbody tr th:only-of-type {\n",
       "        vertical-align: middle;\n",
       "    }\n",
       "\n",
       "    .dataframe tbody tr th {\n",
       "        vertical-align: top;\n",
       "    }\n",
       "\n",
       "    .dataframe thead th {\n",
       "        text-align: right;\n",
       "    }\n",
       "</style>\n",
       "<table border=\"1\" class=\"dataframe\">\n",
       "  <thead>\n",
       "    <tr style=\"text-align: right;\">\n",
       "      <th></th>\n",
       "      <th>0</th>\n",
       "    </tr>\n",
       "  </thead>\n",
       "  <tbody>\n",
       "    <tr>\n",
       "      <th>0</th>\n",
       "      <td>6820</td>\n",
       "    </tr>\n",
       "  </tbody>\n",
       "</table>\n",
       "</div>"
      ],
      "text/plain": [
       "      0\n",
       "0  6820"
      ]
     },
     "execution_count": 75,
     "metadata": {},
     "output_type": "execute_result"
    }
   ],
   "source": [
    "cur.fetchall()"
   ]
  },
  {
   "cell_type": "code",
   "execution_count": 76,
   "metadata": {
    "editable": true
   },
   "outputs": [],
   "source": [
    "cur.execute(\"\"\"\n",
    "SELECT *,\n",
    "ROW_NUMBER() OVER (PARTITION BY ARTIST_NAME ORDER BY ARTIST_LATITUDE DESC, ARTIST_LONGITUTE DESC,ARTIST_LOCATION ASC)\n",
    "FROM SPARKIFY_SCHEMA.ARTIST_TBL\n",
    "WHERE ARTIST_NAME IN\n",
    "(\n",
    "SELECT ARTIST_NAME\n",
    "FROM SPARKIFY_SCHEMA.ARTIST_TBL\n",
    "GROUP BY ARTIST_NAME\n",
    "HAVING COUNT(*) > 1\n",
    ")\n",
    "ORDER BY ARTIST_NAME\n",
    "\"\"\")"
   ]
  },
  {
   "cell_type": "code",
   "execution_count": 77,
   "metadata": {
    "editable": true
   },
   "outputs": [
    {
     "data": {
      "text/html": [
       "<div>\n",
       "<style scoped>\n",
       "    .dataframe tbody tr th:only-of-type {\n",
       "        vertical-align: middle;\n",
       "    }\n",
       "\n",
       "    .dataframe tbody tr th {\n",
       "        vertical-align: top;\n",
       "    }\n",
       "\n",
       "    .dataframe thead th {\n",
       "        text-align: right;\n",
       "    }\n",
       "</style>\n",
       "<table border=\"1\" class=\"dataframe\">\n",
       "  <thead>\n",
       "    <tr style=\"text-align: right;\">\n",
       "      <th></th>\n",
       "      <th>0</th>\n",
       "      <th>1</th>\n",
       "      <th>2</th>\n",
       "      <th>3</th>\n",
       "      <th>4</th>\n",
       "      <th>5</th>\n",
       "    </tr>\n",
       "  </thead>\n",
       "  <tbody>\n",
       "    <tr>\n",
       "      <th>0</th>\n",
       "      <td>ARFMT4W1187FB42FA8</td>\n",
       "      <td>Alison Krauss</td>\n",
       "      <td>Decatur, IL</td>\n",
       "      <td>-9999.00000</td>\n",
       "      <td>-9999.00000</td>\n",
       "      <td>1</td>\n",
       "    </tr>\n",
       "    <tr>\n",
       "      <th>1</th>\n",
       "      <td>ARF2SVO1187FB53E8F</td>\n",
       "      <td>Alison Krauss</td>\n",
       "      <td>Unknown</td>\n",
       "      <td>-9999.00000</td>\n",
       "      <td>-9999.00000</td>\n",
       "      <td>2</td>\n",
       "    </tr>\n",
       "    <tr>\n",
       "      <th>2</th>\n",
       "      <td>ARFQXJO11F50C4CFD4</td>\n",
       "      <td>Asheru And Blue Black Of The Unspoken Heard</td>\n",
       "      <td>Unknown</td>\n",
       "      <td>-9999.00000</td>\n",
       "      <td>-9999.00000</td>\n",
       "      <td>1</td>\n",
       "    </tr>\n",
       "    <tr>\n",
       "      <th>3</th>\n",
       "      <td>AR6OQLJ1187B9B032E</td>\n",
       "      <td>Asheru And Blue Black Of The Unspoken Heard</td>\n",
       "      <td>Unknown</td>\n",
       "      <td>-9999.00000</td>\n",
       "      <td>-9999.00000</td>\n",
       "      <td>2</td>\n",
       "    </tr>\n",
       "    <tr>\n",
       "      <th>4</th>\n",
       "      <td>AR4YYCG1187B9BA09E</td>\n",
       "      <td>Aterciopelados</td>\n",
       "      <td>Bogotá Colombia</td>\n",
       "      <td>4.65637</td>\n",
       "      <td>-74.11779</td>\n",
       "      <td>1</td>\n",
       "    </tr>\n",
       "    <tr>\n",
       "      <th>5</th>\n",
       "      <td>ARQDJVK11F33DFFFE5</td>\n",
       "      <td>Aterciopelados</td>\n",
       "      <td>Unknown</td>\n",
       "      <td>-9999.00000</td>\n",
       "      <td>-9999.00000</td>\n",
       "      <td>2</td>\n",
       "    </tr>\n",
       "    <tr>\n",
       "      <th>6</th>\n",
       "      <td>ARTDQRC1187FB4EFD4</td>\n",
       "      <td>Black Eyed Peas</td>\n",
       "      <td>Los Angeles, CA</td>\n",
       "      <td>-9999.00000</td>\n",
       "      <td>-9999.00000</td>\n",
       "      <td>1</td>\n",
       "    </tr>\n",
       "    <tr>\n",
       "      <th>7</th>\n",
       "      <td>ARRR0C11187B98C59B</td>\n",
       "      <td>Black Eyed Peas</td>\n",
       "      <td>Unknown</td>\n",
       "      <td>-9999.00000</td>\n",
       "      <td>-9999.00000</td>\n",
       "      <td>2</td>\n",
       "    </tr>\n",
       "    <tr>\n",
       "      <th>8</th>\n",
       "      <td>ARG4K2W1187B99EA5D</td>\n",
       "      <td>Charles Aznavour</td>\n",
       "      <td>Virginia</td>\n",
       "      <td>38.00335</td>\n",
       "      <td>-79.77127</td>\n",
       "      <td>1</td>\n",
       "    </tr>\n",
       "    <tr>\n",
       "      <th>9</th>\n",
       "      <td>ARWJAMZ1187B9B32CA</td>\n",
       "      <td>Charles Aznavour</td>\n",
       "      <td>US</td>\n",
       "      <td>-9999.00000</td>\n",
       "      <td>-9999.00000</td>\n",
       "      <td>2</td>\n",
       "    </tr>\n",
       "    <tr>\n",
       "      <th>10</th>\n",
       "      <td>ARP9CNW1187B9AEA4D</td>\n",
       "      <td>Claudio Abbado</td>\n",
       "      <td>Milan, Italy</td>\n",
       "      <td>45.46894</td>\n",
       "      <td>9.18103</td>\n",
       "      <td>1</td>\n",
       "    </tr>\n",
       "    <tr>\n",
       "      <th>11</th>\n",
       "      <td>ARD9T1Q1187B9A65F0</td>\n",
       "      <td>Claudio Abbado</td>\n",
       "      <td>Milan, Italy</td>\n",
       "      <td>45.46894</td>\n",
       "      <td>9.18103</td>\n",
       "      <td>2</td>\n",
       "    </tr>\n",
       "    <tr>\n",
       "      <th>12</th>\n",
       "      <td>AREBEX91187B9B34A1</td>\n",
       "      <td>Climax Blues Band</td>\n",
       "      <td>Stafford, England</td>\n",
       "      <td>52.80290</td>\n",
       "      <td>-2.10633</td>\n",
       "      <td>1</td>\n",
       "    </tr>\n",
       "    <tr>\n",
       "      <th>13</th>\n",
       "      <td>AREU81S1187FB4A745</td>\n",
       "      <td>Climax Blues Band</td>\n",
       "      <td>Unknown</td>\n",
       "      <td>-9999.00000</td>\n",
       "      <td>-9999.00000</td>\n",
       "      <td>2</td>\n",
       "    </tr>\n",
       "    <tr>\n",
       "      <th>14</th>\n",
       "      <td>AR67R5N1187FB520F0</td>\n",
       "      <td>Compay Segundo</td>\n",
       "      <td>Cuba</td>\n",
       "      <td>-9999.00000</td>\n",
       "      <td>-9999.00000</td>\n",
       "      <td>1</td>\n",
       "    </tr>\n",
       "    <tr>\n",
       "      <th>15</th>\n",
       "      <td>ARYTLZQ1187FB4DC7A</td>\n",
       "      <td>Compay Segundo</td>\n",
       "      <td>Cuba</td>\n",
       "      <td>-9999.00000</td>\n",
       "      <td>-9999.00000</td>\n",
       "      <td>2</td>\n",
       "    </tr>\n",
       "    <tr>\n",
       "      <th>16</th>\n",
       "      <td>ARJCHMU1187FB56A55</td>\n",
       "      <td>DJ Krush &amp; Toshinori Kondo</td>\n",
       "      <td>Unknown</td>\n",
       "      <td>-9999.00000</td>\n",
       "      <td>-9999.00000</td>\n",
       "      <td>1</td>\n",
       "    </tr>\n",
       "    <tr>\n",
       "      <th>17</th>\n",
       "      <td>ARH7O4C1187B9A5837</td>\n",
       "      <td>DJ Krush &amp; Toshinori Kondo</td>\n",
       "      <td>Unknown</td>\n",
       "      <td>-9999.00000</td>\n",
       "      <td>-9999.00000</td>\n",
       "      <td>2</td>\n",
       "    </tr>\n",
       "    <tr>\n",
       "      <th>18</th>\n",
       "      <td>ARM9D3N1187FB39D46</td>\n",
       "      <td>Danielson</td>\n",
       "      <td>Clarksboro, NJ</td>\n",
       "      <td>39.80493</td>\n",
       "      <td>-75.22939</td>\n",
       "      <td>1</td>\n",
       "    </tr>\n",
       "    <tr>\n",
       "      <th>19</th>\n",
       "      <td>ARN9PWP1187FB413A8</td>\n",
       "      <td>Danielson</td>\n",
       "      <td>Unknown</td>\n",
       "      <td>-9999.00000</td>\n",
       "      <td>-9999.00000</td>\n",
       "      <td>2</td>\n",
       "    </tr>\n",
       "  </tbody>\n",
       "</table>\n",
       "</div>"
      ],
      "text/plain": [
       "                     0                                            1  \\\n",
       "0   ARFMT4W1187FB42FA8                                Alison Krauss   \n",
       "1   ARF2SVO1187FB53E8F                                Alison Krauss   \n",
       "2   ARFQXJO11F50C4CFD4  Asheru And Blue Black Of The Unspoken Heard   \n",
       "3   AR6OQLJ1187B9B032E  Asheru And Blue Black Of The Unspoken Heard   \n",
       "4   AR4YYCG1187B9BA09E                               Aterciopelados   \n",
       "5   ARQDJVK11F33DFFFE5                               Aterciopelados   \n",
       "6   ARTDQRC1187FB4EFD4                              Black Eyed Peas   \n",
       "7   ARRR0C11187B98C59B                              Black Eyed Peas   \n",
       "8   ARG4K2W1187B99EA5D                             Charles Aznavour   \n",
       "9   ARWJAMZ1187B9B32CA                             Charles Aznavour   \n",
       "10  ARP9CNW1187B9AEA4D                               Claudio Abbado   \n",
       "11  ARD9T1Q1187B9A65F0                               Claudio Abbado   \n",
       "12  AREBEX91187B9B34A1                            Climax Blues Band   \n",
       "13  AREU81S1187FB4A745                            Climax Blues Band   \n",
       "14  AR67R5N1187FB520F0                               Compay Segundo   \n",
       "15  ARYTLZQ1187FB4DC7A                               Compay Segundo   \n",
       "16  ARJCHMU1187FB56A55                   DJ Krush & Toshinori Kondo   \n",
       "17  ARH7O4C1187B9A5837                   DJ Krush & Toshinori Kondo   \n",
       "18  ARM9D3N1187FB39D46                                    Danielson   \n",
       "19  ARN9PWP1187FB413A8                                    Danielson   \n",
       "\n",
       "                    2           3           4  5  \n",
       "0         Decatur, IL -9999.00000 -9999.00000  1  \n",
       "1             Unknown -9999.00000 -9999.00000  2  \n",
       "2             Unknown -9999.00000 -9999.00000  1  \n",
       "3             Unknown -9999.00000 -9999.00000  2  \n",
       "4     Bogotá Colombia     4.65637   -74.11779  1  \n",
       "5             Unknown -9999.00000 -9999.00000  2  \n",
       "6     Los Angeles, CA -9999.00000 -9999.00000  1  \n",
       "7             Unknown -9999.00000 -9999.00000  2  \n",
       "8            Virginia    38.00335   -79.77127  1  \n",
       "9                  US -9999.00000 -9999.00000  2  \n",
       "10       Milan, Italy    45.46894     9.18103  1  \n",
       "11       Milan, Italy    45.46894     9.18103  2  \n",
       "12  Stafford, England    52.80290    -2.10633  1  \n",
       "13            Unknown -9999.00000 -9999.00000  2  \n",
       "14               Cuba -9999.00000 -9999.00000  1  \n",
       "15               Cuba -9999.00000 -9999.00000  2  \n",
       "16            Unknown -9999.00000 -9999.00000  1  \n",
       "17            Unknown -9999.00000 -9999.00000  2  \n",
       "18     Clarksboro, NJ    39.80493   -75.22939  1  \n",
       "19            Unknown -9999.00000 -9999.00000  2  "
      ]
     },
     "execution_count": 77,
     "metadata": {},
     "output_type": "execute_result"
    }
   ],
   "source": [
    "pd.DataFrame(cur.fetchall()).head(20)"
   ]
  },
  {
   "cell_type": "code",
   "execution_count": 78,
   "metadata": {
    "editable": true
   },
   "outputs": [],
   "source": [
    "# A Query to get the Unique Artists Records based on their names, all duplicated names have different IDs, so they are still different and consistant with the DDL of the Artist tables\n",
    "#, but to get the unique Artist for song play table we will get the records with the most available data in the other columns like ARTIST_LATITUDE DESC, ARTIST_LONGITUTE DESC,ARTIST_LOCATION ASC\n",
    "cur.execute(\"\"\"\n",
    "SELECT COUNT(*) FROM\n",
    "(\n",
    "SELECT ARTIST_ID,ARTIST_NAME,\n",
    "ROW_NUMBER() OVER (PARTITION BY ARTIST_NAME ORDER BY ARTIST_LATITUDE DESC, ARTIST_LONGITUTE DESC,ARTIST_LOCATION ASC) AS ROW_NUM\n",
    "FROM SPARKIFY_SCHEMA.ARTIST_TBL\n",
    ") AS ARTIST_OUTPUT\n",
    "WHERE ROW_NUM = 1\n",
    "\"\"\")"
   ]
  },
  {
   "cell_type": "code",
   "execution_count": 79,
   "metadata": {
    "editable": true
   },
   "outputs": [
    {
     "data": {
      "text/plain": [
       "[(9506,)]"
      ]
     },
     "execution_count": 79,
     "metadata": {},
     "output_type": "execute_result"
    }
   ],
   "source": [
    "cur.fetchall()"
   ]
  },
  {
   "cell_type": "code",
   "execution_count": 80,
   "metadata": {
    "editable": true
   },
   "outputs": [],
   "source": [
    "cur.execute(\"\"\"\n",
    "SELECT * FROM SPARKIFY_SCHEMA.SONG_TBL\n",
    "WHERE SONG_TITLE IN\n",
    "(\n",
    "SELECT SONG_TITLE\n",
    "FROM SPARKIFY_SCHEMA.SONG_TBL\n",
    "GROUP BY SONG_TITLE\n",
    "HAVING COUNT(*) > 1\n",
    ")\n",
    "ORDER BY SONG_TITLE\n",
    "\"\"\")"
   ]
  },
  {
   "cell_type": "code",
   "execution_count": 81,
   "metadata": {
    "editable": true
   },
   "outputs": [
    {
     "data": {
      "text/html": [
       "<div>\n",
       "<style scoped>\n",
       "    .dataframe tbody tr th:only-of-type {\n",
       "        vertical-align: middle;\n",
       "    }\n",
       "\n",
       "    .dataframe tbody tr th {\n",
       "        vertical-align: top;\n",
       "    }\n",
       "\n",
       "    .dataframe thead th {\n",
       "        text-align: right;\n",
       "    }\n",
       "</style>\n",
       "<table border=\"1\" class=\"dataframe\">\n",
       "  <thead>\n",
       "    <tr style=\"text-align: right;\">\n",
       "      <th></th>\n",
       "      <th>0</th>\n",
       "      <th>1</th>\n",
       "      <th>2</th>\n",
       "      <th>3</th>\n",
       "      <th>4</th>\n",
       "    </tr>\n",
       "  </thead>\n",
       "  <tbody>\n",
       "    <tr>\n",
       "      <th>0</th>\n",
       "      <td>SOKOGIP12AB0182FCD</td>\n",
       "      <td>AROS1ML1187FB4CF35</td>\n",
       "      <td>200.90730</td>\n",
       "      <td>Adrenaline</td>\n",
       "      <td>2007</td>\n",
       "    </tr>\n",
       "    <tr>\n",
       "      <th>1</th>\n",
       "      <td>SODEQCE12A8C13EB88</td>\n",
       "      <td>ARWQU7G1187B99B7E6</td>\n",
       "      <td>298.86649</td>\n",
       "      <td>Adrenaline</td>\n",
       "      <td>2007</td>\n",
       "    </tr>\n",
       "    <tr>\n",
       "      <th>2</th>\n",
       "      <td>SOGWOQM12A8C13D5AE</td>\n",
       "      <td>AR6K9YV1187B9B4BF9</td>\n",
       "      <td>312.24118</td>\n",
       "      <td>Affliction</td>\n",
       "      <td>2008</td>\n",
       "    </tr>\n",
       "    <tr>\n",
       "      <th>3</th>\n",
       "      <td>SOISFRK12A6D4F573D</td>\n",
       "      <td>AR2FAMK1187FB4CF60</td>\n",
       "      <td>328.72444</td>\n",
       "      <td>Affliction</td>\n",
       "      <td>2006</td>\n",
       "    </tr>\n",
       "    <tr>\n",
       "      <th>4</th>\n",
       "      <td>SODADQS12AB018294F</td>\n",
       "      <td>ARGA92H1187B9B5E5D</td>\n",
       "      <td>155.74159</td>\n",
       "      <td>Africa</td>\n",
       "      <td>-9999</td>\n",
       "    </tr>\n",
       "    <tr>\n",
       "      <th>5</th>\n",
       "      <td>SOKWAIM12A8C137350</td>\n",
       "      <td>AR0693R1187FB59D32</td>\n",
       "      <td>173.97506</td>\n",
       "      <td>Africa</td>\n",
       "      <td>1998</td>\n",
       "    </tr>\n",
       "    <tr>\n",
       "      <th>6</th>\n",
       "      <td>SOQMKZE12A8C134EAB</td>\n",
       "      <td>ARZ9W8K1187B99793C</td>\n",
       "      <td>198.84363</td>\n",
       "      <td>Airport</td>\n",
       "      <td>2007</td>\n",
       "    </tr>\n",
       "    <tr>\n",
       "      <th>7</th>\n",
       "      <td>SODGJMJ12A8C140C98</td>\n",
       "      <td>AR655VL1187B9B61E3</td>\n",
       "      <td>274.23302</td>\n",
       "      <td>Airport</td>\n",
       "      <td>2005</td>\n",
       "    </tr>\n",
       "    <tr>\n",
       "      <th>8</th>\n",
       "      <td>SODVFGB12A8AE4615E</td>\n",
       "      <td>ARR1C0N1187FB372DF</td>\n",
       "      <td>187.24526</td>\n",
       "      <td>All I Need</td>\n",
       "      <td>1988</td>\n",
       "    </tr>\n",
       "    <tr>\n",
       "      <th>9</th>\n",
       "      <td>SOCMYPE12AC3DF7FDB</td>\n",
       "      <td>ARKIOZX122BCFCB4DC</td>\n",
       "      <td>193.27955</td>\n",
       "      <td>All I Need</td>\n",
       "      <td>2009</td>\n",
       "    </tr>\n",
       "    <tr>\n",
       "      <th>10</th>\n",
       "      <td>SOEWJOV12AF72A2661</td>\n",
       "      <td>ARSMQR01187FB38EB2</td>\n",
       "      <td>521.29914</td>\n",
       "      <td>All In Good Time</td>\n",
       "      <td>1989</td>\n",
       "    </tr>\n",
       "    <tr>\n",
       "      <th>11</th>\n",
       "      <td>SOYQVOE12AB018C8B8</td>\n",
       "      <td>AREMPER1187B9AEB42</td>\n",
       "      <td>204.06812</td>\n",
       "      <td>All In Good Time</td>\n",
       "      <td>2004</td>\n",
       "    </tr>\n",
       "    <tr>\n",
       "      <th>12</th>\n",
       "      <td>SOYOZZK12A6D4F8CF9</td>\n",
       "      <td>AR1S5O61187B9898AC</td>\n",
       "      <td>289.07057</td>\n",
       "      <td>All Or Nothing</td>\n",
       "      <td>1995</td>\n",
       "    </tr>\n",
       "    <tr>\n",
       "      <th>13</th>\n",
       "      <td>SOSXESK12AB0180414</td>\n",
       "      <td>ARZDUML1187B9AD101</td>\n",
       "      <td>303.22893</td>\n",
       "      <td>All Or Nothing</td>\n",
       "      <td>-9999</td>\n",
       "    </tr>\n",
       "    <tr>\n",
       "      <th>14</th>\n",
       "      <td>SOTGLCR12A8C135270</td>\n",
       "      <td>ARCJYI61187B9A0349</td>\n",
       "      <td>364.59057</td>\n",
       "      <td>Alone</td>\n",
       "      <td>2005</td>\n",
       "    </tr>\n",
       "    <tr>\n",
       "      <th>15</th>\n",
       "      <td>SOUOVIB12AF729C93A</td>\n",
       "      <td>ART9VTZ1187FB48DDC</td>\n",
       "      <td>329.35138</td>\n",
       "      <td>Alone</td>\n",
       "      <td>1972</td>\n",
       "    </tr>\n",
       "    <tr>\n",
       "      <th>16</th>\n",
       "      <td>SOSFCKM12AC4688A4C</td>\n",
       "      <td>AR397IV1187B993878</td>\n",
       "      <td>292.44036</td>\n",
       "      <td>Alone</td>\n",
       "      <td>2010</td>\n",
       "    </tr>\n",
       "    <tr>\n",
       "      <th>17</th>\n",
       "      <td>SOETLIO12A58A7DCBB</td>\n",
       "      <td>ARDGHJ41187FB447E7</td>\n",
       "      <td>196.85832</td>\n",
       "      <td>Altitude</td>\n",
       "      <td>-9999</td>\n",
       "    </tr>\n",
       "    <tr>\n",
       "      <th>18</th>\n",
       "      <td>SOUKVDV12AC3DF7301</td>\n",
       "      <td>ARCECQ01187FB52B4A</td>\n",
       "      <td>149.91628</td>\n",
       "      <td>Altitude</td>\n",
       "      <td>-9999</td>\n",
       "    </tr>\n",
       "    <tr>\n",
       "      <th>19</th>\n",
       "      <td>SOFXNXU12AB018A46E</td>\n",
       "      <td>AR6468X1187FB5AA0C</td>\n",
       "      <td>280.94649</td>\n",
       "      <td>Always On My Mind</td>\n",
       "      <td>-9999</td>\n",
       "    </tr>\n",
       "  </tbody>\n",
       "</table>\n",
       "</div>"
      ],
      "text/plain": [
       "                     0                   1          2                  3     4\n",
       "0   SOKOGIP12AB0182FCD  AROS1ML1187FB4CF35  200.90730         Adrenaline  2007\n",
       "1   SODEQCE12A8C13EB88  ARWQU7G1187B99B7E6  298.86649         Adrenaline  2007\n",
       "2   SOGWOQM12A8C13D5AE  AR6K9YV1187B9B4BF9  312.24118         Affliction  2008\n",
       "3   SOISFRK12A6D4F573D  AR2FAMK1187FB4CF60  328.72444         Affliction  2006\n",
       "4   SODADQS12AB018294F  ARGA92H1187B9B5E5D  155.74159             Africa -9999\n",
       "5   SOKWAIM12A8C137350  AR0693R1187FB59D32  173.97506             Africa  1998\n",
       "6   SOQMKZE12A8C134EAB  ARZ9W8K1187B99793C  198.84363            Airport  2007\n",
       "7   SODGJMJ12A8C140C98  AR655VL1187B9B61E3  274.23302            Airport  2005\n",
       "8   SODVFGB12A8AE4615E  ARR1C0N1187FB372DF  187.24526         All I Need  1988\n",
       "9   SOCMYPE12AC3DF7FDB  ARKIOZX122BCFCB4DC  193.27955         All I Need  2009\n",
       "10  SOEWJOV12AF72A2661  ARSMQR01187FB38EB2  521.29914   All In Good Time  1989\n",
       "11  SOYQVOE12AB018C8B8  AREMPER1187B9AEB42  204.06812   All In Good Time  2004\n",
       "12  SOYOZZK12A6D4F8CF9  AR1S5O61187B9898AC  289.07057     All Or Nothing  1995\n",
       "13  SOSXESK12AB0180414  ARZDUML1187B9AD101  303.22893     All Or Nothing -9999\n",
       "14  SOTGLCR12A8C135270  ARCJYI61187B9A0349  364.59057              Alone  2005\n",
       "15  SOUOVIB12AF729C93A  ART9VTZ1187FB48DDC  329.35138              Alone  1972\n",
       "16  SOSFCKM12AC4688A4C  AR397IV1187B993878  292.44036              Alone  2010\n",
       "17  SOETLIO12A58A7DCBB  ARDGHJ41187FB447E7  196.85832           Altitude -9999\n",
       "18  SOUKVDV12AC3DF7301  ARCECQ01187FB52B4A  149.91628           Altitude -9999\n",
       "19  SOFXNXU12AB018A46E  AR6468X1187FB5AA0C  280.94649  Always On My Mind -9999"
      ]
     },
     "execution_count": 81,
     "metadata": {},
     "output_type": "execute_result"
    }
   ],
   "source": [
    "pd.DataFrame(data=cur.fetchall()).head(20)"
   ]
  },
  {
   "cell_type": "code",
   "execution_count": 82,
   "metadata": {
    "editable": true
   },
   "outputs": [],
   "source": [
    "# doing the same for Song Table\n",
    "cur.execute(\"\"\"\n",
    "SELECT SONG_ID,SONG_TITLE,SONG_YEAR,\n",
    "ROW_NUMBER() OVER (PARTITION BY SONG_TITLE ORDER BY SONG_YEAR DESC) AS ROW_NUM\n",
    "FROM SPARKIFY_SCHEMA.SONG_TBL\n",
    "WHERE SONG_TITLE IN\n",
    "(\n",
    "SELECT SONG_TITLE\n",
    "FROM SPARKIFY_SCHEMA.SONG_TBL\n",
    "GROUP BY SONG_TITLE\n",
    "HAVING COUNT(*) > 1\n",
    ")\n",
    "ORDER BY SONG_TITLE\n",
    "\"\"\")"
   ]
  },
  {
   "cell_type": "code",
   "execution_count": 83,
   "metadata": {
    "editable": true
   },
   "outputs": [
    {
     "data": {
      "text/html": [
       "<div>\n",
       "<style scoped>\n",
       "    .dataframe tbody tr th:only-of-type {\n",
       "        vertical-align: middle;\n",
       "    }\n",
       "\n",
       "    .dataframe tbody tr th {\n",
       "        vertical-align: top;\n",
       "    }\n",
       "\n",
       "    .dataframe thead th {\n",
       "        text-align: right;\n",
       "    }\n",
       "</style>\n",
       "<table border=\"1\" class=\"dataframe\">\n",
       "  <thead>\n",
       "    <tr style=\"text-align: right;\">\n",
       "      <th></th>\n",
       "      <th>0</th>\n",
       "      <th>1</th>\n",
       "      <th>2</th>\n",
       "      <th>3</th>\n",
       "    </tr>\n",
       "  </thead>\n",
       "  <tbody>\n",
       "    <tr>\n",
       "      <th>0</th>\n",
       "      <td>SODEQCE12A8C13EB88</td>\n",
       "      <td>Adrenaline</td>\n",
       "      <td>2007</td>\n",
       "      <td>1</td>\n",
       "    </tr>\n",
       "    <tr>\n",
       "      <th>1</th>\n",
       "      <td>SOKOGIP12AB0182FCD</td>\n",
       "      <td>Adrenaline</td>\n",
       "      <td>2007</td>\n",
       "      <td>2</td>\n",
       "    </tr>\n",
       "    <tr>\n",
       "      <th>2</th>\n",
       "      <td>SOGWOQM12A8C13D5AE</td>\n",
       "      <td>Affliction</td>\n",
       "      <td>2008</td>\n",
       "      <td>1</td>\n",
       "    </tr>\n",
       "    <tr>\n",
       "      <th>3</th>\n",
       "      <td>SOISFRK12A6D4F573D</td>\n",
       "      <td>Affliction</td>\n",
       "      <td>2006</td>\n",
       "      <td>2</td>\n",
       "    </tr>\n",
       "    <tr>\n",
       "      <th>4</th>\n",
       "      <td>SOKWAIM12A8C137350</td>\n",
       "      <td>Africa</td>\n",
       "      <td>1998</td>\n",
       "      <td>1</td>\n",
       "    </tr>\n",
       "    <tr>\n",
       "      <th>5</th>\n",
       "      <td>SODADQS12AB018294F</td>\n",
       "      <td>Africa</td>\n",
       "      <td>-9999</td>\n",
       "      <td>2</td>\n",
       "    </tr>\n",
       "    <tr>\n",
       "      <th>6</th>\n",
       "      <td>SOQMKZE12A8C134EAB</td>\n",
       "      <td>Airport</td>\n",
       "      <td>2007</td>\n",
       "      <td>1</td>\n",
       "    </tr>\n",
       "    <tr>\n",
       "      <th>7</th>\n",
       "      <td>SODGJMJ12A8C140C98</td>\n",
       "      <td>Airport</td>\n",
       "      <td>2005</td>\n",
       "      <td>2</td>\n",
       "    </tr>\n",
       "    <tr>\n",
       "      <th>8</th>\n",
       "      <td>SOCMYPE12AC3DF7FDB</td>\n",
       "      <td>All I Need</td>\n",
       "      <td>2009</td>\n",
       "      <td>1</td>\n",
       "    </tr>\n",
       "    <tr>\n",
       "      <th>9</th>\n",
       "      <td>SODVFGB12A8AE4615E</td>\n",
       "      <td>All I Need</td>\n",
       "      <td>1988</td>\n",
       "      <td>2</td>\n",
       "    </tr>\n",
       "    <tr>\n",
       "      <th>10</th>\n",
       "      <td>SOYQVOE12AB018C8B8</td>\n",
       "      <td>All In Good Time</td>\n",
       "      <td>2004</td>\n",
       "      <td>1</td>\n",
       "    </tr>\n",
       "    <tr>\n",
       "      <th>11</th>\n",
       "      <td>SOEWJOV12AF72A2661</td>\n",
       "      <td>All In Good Time</td>\n",
       "      <td>1989</td>\n",
       "      <td>2</td>\n",
       "    </tr>\n",
       "    <tr>\n",
       "      <th>12</th>\n",
       "      <td>SOYOZZK12A6D4F8CF9</td>\n",
       "      <td>All Or Nothing</td>\n",
       "      <td>1995</td>\n",
       "      <td>1</td>\n",
       "    </tr>\n",
       "    <tr>\n",
       "      <th>13</th>\n",
       "      <td>SOSXESK12AB0180414</td>\n",
       "      <td>All Or Nothing</td>\n",
       "      <td>-9999</td>\n",
       "      <td>2</td>\n",
       "    </tr>\n",
       "    <tr>\n",
       "      <th>14</th>\n",
       "      <td>SOSFCKM12AC4688A4C</td>\n",
       "      <td>Alone</td>\n",
       "      <td>2010</td>\n",
       "      <td>1</td>\n",
       "    </tr>\n",
       "    <tr>\n",
       "      <th>15</th>\n",
       "      <td>SOTGLCR12A8C135270</td>\n",
       "      <td>Alone</td>\n",
       "      <td>2005</td>\n",
       "      <td>2</td>\n",
       "    </tr>\n",
       "    <tr>\n",
       "      <th>16</th>\n",
       "      <td>SOUOVIB12AF729C93A</td>\n",
       "      <td>Alone</td>\n",
       "      <td>1972</td>\n",
       "      <td>3</td>\n",
       "    </tr>\n",
       "    <tr>\n",
       "      <th>17</th>\n",
       "      <td>SOETLIO12A58A7DCBB</td>\n",
       "      <td>Altitude</td>\n",
       "      <td>-9999</td>\n",
       "      <td>1</td>\n",
       "    </tr>\n",
       "    <tr>\n",
       "      <th>18</th>\n",
       "      <td>SOUKVDV12AC3DF7301</td>\n",
       "      <td>Altitude</td>\n",
       "      <td>-9999</td>\n",
       "      <td>2</td>\n",
       "    </tr>\n",
       "    <tr>\n",
       "      <th>19</th>\n",
       "      <td>SORQBAD12A67ADADAB</td>\n",
       "      <td>Always On My Mind</td>\n",
       "      <td>2005</td>\n",
       "      <td>1</td>\n",
       "    </tr>\n",
       "  </tbody>\n",
       "</table>\n",
       "</div>"
      ],
      "text/plain": [
       "                     0                  1     2  3\n",
       "0   SODEQCE12A8C13EB88         Adrenaline  2007  1\n",
       "1   SOKOGIP12AB0182FCD         Adrenaline  2007  2\n",
       "2   SOGWOQM12A8C13D5AE         Affliction  2008  1\n",
       "3   SOISFRK12A6D4F573D         Affliction  2006  2\n",
       "4   SOKWAIM12A8C137350             Africa  1998  1\n",
       "5   SODADQS12AB018294F             Africa -9999  2\n",
       "6   SOQMKZE12A8C134EAB            Airport  2007  1\n",
       "7   SODGJMJ12A8C140C98            Airport  2005  2\n",
       "8   SOCMYPE12AC3DF7FDB         All I Need  2009  1\n",
       "9   SODVFGB12A8AE4615E         All I Need  1988  2\n",
       "10  SOYQVOE12AB018C8B8   All In Good Time  2004  1\n",
       "11  SOEWJOV12AF72A2661   All In Good Time  1989  2\n",
       "12  SOYOZZK12A6D4F8CF9     All Or Nothing  1995  1\n",
       "13  SOSXESK12AB0180414     All Or Nothing -9999  2\n",
       "14  SOSFCKM12AC4688A4C              Alone  2010  1\n",
       "15  SOTGLCR12A8C135270              Alone  2005  2\n",
       "16  SOUOVIB12AF729C93A              Alone  1972  3\n",
       "17  SOETLIO12A58A7DCBB           Altitude -9999  1\n",
       "18  SOUKVDV12AC3DF7301           Altitude -9999  2\n",
       "19  SORQBAD12A67ADADAB  Always On My Mind  2005  1"
      ]
     },
     "execution_count": 83,
     "metadata": {},
     "output_type": "execute_result"
    }
   ],
   "source": [
    "pd.DataFrame(data=cur.fetchall()).head(20)"
   ]
  }
 ],
 "metadata": {
  "kernelspec": {
   "display_name": "Python 3",
   "language": "python",
   "name": "python3"
  },
  "language_info": {
   "codemirror_mode": {
    "name": "ipython",
    "version": 3
   },
   "file_extension": ".py",
   "mimetype": "text/x-python",
   "name": "python",
   "nbconvert_exporter": "python",
   "pygments_lexer": "ipython3",
   "version": "3.6.3"
  }
 },
 "nbformat": 4,
 "nbformat_minor": 4
}
